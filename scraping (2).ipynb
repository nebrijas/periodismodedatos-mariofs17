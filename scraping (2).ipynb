{
 "cells": [
  {
   "cell_type": "markdown",
   "id": "154dfb9a",
   "metadata": {},
   "source": [
    "# Práctica de Web Scraping Ampliada"
   ]
  },
  {
   "cell_type": "markdown",
   "id": "f1fa6daf",
   "metadata": {},
   "source": [
    "## Importar librerías "
   ]
  },
  {
   "cell_type": "markdown",
   "id": "59e1a3ab",
   "metadata": {},
   "source": [
    "Ahora importo la libería [requests](https://docs.python-requests.org/en/latest/)"
   ]
  },
  {
   "cell_type": "markdown",
   "id": "eb1ef6e6",
   "metadata": {},
   "source": [
    "Es utilizada para importar los datos de una web y las peticiones web."
   ]
  },
  {
   "cell_type": "code",
   "execution_count": 26,
   "id": "4661b72b",
   "metadata": {},
   "outputs": [],
   "source": [
    "import requests"
   ]
  },
  {
   "cell_type": "markdown",
   "id": "92a28929",
   "metadata": {},
   "source": [
    "Voy a importar de la librería [bs4](https://www.crummy.com/software/BeautifulSoup/bs4/doc/) `BeautifulSoup`"
   ]
  },
  {
   "cell_type": "code",
   "execution_count": 27,
   "id": "239cde47",
   "metadata": {},
   "outputs": [],
   "source": [
    "from bs4 import BeautifulSoup"
   ]
  },
  {
   "cell_type": "markdown",
   "id": "f9cdf1d4",
   "metadata": {},
   "source": [
    "Es una biblioteca de Python para analizar documentos HTML que te has descargado. "
   ]
  },
  {
   "cell_type": "markdown",
   "id": "1b4fdd2b",
   "metadata": {},
   "source": [
    "## Variables"
   ]
  },
  {
   "cell_type": "markdown",
   "id": "772a96a2",
   "metadata": {},
   "source": [
    "Explicación de las variables que definirán y clasificarán los datos de la web. Para poder estudiar y definir la muestra en función de los datos disponibles en la web elegida."
   ]
  },
  {
   "cell_type": "markdown",
   "id": "c9c199b4",
   "metadata": {},
   "source": [
    "### Definimos URL"
   ]
  },
  {
   "cell_type": "markdown",
   "id": "8872a2b4",
   "metadata": {},
   "source": [
    "La URL que hemos escogido es un listado de los páises con más medallas olímpicas elaborada por El País."
   ]
  },
  {
   "cell_type": "code",
   "execution_count": 28,
   "id": "be8787c3",
   "metadata": {},
   "outputs": [],
   "source": [
    "URL = \"https://resultados.elpais.com/deportivos/juegos-olimpicos/medallero/\""
   ]
  },
  {
   "cell_type": "markdown",
   "id": "72be41e7",
   "metadata": {},
   "source": [
    "### Realizamos la petición a la web"
   ]
  },
  {
   "cell_type": "markdown",
   "id": "e5f79257",
   "metadata": {},
   "source": [
    "Si el estatus code no es `200` no se puede leer la página, si el code es 200, te sale el mensaje \"vamos a por ellos\". Por lo que el code sirve para restingrir a los buscadores y las lecturas de la página"
   ]
  },
  {
   "cell_type": "markdown",
   "id": "8d1c6d37",
   "metadata": {},
   "source": [
    "Los mensjaes que nos saldrán si el code es o no es `200´"
   ]
  },
  {
   "cell_type": "code",
   "execution_count": null,
   "id": "5792474f",
   "metadata": {},
   "outputs": [],
   "source": [
    "req = requests.get(URL)\n",
    "if (req.status_code != 200):\n",
    "    raise Exception(\"No se puede hacer Web Scraping en\"+ URL)\n",
    "if (req.status_code == 200):\n",
    "    print(\"Vamos a por ello\")"
   ]
  },
  {
   "cell_type": "markdown",
   "id": "2a144626",
   "metadata": {},
   "source": [
    "### De resquests a BeautifulSoup"
   ]
  },
  {
   "cell_type": "markdown",
   "id": "df51e82a",
   "metadata": {},
   "source": [
    "Pasamos el contenido HTML de la web a un objeto BeautifulSoup(), que significa el objeto BeautifulSoup representa el documento analizado como un todo. En la mayoría de los casos, puede tratarlo como un objeto Etiqueta."
   ]
  },
  {
   "cell_type": "code",
   "execution_count": 30,
   "id": "30578d9f",
   "metadata": {},
   "outputs": [],
   "source": [
    "html = BeautifulSoup(req.text, \"html.parser\")"
   ]
  },
  {
   "cell_type": "markdown",
   "id": "0aa41f6f",
   "metadata": {},
   "source": [
    "### Variables de datos"
   ]
  },
  {
   "cell_type": "markdown",
   "id": "d7001e4c",
   "metadata": {},
   "source": [
    "Definimos las variables `paises`, `oros`, `platas`, `bronces` y `totales`; y las identificamos con la función `find_all()`, que significa buscar todos y analizar todas estas variables de datos (relacionados con los Juegos Olímpicos)."
   ]
  },
  {
   "cell_type": "code",
   "execution_count": 31,
   "id": "e00f38a8",
   "metadata": {},
   "outputs": [],
   "source": [
    "  paises = html.find_all(\"th\",{\"class\":\"pais\"})\n",
    "  oros = html.find_all(\"td\",{\"class\":\"m_oro\"})\n",
    "  platas = html.find_all(\"td\",{\"class\":\"m_plata\"})\n",
    "  bronces = html.find_all(\"td\",{\"class\":\"m_bronce\"})\n",
    "  totales = html.find_all(\"td\",{\"class\":\"m_total\"})"
   ]
  },
  {
   "cell_type": "markdown",
   "id": "b365a9d5",
   "metadata": {},
   "source": [
    "## Hacemos la pregunta"
   ]
  },
  {
   "cell_type": "code",
   "execution_count": null,
   "id": "f6f9ab3c",
   "metadata": {},
   "outputs": [],
   "source": [
    "La pregunta es un método de asegurarse de que el usuario quiere recibir el listado del País.\n",
    "Hacemos la pregunta definitiva que nos dará paso a la solución final,"
   ]
  },
  {
   "cell_type": "code",
   "execution_count": 33,
   "id": "ac5813ff",
   "metadata": {},
   "outputs": [
    {
     "name": "stdout",
     "output_type": "stream",
     "text": [
      "¿QUIERES CONOCER LOS 20 PAÍSES QUE HAN OBTENIDO MÁS MEDALLAS EN 2020?\n",
      " \n",
      " Si tu respuesta es Sí, presiona \"s\" \n",
      "s\n",
      "\n",
      "De acuerdo\n",
      "\n"
     ]
    }
   ],
   "source": [
    "respuesta=input('¿QUIERES CONOCER LOS 20 PAÍSES QUE HAN OBTENIDO MÁS MEDALLAS EN 2020?\\n \\n Si tu respuesta es Sí, presiona \"s\" \\n')\n",
    "if(respuesta == 's'): \n",
    "    print('\\nDe acuerdo\\n')\n",
    "  \n"
   ]
  },
  {
   "cell_type": "markdown",
   "id": "343d8adf",
   "metadata": {},
   "source": [
    "## Bucle para obtener los datos"
   ]
  },
  {
   "cell_type": "markdown",
   "id": "aa9bec6d",
   "metadata": {},
   "source": [
    "Tiene la funcionalidad de obtener todos los divs, donde están las entradas. El bucle se utiliza para recorrer los elementos de un objeto iterable (lista, tupla, conjunto, diccionario, …) y ejecutar un bloque de código.\n",
    "\n",
    "Al ejecutar el bucle, hemos programado para que salgan los resultados de búsqueda y si la función es falsa, salga \"Qué lástima, y...\".\n"
   ]
  },
  {
   "cell_type": "code",
   "execution_count": null,
   "id": "8701602c",
   "metadata": {},
   "outputs": [],
   "source": [
    "print('\\nRESULTADOS DE LOS DATOS DE LOS JUEGOS OLÍMPICOS 2020\\n')\n",
    "print ('PAÍSES')\n",
    "\n",
    "for i in range (20):\n",
    "    # Con el método \"getText()\" no nos devuelve el HTML\n",
    "    print(\"%d. %s \\nOro: %s Plata: %s Bronce: %s \\n Total: %s \\n \" % (i+1, paises[i+1].text.strip(),oros[i].text.strip(),platas[i].text.strip(),bronces[i].text.strip(), totales[i].text.strip()))\n",
    "\n",
    "else:\n",
    "  print('Qué lástima, y...')"
   ]
  },
  {
   "cell_type": "code",
   "execution_count": null,
   "id": "2797199b",
   "metadata": {},
   "outputs": [],
   "source": []
  }
 ],
 "metadata": {
  "kernelspec": {
   "display_name": "Python 3",
   "language": "python",
   "name": "python3"
  },
  "language_info": {
   "codemirror_mode": {
    "name": "ipython",
    "version": 3
   },
   "file_extension": ".py",
   "mimetype": "text/x-python",
   "name": "python",
   "nbconvert_exporter": "python",
   "pygments_lexer": "ipython3",
   "version": "3.8.8"
  }
 },
 "nbformat": 4,
 "nbformat_minor": 5
}
