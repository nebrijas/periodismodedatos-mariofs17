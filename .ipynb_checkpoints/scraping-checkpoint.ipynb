{
 "cells": [
  {
   "cell_type": "markdown",
   "id": "154dfb9a",
   "metadata": {},
   "source": [
    "# Práctica de Web Scraping"
   ]
  },
  {
   "cell_type": "markdown",
   "id": "f1fa6daf",
   "metadata": {},
   "source": [
    "## Importar librerías"
   ]
  },
  {
   "cell_type": "markdown",
   "id": "59e1a3ab",
   "metadata": {},
   "source": [
    "Ahora importo la libería [requests](https://docs.python-requests.org/en/latest/)"
   ]
  },
  {
   "cell_type": "code",
   "execution_count": 26,
   "id": "4661b72b",
   "metadata": {},
   "outputs": [],
   "source": [
    "import requests"
   ]
  },
  {
   "cell_type": "markdown",
   "id": "92a28929",
   "metadata": {},
   "source": [
    "Voy a importar de la librería [bs4](https://www.crummy.com/software/BeautifulSoup/bs4/doc/) `BeautifulSoup`"
   ]
  },
  {
   "cell_type": "code",
   "execution_count": 27,
   "id": "239cde47",
   "metadata": {},
   "outputs": [],
   "source": [
    "from bs4 import BeautifulSoup"
   ]
  },
  {
   "cell_type": "markdown",
   "id": "1b4fdd2b",
   "metadata": {},
   "source": [
    "## Variables"
   ]
  },
  {
   "cell_type": "markdown",
   "id": "772a96a2",
   "metadata": {},
   "source": [
    "Explicación de variables"
   ]
  },
  {
   "cell_type": "markdown",
   "id": "c9c199b4",
   "metadata": {},
   "source": [
    "### Definimos URL"
   ]
  },
  {
   "cell_type": "code",
   "execution_count": 28,
   "id": "be8787c3",
   "metadata": {},
   "outputs": [],
   "source": [
    "URL = \"https://resultados.elpais.com/deportivos/juegos-olimpicos/medallero/\""
   ]
  },
  {
   "cell_type": "markdown",
   "id": "72be41e7",
   "metadata": {},
   "source": [
    "### Realizamos la petición a la web"
   ]
  },
  {
   "cell_type": "markdown",
   "id": "e5f79257",
   "metadata": {},
   "source": [
    "Si el estatus code no es `200` no se puede leer la página"
   ]
  },
  {
   "cell_type": "code",
   "execution_count": null,
   "id": "42ac8194",
   "metadata": {},
   "outputs": [],
   "source": []
  },
  {
   "cell_type": "code",
   "execution_count": 29,
   "id": "42938e39",
   "metadata": {},
   "outputs": [
    {
     "name": "stdout",
     "output_type": "stream",
     "text": [
      "Vamos a por ello\n"
     ]
    }
   ],
   "source": [
    "req = requests.get(URL)\n",
    "if (req.status_code != 200):\n",
    "    raise Exception(\"No se puede hacer Web Scraping en\"+ URL)\n",
    "if (req.status_code == 200):\n",
    "    print(\"Vamos a por ello\")"
   ]
  },
  {
   "cell_type": "markdown",
   "id": "2a144626",
   "metadata": {},
   "source": [
    "### De resquests a BeautifulSoup"
   ]
  },
  {
   "cell_type": "markdown",
   "id": "df51e82a",
   "metadata": {},
   "source": [
    "Pasamos el contenido HTML de la web a un objeto BeautifulSoup()"
   ]
  },
  {
   "cell_type": "code",
   "execution_count": 30,
   "id": "30578d9f",
   "metadata": {},
   "outputs": [],
   "source": [
    "html = BeautifulSoup(req.text, \"html.parser\")"
   ]
  },
  {
   "cell_type": "markdown",
   "id": "0aa41f6f",
   "metadata": {},
   "source": [
    "### Variables de datos"
   ]
  },
  {
   "cell_type": "markdown",
   "id": "d7001e4c",
   "metadata": {},
   "source": [
    "Definimos las variables `paises`, `oros`, `platas`, `bronces` y `totales`; y las identificamos con la función `find_all()`"
   ]
  },
  {
   "cell_type": "code",
   "execution_count": 31,
   "id": "e00f38a8",
   "metadata": {},
   "outputs": [],
   "source": [
    "  paises = html.find_all(\"th\",{\"class\":\"pais\"})\n",
    "  oros = html.find_all(\"td\",{\"class\":\"m_oro\"})\n",
    "  platas = html.find_all(\"td\",{\"class\":\"m_plata\"})\n",
    "  bronces = html.find_all(\"td\",{\"class\":\"m_bronce\"})\n",
    "  totales = html.find_all(\"td\",{\"class\":\"m_total\"})"
   ]
  },
  {
   "cell_type": "markdown",
   "id": "b365a9d5",
   "metadata": {},
   "source": [
    "## Hacemos la pregunta"
   ]
  },
  {
   "cell_type": "code",
   "execution_count": 33,
   "id": "ac5813ff",
   "metadata": {},
   "outputs": [
    {
     "name": "stdout",
     "output_type": "stream",
     "text": [
      "¿QUIERES CONOCER LOS 20 PAÍSES QUE HAN OBTENIDO MÁS MEDALLAS EN 2020?\n",
      " \n",
      " Si tu respuesta es Sí, presiona \"s\" \n",
      "s\n",
      "\n",
      "De acuerdo\n",
      "\n"
     ]
    }
   ],
   "source": [
    "respuesta=input('¿QUIERES CONOCER LOS 20 PAÍSES QUE HAN OBTENIDO MÁS MEDALLAS EN 2020?\\n \\n Si tu respuesta es Sí, presiona \"s\" \\n')\n",
    "if(respuesta == 's'): \n",
    "    print('\\nDe acuerdo\\n')\n",
    "  "
   ]
  },
  {
   "cell_type": "markdown",
   "id": "343d8adf",
   "metadata": {},
   "source": [
    "## Bucle para obtener los datos"
   ]
  },
  {
   "cell_type": "markdown",
   "id": "aa9bec6d",
   "metadata": {},
   "source": [
    "Obtenemos todos los divs donde están las entradas"
   ]
  },
  {
   "cell_type": "code",
   "execution_count": null,
   "id": "8701602c",
   "metadata": {},
   "outputs": [],
   "source": [
    "print('\\nRESULTADOS DE LOS DATOS DE LOS JUEGOS OLÍMPICOS 2020\\n')\n",
    "print ('PAÍSES')\n",
    "\n",
    "for i in range (20):\n",
    "    # Con el método \"getText()\" no nos devuelve el HTML\n",
    "    print(\"%d. %s \\nOro: %s Plata: %s Bronce: %s \\n Total: %s \\n \" % (i+1, paises[i+1].text.strip(),oros[i].text.strip(),platas[i].text.strip(),bronces[i].text.strip(), totales[i].text.strip()))\n",
    "\n",
    "else:\n",
    "  print('Qué lástima, y...')"
   ]
  },
  {
   "cell_type": "code",
   "execution_count": null,
   "id": "2797199b",
   "metadata": {},
   "outputs": [],
   "source": []
  }
 ],
 "metadata": {
  "kernelspec": {
   "display_name": "Python 3",
   "language": "python",
   "name": "python3"
  },
  "language_info": {
   "codemirror_mode": {
    "name": "ipython",
    "version": 3
   },
   "file_extension": ".py",
   "mimetype": "text/x-python",
   "name": "python",
   "nbconvert_exporter": "python",
   "pygments_lexer": "ipython3",
   "version": "3.8.8"
  }
 },
 "nbformat": 4,
 "nbformat_minor": 5
}
