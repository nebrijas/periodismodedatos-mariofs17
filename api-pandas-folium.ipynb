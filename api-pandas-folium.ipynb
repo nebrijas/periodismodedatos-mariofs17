{
 "cells": [
  {
   "cell_type": "markdown",
   "id": "c0d4d272",
   "metadata": {},
   "source": [
    "# API PANDAS FOLIUM\n",
    "\n",
    "CROQUIS:\n",
    "\n",
    "- API\n",
    "- PANDAS\n",
    "- FOLIUM, MAPAS"
   ]
  },
  {
   "cell_type": "markdown",
   "id": "3f5be1bb",
   "metadata": {},
   "source": [
    "## INSTALAR LIBRERÍAS"
   ]
  },
  {
   "cell_type": "markdown",
   "id": "c596a70a",
   "metadata": {},
   "source": [
    "La instalación de pandas sirve para escribir datos en CSV, Excel, HDF5 y para poder crear, seleccionar y filtrar las tablas de datos. En este caso nos centramos en el estudio de la web de Zaragoza, con el fin de poder obtener los datos acerca del desarrollo de la pandemia en diferentes países. Hacer uso de la orden !pip install pandas"
   ]
  },
  {
   "cell_type": "code",
   "execution_count": 72,
   "id": "faaa3afc",
   "metadata": {},
   "outputs": [
    {
     "name": "stdout",
     "output_type": "stream",
     "text": [
      "Requirement already satisfied: pandas in c:\\programdata\\anaconda3\\lib\\site-packages (1.2.4)\n",
      "Requirement already satisfied: folium in c:\\programdata\\anaconda3\\lib\\site-packages (0.12.1.post1)\n",
      "Requirement already satisfied: numpy in c:\\programdata\\anaconda3\\lib\\site-packages (from folium) (1.20.1)\n",
      "Requirement already satisfied: branca>=0.3.0 in c:\\programdata\\anaconda3\\lib\\site-packages (from folium) (0.4.2)\n",
      "Requirement already satisfied: jinja2>=2.9 in c:\\programdata\\anaconda3\\lib\\site-packages (from folium) (2.11.3)\n",
      "Requirement already satisfied: requests in c:\\programdata\\anaconda3\\lib\\site-packages (from folium) (2.25.1)\n",
      "Requirement already satisfied: MarkupSafe>=0.23 in c:\\programdata\\anaconda3\\lib\\site-packages (from jinja2>=2.9->folium) (1.1.1)\n",
      "Requirement already satisfied: python-dateutil>=2.7.3 in c:\\programdata\\anaconda3\\lib\\site-packages (from pandas) (2.8.1)\n",
      "Requirement already satisfied: pytz>=2017.3 in c:\\programdata\\anaconda3\\lib\\site-packages (from pandas) (2021.1)\n",
      "Requirement already satisfied: six>=1.5 in c:\\programdata\\anaconda3\\lib\\site-packages (from python-dateutil>=2.7.3->pandas) (1.15.0)\n",
      "Requirement already satisfied: certifi>=2017.4.17 in c:\\programdata\\anaconda3\\lib\\site-packages (from requests->folium) (2020.12.5)\n",
      "Requirement already satisfied: idna<3,>=2.5 in c:\\programdata\\anaconda3\\lib\\site-packages (from requests->folium) (2.10)\n",
      "Requirement already satisfied: chardet<5,>=3.0.2 in c:\\programdata\\anaconda3\\lib\\site-packages (from requests->folium) (4.0.0)\n",
      "Requirement already satisfied: urllib3<1.27,>=1.21.1 in c:\\programdata\\anaconda3\\lib\\site-packages (from requests->folium) (1.26.4)\n"
     ]
    }
   ],
   "source": [
    "!pip install pandas folium"
   ]
  },
  {
   "cell_type": "markdown",
   "id": "fd021111",
   "metadata": {},
   "source": [
    "## Configurar librerías"
   ]
  },
  {
   "cell_type": "markdown",
   "id": "813513de",
   "metadata": {},
   "source": [
    "A continuación importamos las librerías import pandas as pd , que es un tipo de librería con la que recoger los datos para importar la biblioteca de análisis de Pandas a Python."
   ]
  },
  {
   "cell_type": "code",
   "execution_count": 73,
   "id": "9942d43e",
   "metadata": {},
   "outputs": [],
   "source": [
    "import pandas as pd\n",
    "import folium"
   ]
  },
  {
   "cell_type": "markdown",
   "id": "7a3636ae",
   "metadata": {},
   "source": [
    "## Variables\n",
    "- url: https://www.zaragoza.es/sede/servicio/transporte/accidentalidad-trafico/accidente.csv?rows=100\n",
    "- coords_zrgz\n",
    "- mapa"
   ]
  },
  {
   "cell_type": "markdown",
   "id": "dfb853bd",
   "metadata": {},
   "source": [
    "Son básica para que el programa trabaje con unos datos y pueda crear los listados y tablas. En este caso hace referencia a los datos disponibles del COVID-19."
   ]
  },
  {
   "cell_type": "code",
   "execution_count": 74,
   "id": "21905253",
   "metadata": {},
   "outputs": [],
   "source": [
    "url = 'https://www.zaragoza.es/sede/servicio/transporte/accidentalidad-trafico/accidente.csv?rows=100'\n",
    "coords_zrgz = [41.649693,-0.887712]\n",
    "mapa = folium.Map(location=coords_zrgz)"
   ]
  },
  {
   "cell_type": "markdown",
   "id": "724c21a7",
   "metadata": {},
   "source": [
    "Determinamos las variables con sus datos y enlaces, para poder obtener los gráficos y listas al relacionarles."
   ]
  },
  {
   "cell_type": "code",
   "execution_count": 75,
   "id": "0520b630",
   "metadata": {},
   "outputs": [
    {
     "data": {
      "text/html": [
       "<div style=\"width:100%;\"><div style=\"position:relative;width:100%;height:0;padding-bottom:60%;\"><span style=\"color:#565656\">Make this Notebook Trusted to load map: File -> Trust Notebook</span><iframe src=\"about:blank\" style=\"position:absolute;width:100%;height:100%;left:0;top:0;border:none !important;\" data-html=%3C%21DOCTYPE%20html%3E%0A%3Chead%3E%20%20%20%20%0A%20%20%20%20%3Cmeta%20http-equiv%3D%22content-type%22%20content%3D%22text/html%3B%20charset%3DUTF-8%22%20/%3E%0A%20%20%20%20%0A%20%20%20%20%20%20%20%20%3Cscript%3E%0A%20%20%20%20%20%20%20%20%20%20%20%20L_NO_TOUCH%20%3D%20false%3B%0A%20%20%20%20%20%20%20%20%20%20%20%20L_DISABLE_3D%20%3D%20false%3B%0A%20%20%20%20%20%20%20%20%3C/script%3E%0A%20%20%20%20%0A%20%20%20%20%3Cstyle%3Ehtml%2C%20body%20%7Bwidth%3A%20100%25%3Bheight%3A%20100%25%3Bmargin%3A%200%3Bpadding%3A%200%3B%7D%3C/style%3E%0A%20%20%20%20%3Cstyle%3E%23map%20%7Bposition%3Aabsolute%3Btop%3A0%3Bbottom%3A0%3Bright%3A0%3Bleft%3A0%3B%7D%3C/style%3E%0A%20%20%20%20%3Cscript%20src%3D%22https%3A//cdn.jsdelivr.net/npm/leaflet%401.6.0/dist/leaflet.js%22%3E%3C/script%3E%0A%20%20%20%20%3Cscript%20src%3D%22https%3A//code.jquery.com/jquery-1.12.4.min.js%22%3E%3C/script%3E%0A%20%20%20%20%3Cscript%20src%3D%22https%3A//maxcdn.bootstrapcdn.com/bootstrap/3.2.0/js/bootstrap.min.js%22%3E%3C/script%3E%0A%20%20%20%20%3Cscript%20src%3D%22https%3A//cdnjs.cloudflare.com/ajax/libs/Leaflet.awesome-markers/2.0.2/leaflet.awesome-markers.js%22%3E%3C/script%3E%0A%20%20%20%20%3Clink%20rel%3D%22stylesheet%22%20href%3D%22https%3A//cdn.jsdelivr.net/npm/leaflet%401.6.0/dist/leaflet.css%22/%3E%0A%20%20%20%20%3Clink%20rel%3D%22stylesheet%22%20href%3D%22https%3A//maxcdn.bootstrapcdn.com/bootstrap/3.2.0/css/bootstrap.min.css%22/%3E%0A%20%20%20%20%3Clink%20rel%3D%22stylesheet%22%20href%3D%22https%3A//maxcdn.bootstrapcdn.com/bootstrap/3.2.0/css/bootstrap-theme.min.css%22/%3E%0A%20%20%20%20%3Clink%20rel%3D%22stylesheet%22%20href%3D%22https%3A//maxcdn.bootstrapcdn.com/font-awesome/4.6.3/css/font-awesome.min.css%22/%3E%0A%20%20%20%20%3Clink%20rel%3D%22stylesheet%22%20href%3D%22https%3A//cdnjs.cloudflare.com/ajax/libs/Leaflet.awesome-markers/2.0.2/leaflet.awesome-markers.css%22/%3E%0A%20%20%20%20%3Clink%20rel%3D%22stylesheet%22%20href%3D%22https%3A//cdn.jsdelivr.net/gh/python-visualization/folium/folium/templates/leaflet.awesome.rotate.min.css%22/%3E%0A%20%20%20%20%0A%20%20%20%20%20%20%20%20%20%20%20%20%3Cmeta%20name%3D%22viewport%22%20content%3D%22width%3Ddevice-width%2C%0A%20%20%20%20%20%20%20%20%20%20%20%20%20%20%20%20initial-scale%3D1.0%2C%20maximum-scale%3D1.0%2C%20user-scalable%3Dno%22%20/%3E%0A%20%20%20%20%20%20%20%20%20%20%20%20%3Cstyle%3E%0A%20%20%20%20%20%20%20%20%20%20%20%20%20%20%20%20%23map_87582643ab2540feb5a06184a194e90d%20%7B%0A%20%20%20%20%20%20%20%20%20%20%20%20%20%20%20%20%20%20%20%20position%3A%20relative%3B%0A%20%20%20%20%20%20%20%20%20%20%20%20%20%20%20%20%20%20%20%20width%3A%20100.0%25%3B%0A%20%20%20%20%20%20%20%20%20%20%20%20%20%20%20%20%20%20%20%20height%3A%20100.0%25%3B%0A%20%20%20%20%20%20%20%20%20%20%20%20%20%20%20%20%20%20%20%20left%3A%200.0%25%3B%0A%20%20%20%20%20%20%20%20%20%20%20%20%20%20%20%20%20%20%20%20top%3A%200.0%25%3B%0A%20%20%20%20%20%20%20%20%20%20%20%20%20%20%20%20%7D%0A%20%20%20%20%20%20%20%20%20%20%20%20%3C/style%3E%0A%20%20%20%20%20%20%20%20%0A%3C/head%3E%0A%3Cbody%3E%20%20%20%20%0A%20%20%20%20%0A%20%20%20%20%20%20%20%20%20%20%20%20%3Cdiv%20class%3D%22folium-map%22%20id%3D%22map_87582643ab2540feb5a06184a194e90d%22%20%3E%3C/div%3E%0A%20%20%20%20%20%20%20%20%0A%3C/body%3E%0A%3Cscript%3E%20%20%20%20%0A%20%20%20%20%0A%20%20%20%20%20%20%20%20%20%20%20%20var%20map_87582643ab2540feb5a06184a194e90d%20%3D%20L.map%28%0A%20%20%20%20%20%20%20%20%20%20%20%20%20%20%20%20%22map_87582643ab2540feb5a06184a194e90d%22%2C%0A%20%20%20%20%20%20%20%20%20%20%20%20%20%20%20%20%7B%0A%20%20%20%20%20%20%20%20%20%20%20%20%20%20%20%20%20%20%20%20center%3A%20%5B41.649693%2C%20-0.887712%5D%2C%0A%20%20%20%20%20%20%20%20%20%20%20%20%20%20%20%20%20%20%20%20crs%3A%20L.CRS.EPSG3857%2C%0A%20%20%20%20%20%20%20%20%20%20%20%20%20%20%20%20%20%20%20%20zoom%3A%2010%2C%0A%20%20%20%20%20%20%20%20%20%20%20%20%20%20%20%20%20%20%20%20zoomControl%3A%20true%2C%0A%20%20%20%20%20%20%20%20%20%20%20%20%20%20%20%20%20%20%20%20preferCanvas%3A%20false%2C%0A%20%20%20%20%20%20%20%20%20%20%20%20%20%20%20%20%7D%0A%20%20%20%20%20%20%20%20%20%20%20%20%29%3B%0A%0A%20%20%20%20%20%20%20%20%20%20%20%20%0A%0A%20%20%20%20%20%20%20%20%0A%20%20%20%20%0A%20%20%20%20%20%20%20%20%20%20%20%20var%20tile_layer_8494da5a8597438e90d009e8a46bda17%20%3D%20L.tileLayer%28%0A%20%20%20%20%20%20%20%20%20%20%20%20%20%20%20%20%22https%3A//%7Bs%7D.tile.openstreetmap.org/%7Bz%7D/%7Bx%7D/%7By%7D.png%22%2C%0A%20%20%20%20%20%20%20%20%20%20%20%20%20%20%20%20%7B%22attribution%22%3A%20%22Data%20by%20%5Cu0026copy%3B%20%5Cu003ca%20href%3D%5C%22http%3A//openstreetmap.org%5C%22%5Cu003eOpenStreetMap%5Cu003c/a%5Cu003e%2C%20under%20%5Cu003ca%20href%3D%5C%22http%3A//www.openstreetmap.org/copyright%5C%22%5Cu003eODbL%5Cu003c/a%5Cu003e.%22%2C%20%22detectRetina%22%3A%20false%2C%20%22maxNativeZoom%22%3A%2018%2C%20%22maxZoom%22%3A%2018%2C%20%22minZoom%22%3A%200%2C%20%22noWrap%22%3A%20false%2C%20%22opacity%22%3A%201%2C%20%22subdomains%22%3A%20%22abc%22%2C%20%22tms%22%3A%20false%7D%0A%20%20%20%20%20%20%20%20%20%20%20%20%29.addTo%28map_87582643ab2540feb5a06184a194e90d%29%3B%0A%20%20%20%20%20%20%20%20%0A%3C/script%3E onload=\"this.contentDocument.open();this.contentDocument.write(    decodeURIComponent(this.getAttribute('data-html')));this.contentDocument.close();\" allowfullscreen webkitallowfullscreen mozallowfullscreen></iframe></div></div>"
      ],
      "text/plain": [
       "<folium.folium.Map at 0x272212d8e20>"
      ]
     },
     "execution_count": 75,
     "metadata": {},
     "output_type": "execute_result"
    }
   ],
   "source": [
    "mapa= folium.Map(location=coords_zrgz)\n",
    "mapa"
   ]
  },
  {
   "cell_type": "markdown",
   "id": "f66f4584",
   "metadata": {},
   "source": [
    "Ordenamos que pinte el mapa de Zaragoza y que lo sitúe con los datos de la variable."
   ]
  },
  {
   "cell_type": "code",
   "execution_count": 76,
   "id": "08f629e8",
   "metadata": {},
   "outputs": [
    {
     "data": {
      "text/html": [
       "<div>\n",
       "<style scoped>\n",
       "    .dataframe tbody tr th:only-of-type {\n",
       "        vertical-align: middle;\n",
       "    }\n",
       "\n",
       "    .dataframe tbody tr th {\n",
       "        vertical-align: top;\n",
       "    }\n",
       "\n",
       "    .dataframe thead th {\n",
       "        text-align: right;\n",
       "    }\n",
       "</style>\n",
       "<table border=\"1\" class=\"dataframe\">\n",
       "  <thead>\n",
       "    <tr style=\"text-align: right;\">\n",
       "      <th></th>\n",
       "      <th>id</th>\n",
       "      <th>year</th>\n",
       "      <th>type</th>\n",
       "      <th>accidentType</th>\n",
       "      <th>firstAddress</th>\n",
       "      <th>secondAddress</th>\n",
       "      <th>geometry</th>\n",
       "      <th>reason</th>\n",
       "      <th>area</th>\n",
       "      <th>creationDate</th>\n",
       "      <th>daniosMateriales</th>\n",
       "      <th>falloMecanico</th>\n",
       "      <th>estadoPavimento</th>\n",
       "      <th>tipoEstadoPavimento</th>\n",
       "      <th>estadoAtmosfera</th>\n",
       "      <th>tipoEstadoAtmosfera</th>\n",
       "      <th>afectado</th>\n",
       "      <th>vehiculo</th>\n",
       "    </tr>\n",
       "  </thead>\n",
       "  <tbody>\n",
       "    <tr>\n",
       "      <th>0</th>\n",
       "      <td>https://www.zaragoza.es/sede/servicio/transpor...</td>\n",
       "      <td>2014</td>\n",
       "      <td>SALIDA CALZADA</td>\n",
       "      <td>NaN</td>\n",
       "      <td>COSTA, JOAQUIN</td>\n",
       "      <td>PERAL, ISAAC</td>\n",
       "      <td>-0.8818527060979306,41.649027473051156</td>\n",
       "      <td>PERDIDA del control por FALTA de ATENCIÓN</td>\n",
       "      <td>NaN</td>\n",
       "      <td>2014-10-09T00:00:00Z</td>\n",
       "      <td>True</td>\n",
       "      <td>False</td>\n",
       "      <td>BUEN ESTADO</td>\n",
       "      <td>NaN</td>\n",
       "      <td>BUEN ESTADO</td>\n",
       "      <td>NaN</td>\n",
       "      <td>NaN</td>\n",
       "      <td>https://www.zaragoza.es/sede/servicio/transpor...</td>\n",
       "    </tr>\n",
       "    <tr>\n",
       "      <th>1</th>\n",
       "      <td>https://www.zaragoza.es/sede/servicio/transpor...</td>\n",
       "      <td>2014</td>\n",
       "      <td>COLISIÓN ALCANCE</td>\n",
       "      <td>NaN</td>\n",
       "      <td>CADENA(MARQUES DE LA)</td>\n",
       "      <td>NaN</td>\n",
       "      <td>-0.8645810716721081,41.661585829868585</td>\n",
       "      <td>DISTANCIA DE SEGURIDAD, no mantener</td>\n",
       "      <td>2560.0</td>\n",
       "      <td>2014-10-23T00:00:00Z</td>\n",
       "      <td>False</td>\n",
       "      <td>False</td>\n",
       "      <td>BUEN ESTADO</td>\n",
       "      <td>NaN</td>\n",
       "      <td>BUEN ESTADO</td>\n",
       "      <td>NaN</td>\n",
       "      <td>https://www.zaragoza.es/sede/servicio/transpor...</td>\n",
       "      <td>https://www.zaragoza.es/sede/servicio/transpor...</td>\n",
       "    </tr>\n",
       "    <tr>\n",
       "      <th>2</th>\n",
       "      <td>https://www.zaragoza.es/sede/servicio/transpor...</td>\n",
       "      <td>2014</td>\n",
       "      <td>COLISIÓN ALCANCE</td>\n",
       "      <td>NaN</td>\n",
       "      <td>GOMEZ AVELLANEDA, G.</td>\n",
       "      <td>CASTRO, R. (POETA)</td>\n",
       "      <td>-0.887776415002892,41.666992622958105</td>\n",
       "      <td>PERDIDA del control por FALTA de ATENCIÓN</td>\n",
       "      <td>2598.0</td>\n",
       "      <td>2014-10-23T00:00:00Z</td>\n",
       "      <td>False</td>\n",
       "      <td>False</td>\n",
       "      <td>BUEN ESTADO</td>\n",
       "      <td>NaN</td>\n",
       "      <td>BUEN ESTADO</td>\n",
       "      <td>NaN</td>\n",
       "      <td>https://www.zaragoza.es/sede/servicio/transpor...</td>\n",
       "      <td>https://www.zaragoza.es/sede/servicio/transpor...</td>\n",
       "    </tr>\n",
       "    <tr>\n",
       "      <th>3</th>\n",
       "      <td>https://www.zaragoza.es/sede/servicio/transpor...</td>\n",
       "      <td>2014</td>\n",
       "      <td>COLIS FRONTOLATERAL</td>\n",
       "      <td>NaN</td>\n",
       "      <td>MONZON</td>\n",
       "      <td>GARCIA CONDOY, H.</td>\n",
       "      <td>-0.8825260453930127,41.62957498750602</td>\n",
       "      <td>CEDA EL PASO, no respetar prioridad de paso</td>\n",
       "      <td>2555.0</td>\n",
       "      <td>2014-10-23T00:00:00Z</td>\n",
       "      <td>False</td>\n",
       "      <td>False</td>\n",
       "      <td>BUEN ESTADO</td>\n",
       "      <td>NaN</td>\n",
       "      <td>BUEN ESTADO</td>\n",
       "      <td>NaN</td>\n",
       "      <td>https://www.zaragoza.es/sede/servicio/transpor...</td>\n",
       "      <td>https://www.zaragoza.es/sede/servicio/transpor...</td>\n",
       "    </tr>\n",
       "    <tr>\n",
       "      <th>4</th>\n",
       "      <td>https://www.zaragoza.es/sede/servicio/transpor...</td>\n",
       "      <td>2014</td>\n",
       "      <td>SALIDA CALZADA</td>\n",
       "      <td>NaN</td>\n",
       "      <td>RIOJA</td>\n",
       "      <td>NAVARRA, AVENIDA DE</td>\n",
       "      <td>-0.908314757720389,41.6562121210704</td>\n",
       "      <td>PERDIDA del control por VELOCIDAD INADECUADA</td>\n",
       "      <td>2554.0</td>\n",
       "      <td>2014-10-24T00:00:00Z</td>\n",
       "      <td>False</td>\n",
       "      <td>False</td>\n",
       "      <td>BUEN ESTADO</td>\n",
       "      <td>NaN</td>\n",
       "      <td>BUEN ESTADO</td>\n",
       "      <td>NaN</td>\n",
       "      <td>https://www.zaragoza.es/sede/servicio/transpor...</td>\n",
       "      <td>https://www.zaragoza.es/sede/servicio/transpor...</td>\n",
       "    </tr>\n",
       "    <tr>\n",
       "      <th>...</th>\n",
       "      <td>...</td>\n",
       "      <td>...</td>\n",
       "      <td>...</td>\n",
       "      <td>...</td>\n",
       "      <td>...</td>\n",
       "      <td>...</td>\n",
       "      <td>...</td>\n",
       "      <td>...</td>\n",
       "      <td>...</td>\n",
       "      <td>...</td>\n",
       "      <td>...</td>\n",
       "      <td>...</td>\n",
       "      <td>...</td>\n",
       "      <td>...</td>\n",
       "      <td>...</td>\n",
       "      <td>...</td>\n",
       "      <td>...</td>\n",
       "      <td>...</td>\n",
       "    </tr>\n",
       "    <tr>\n",
       "      <th>95</th>\n",
       "      <td>https://www.zaragoza.es/sede/servicio/transpor...</td>\n",
       "      <td>2014</td>\n",
       "      <td>OTRAS</td>\n",
       "      <td>NaN</td>\n",
       "      <td>MIRAL, DOMINGO</td>\n",
       "      <td>NaN</td>\n",
       "      <td>-0.8990662796872798,41.63977012001253</td>\n",
       "      <td>PERDIDA del control por FALTA de ATENCIÓN</td>\n",
       "      <td>NaN</td>\n",
       "      <td>2014-07-30T00:00:00Z</td>\n",
       "      <td>True</td>\n",
       "      <td>False</td>\n",
       "      <td>BUEN ESTADO</td>\n",
       "      <td>NaN</td>\n",
       "      <td>BUEN ESTADO</td>\n",
       "      <td>NaN</td>\n",
       "      <td>NaN</td>\n",
       "      <td>https://www.zaragoza.es/sede/servicio/transpor...</td>\n",
       "    </tr>\n",
       "    <tr>\n",
       "      <th>96</th>\n",
       "      <td>https://www.zaragoza.es/sede/servicio/transpor...</td>\n",
       "      <td>2014</td>\n",
       "      <td>COLISIÓN ALCANCE</td>\n",
       "      <td>NaN</td>\n",
       "      <td>BUÑUEL,LUIS (PARQUE DEL AGUA)</td>\n",
       "      <td>NaN</td>\n",
       "      <td>-0.9072756956226459,41.670910841846876</td>\n",
       "      <td>PERDIDA del control por FALTA de ATENCIÓN</td>\n",
       "      <td>2071.0</td>\n",
       "      <td>2014-07-31T00:00:00Z</td>\n",
       "      <td>True</td>\n",
       "      <td>False</td>\n",
       "      <td>BUEN ESTADO</td>\n",
       "      <td>NaN</td>\n",
       "      <td>BUEN ESTADO</td>\n",
       "      <td>NaN</td>\n",
       "      <td>NaN</td>\n",
       "      <td>https://www.zaragoza.es/sede/servicio/transpor...</td>\n",
       "    </tr>\n",
       "    <tr>\n",
       "      <th>97</th>\n",
       "      <td>https://www.zaragoza.es/sede/servicio/transpor...</td>\n",
       "      <td>2014</td>\n",
       "      <td>SALIDA CALZADA</td>\n",
       "      <td>NaN</td>\n",
       "      <td>ALBAR, MANUEL GL.</td>\n",
       "      <td>ILUSTRACION, AV. DE LA</td>\n",
       "      <td>-0.9226018969034585,41.62757051008441</td>\n",
       "      <td>PERDIDA del control por FALTA de ATENCIÓN</td>\n",
       "      <td>1969.0</td>\n",
       "      <td>2014-07-25T00:00:00Z</td>\n",
       "      <td>False</td>\n",
       "      <td>False</td>\n",
       "      <td>BUEN ESTADO</td>\n",
       "      <td>NaN</td>\n",
       "      <td>BUEN ESTADO</td>\n",
       "      <td>NaN</td>\n",
       "      <td>https://www.zaragoza.es/sede/servicio/transpor...</td>\n",
       "      <td>https://www.zaragoza.es/sede/servicio/transpor...</td>\n",
       "    </tr>\n",
       "    <tr>\n",
       "      <th>98</th>\n",
       "      <td>https://www.zaragoza.es/sede/servicio/transpor...</td>\n",
       "      <td>2014</td>\n",
       "      <td>COLIS FRONTOLATERAL</td>\n",
       "      <td>NaN</td>\n",
       "      <td>ECHEGARAY Y CABALLERO</td>\n",
       "      <td>SAN VICENTE PAUL</td>\n",
       "      <td>-0.8735234620830842,41.65507219335992</td>\n",
       "      <td>SEMÁFORO, no respetar prioridad de paso</td>\n",
       "      <td>1970.0</td>\n",
       "      <td>2014-07-26T00:00:00Z</td>\n",
       "      <td>False</td>\n",
       "      <td>False</td>\n",
       "      <td>BUEN ESTADO</td>\n",
       "      <td>NaN</td>\n",
       "      <td>BUEN ESTADO</td>\n",
       "      <td>NaN</td>\n",
       "      <td>https://www.zaragoza.es/sede/servicio/transpor...</td>\n",
       "      <td>https://www.zaragoza.es/sede/servicio/transpor...</td>\n",
       "    </tr>\n",
       "    <tr>\n",
       "      <th>99</th>\n",
       "      <td>https://www.zaragoza.es/sede/servicio/transpor...</td>\n",
       "      <td>2014</td>\n",
       "      <td>SALIDA CALZADA</td>\n",
       "      <td>NaN</td>\n",
       "      <td>CESAR AUGUSTO, AVDA</td>\n",
       "      <td>NaN</td>\n",
       "      <td>-0.8869504077778204,41.65022964156985</td>\n",
       "      <td>PERDIDA del control por FALTA de ATENCIÓN</td>\n",
       "      <td>1971.0</td>\n",
       "      <td>2014-07-09T00:00:00Z</td>\n",
       "      <td>True</td>\n",
       "      <td>False</td>\n",
       "      <td>BUEN ESTADO</td>\n",
       "      <td>NaN</td>\n",
       "      <td>BUEN ESTADO</td>\n",
       "      <td>NaN</td>\n",
       "      <td>NaN</td>\n",
       "      <td>https://www.zaragoza.es/sede/servicio/transpor...</td>\n",
       "    </tr>\n",
       "  </tbody>\n",
       "</table>\n",
       "<p>100 rows × 18 columns</p>\n",
       "</div>"
      ],
      "text/plain": [
       "                                                   id  year  \\\n",
       "0   https://www.zaragoza.es/sede/servicio/transpor...  2014   \n",
       "1   https://www.zaragoza.es/sede/servicio/transpor...  2014   \n",
       "2   https://www.zaragoza.es/sede/servicio/transpor...  2014   \n",
       "3   https://www.zaragoza.es/sede/servicio/transpor...  2014   \n",
       "4   https://www.zaragoza.es/sede/servicio/transpor...  2014   \n",
       "..                                                ...   ...   \n",
       "95  https://www.zaragoza.es/sede/servicio/transpor...  2014   \n",
       "96  https://www.zaragoza.es/sede/servicio/transpor...  2014   \n",
       "97  https://www.zaragoza.es/sede/servicio/transpor...  2014   \n",
       "98  https://www.zaragoza.es/sede/servicio/transpor...  2014   \n",
       "99  https://www.zaragoza.es/sede/servicio/transpor...  2014   \n",
       "\n",
       "                   type  accidentType                   firstAddress  \\\n",
       "0        SALIDA CALZADA           NaN                 COSTA, JOAQUIN   \n",
       "1      COLISIÓN ALCANCE           NaN          CADENA(MARQUES DE LA)   \n",
       "2      COLISIÓN ALCANCE           NaN           GOMEZ AVELLANEDA, G.   \n",
       "3   COLIS FRONTOLATERAL           NaN                         MONZON   \n",
       "4        SALIDA CALZADA           NaN                          RIOJA   \n",
       "..                  ...           ...                            ...   \n",
       "95                OTRAS           NaN                 MIRAL, DOMINGO   \n",
       "96     COLISIÓN ALCANCE           NaN  BUÑUEL,LUIS (PARQUE DEL AGUA)   \n",
       "97       SALIDA CALZADA           NaN              ALBAR, MANUEL GL.   \n",
       "98  COLIS FRONTOLATERAL           NaN          ECHEGARAY Y CABALLERO   \n",
       "99       SALIDA CALZADA           NaN            CESAR AUGUSTO, AVDA   \n",
       "\n",
       "             secondAddress                                geometry  \\\n",
       "0             PERAL, ISAAC  -0.8818527060979306,41.649027473051156   \n",
       "1                      NaN  -0.8645810716721081,41.661585829868585   \n",
       "2       CASTRO, R. (POETA)   -0.887776415002892,41.666992622958105   \n",
       "3        GARCIA CONDOY, H.   -0.8825260453930127,41.62957498750602   \n",
       "4      NAVARRA, AVENIDA DE     -0.908314757720389,41.6562121210704   \n",
       "..                     ...                                     ...   \n",
       "95                     NaN   -0.8990662796872798,41.63977012001253   \n",
       "96                     NaN  -0.9072756956226459,41.670910841846876   \n",
       "97  ILUSTRACION, AV. DE LA   -0.9226018969034585,41.62757051008441   \n",
       "98        SAN VICENTE PAUL   -0.8735234620830842,41.65507219335992   \n",
       "99                     NaN   -0.8869504077778204,41.65022964156985   \n",
       "\n",
       "                                          reason    area  \\\n",
       "0      PERDIDA del control por FALTA de ATENCIÓN     NaN   \n",
       "1            DISTANCIA DE SEGURIDAD, no mantener  2560.0   \n",
       "2      PERDIDA del control por FALTA de ATENCIÓN  2598.0   \n",
       "3    CEDA EL PASO, no respetar prioridad de paso  2555.0   \n",
       "4   PERDIDA del control por VELOCIDAD INADECUADA  2554.0   \n",
       "..                                           ...     ...   \n",
       "95     PERDIDA del control por FALTA de ATENCIÓN     NaN   \n",
       "96     PERDIDA del control por FALTA de ATENCIÓN  2071.0   \n",
       "97     PERDIDA del control por FALTA de ATENCIÓN  1969.0   \n",
       "98       SEMÁFORO, no respetar prioridad de paso  1970.0   \n",
       "99     PERDIDA del control por FALTA de ATENCIÓN  1971.0   \n",
       "\n",
       "            creationDate  daniosMateriales  falloMecanico estadoPavimento  \\\n",
       "0   2014-10-09T00:00:00Z              True          False     BUEN ESTADO   \n",
       "1   2014-10-23T00:00:00Z             False          False     BUEN ESTADO   \n",
       "2   2014-10-23T00:00:00Z             False          False     BUEN ESTADO   \n",
       "3   2014-10-23T00:00:00Z             False          False     BUEN ESTADO   \n",
       "4   2014-10-24T00:00:00Z             False          False     BUEN ESTADO   \n",
       "..                   ...               ...            ...             ...   \n",
       "95  2014-07-30T00:00:00Z              True          False     BUEN ESTADO   \n",
       "96  2014-07-31T00:00:00Z              True          False     BUEN ESTADO   \n",
       "97  2014-07-25T00:00:00Z             False          False     BUEN ESTADO   \n",
       "98  2014-07-26T00:00:00Z             False          False     BUEN ESTADO   \n",
       "99  2014-07-09T00:00:00Z              True          False     BUEN ESTADO   \n",
       "\n",
       "    tipoEstadoPavimento estadoAtmosfera  tipoEstadoAtmosfera  \\\n",
       "0                   NaN     BUEN ESTADO                  NaN   \n",
       "1                   NaN     BUEN ESTADO                  NaN   \n",
       "2                   NaN     BUEN ESTADO                  NaN   \n",
       "3                   NaN     BUEN ESTADO                  NaN   \n",
       "4                   NaN     BUEN ESTADO                  NaN   \n",
       "..                  ...             ...                  ...   \n",
       "95                  NaN     BUEN ESTADO                  NaN   \n",
       "96                  NaN     BUEN ESTADO                  NaN   \n",
       "97                  NaN     BUEN ESTADO                  NaN   \n",
       "98                  NaN     BUEN ESTADO                  NaN   \n",
       "99                  NaN     BUEN ESTADO                  NaN   \n",
       "\n",
       "                                             afectado  \\\n",
       "0                                                 NaN   \n",
       "1   https://www.zaragoza.es/sede/servicio/transpor...   \n",
       "2   https://www.zaragoza.es/sede/servicio/transpor...   \n",
       "3   https://www.zaragoza.es/sede/servicio/transpor...   \n",
       "4   https://www.zaragoza.es/sede/servicio/transpor...   \n",
       "..                                                ...   \n",
       "95                                                NaN   \n",
       "96                                                NaN   \n",
       "97  https://www.zaragoza.es/sede/servicio/transpor...   \n",
       "98  https://www.zaragoza.es/sede/servicio/transpor...   \n",
       "99                                                NaN   \n",
       "\n",
       "                                             vehiculo  \n",
       "0   https://www.zaragoza.es/sede/servicio/transpor...  \n",
       "1   https://www.zaragoza.es/sede/servicio/transpor...  \n",
       "2   https://www.zaragoza.es/sede/servicio/transpor...  \n",
       "3   https://www.zaragoza.es/sede/servicio/transpor...  \n",
       "4   https://www.zaragoza.es/sede/servicio/transpor...  \n",
       "..                                                ...  \n",
       "95  https://www.zaragoza.es/sede/servicio/transpor...  \n",
       "96  https://www.zaragoza.es/sede/servicio/transpor...  \n",
       "97  https://www.zaragoza.es/sede/servicio/transpor...  \n",
       "98  https://www.zaragoza.es/sede/servicio/transpor...  \n",
       "99  https://www.zaragoza.es/sede/servicio/transpor...  \n",
       "\n",
       "[100 rows x 18 columns]"
      ]
     },
     "execution_count": 76,
     "metadata": {},
     "output_type": "execute_result"
    }
   ],
   "source": [
    "df = pd.read_csv(url,delimiter=\";\")\n",
    "df"
   ]
  },
  {
   "cell_type": "markdown",
   "id": "ded516cf",
   "metadata": {},
   "source": [
    "Ordenamos que lea y clasifique la tabla en función de los valores, como las coordenadas, los nombres o los tipos de calzada."
   ]
  },
  {
   "cell_type": "code",
   "execution_count": 77,
   "id": "009ceaae",
   "metadata": {},
   "outputs": [
    {
     "data": {
      "text/plain": [
       "Index(['id', 'year', 'type', 'accidentType', 'firstAddress', 'secondAddress',\n",
       "       'geometry', 'reason', 'area', 'creationDate', 'daniosMateriales',\n",
       "       'falloMecanico', 'estadoPavimento', 'tipoEstadoPavimento',\n",
       "       'estadoAtmosfera', 'tipoEstadoAtmosfera', 'afectado', 'vehiculo'],\n",
       "      dtype='object')"
      ]
     },
     "execution_count": 77,
     "metadata": {},
     "output_type": "execute_result"
    }
   ],
   "source": [
    "df.columns"
   ]
  },
  {
   "cell_type": "markdown",
   "id": "5e3595b9",
   "metadata": {},
   "source": [
    "Obtenemos toda la infomación que hay en las columnas, para saber el número de variables."
   ]
  },
  {
   "cell_type": "code",
   "execution_count": 78,
   "id": "0307b1e7",
   "metadata": {},
   "outputs": [
    {
     "data": {
      "text/plain": [
       "0     -0.8818527060979306,41.649027473051156\n",
       "1     -0.8645810716721081,41.661585829868585\n",
       "2      -0.887776415002892,41.666992622958105\n",
       "3      -0.8825260453930127,41.62957498750602\n",
       "4        -0.908314757720389,41.6562121210704\n",
       "                       ...                  \n",
       "95     -0.8990662796872798,41.63977012001253\n",
       "96    -0.9072756956226459,41.670910841846876\n",
       "97     -0.9226018969034585,41.62757051008441\n",
       "98     -0.8735234620830842,41.65507219335992\n",
       "99     -0.8869504077778204,41.65022964156985\n",
       "Name: geometry, Length: 100, dtype: object"
      ]
     },
     "execution_count": 78,
     "metadata": {},
     "output_type": "execute_result"
    }
   ],
   "source": [
    "df['geometry']"
   ]
  },
  {
   "cell_type": "markdown",
   "id": "6f940162",
   "metadata": {},
   "source": [
    "Sirve para conocer los datos de la tabla y donde sale la información en formato texto con un sentido. Además puede haber números que representen al texto"
   ]
  },
  {
   "cell_type": "code",
   "execution_count": 79,
   "id": "0657db02",
   "metadata": {},
   "outputs": [
    {
     "data": {
      "text/plain": [
       "<bound method DataFrame.info of                                                    id  year  \\\n",
       "0   https://www.zaragoza.es/sede/servicio/transpor...  2014   \n",
       "1   https://www.zaragoza.es/sede/servicio/transpor...  2014   \n",
       "2   https://www.zaragoza.es/sede/servicio/transpor...  2014   \n",
       "3   https://www.zaragoza.es/sede/servicio/transpor...  2014   \n",
       "4   https://www.zaragoza.es/sede/servicio/transpor...  2014   \n",
       "..                                                ...   ...   \n",
       "95  https://www.zaragoza.es/sede/servicio/transpor...  2014   \n",
       "96  https://www.zaragoza.es/sede/servicio/transpor...  2014   \n",
       "97  https://www.zaragoza.es/sede/servicio/transpor...  2014   \n",
       "98  https://www.zaragoza.es/sede/servicio/transpor...  2014   \n",
       "99  https://www.zaragoza.es/sede/servicio/transpor...  2014   \n",
       "\n",
       "                   type  accidentType                   firstAddress  \\\n",
       "0        SALIDA CALZADA           NaN                 COSTA, JOAQUIN   \n",
       "1      COLISIÓN ALCANCE           NaN          CADENA(MARQUES DE LA)   \n",
       "2      COLISIÓN ALCANCE           NaN           GOMEZ AVELLANEDA, G.   \n",
       "3   COLIS FRONTOLATERAL           NaN                         MONZON   \n",
       "4        SALIDA CALZADA           NaN                          RIOJA   \n",
       "..                  ...           ...                            ...   \n",
       "95                OTRAS           NaN                 MIRAL, DOMINGO   \n",
       "96     COLISIÓN ALCANCE           NaN  BUÑUEL,LUIS (PARQUE DEL AGUA)   \n",
       "97       SALIDA CALZADA           NaN              ALBAR, MANUEL GL.   \n",
       "98  COLIS FRONTOLATERAL           NaN          ECHEGARAY Y CABALLERO   \n",
       "99       SALIDA CALZADA           NaN            CESAR AUGUSTO, AVDA   \n",
       "\n",
       "             secondAddress                                geometry  \\\n",
       "0             PERAL, ISAAC  -0.8818527060979306,41.649027473051156   \n",
       "1                      NaN  -0.8645810716721081,41.661585829868585   \n",
       "2       CASTRO, R. (POETA)   -0.887776415002892,41.666992622958105   \n",
       "3        GARCIA CONDOY, H.   -0.8825260453930127,41.62957498750602   \n",
       "4      NAVARRA, AVENIDA DE     -0.908314757720389,41.6562121210704   \n",
       "..                     ...                                     ...   \n",
       "95                     NaN   -0.8990662796872798,41.63977012001253   \n",
       "96                     NaN  -0.9072756956226459,41.670910841846876   \n",
       "97  ILUSTRACION, AV. DE LA   -0.9226018969034585,41.62757051008441   \n",
       "98        SAN VICENTE PAUL   -0.8735234620830842,41.65507219335992   \n",
       "99                     NaN   -0.8869504077778204,41.65022964156985   \n",
       "\n",
       "                                          reason    area  \\\n",
       "0      PERDIDA del control por FALTA de ATENCIÓN     NaN   \n",
       "1            DISTANCIA DE SEGURIDAD, no mantener  2560.0   \n",
       "2      PERDIDA del control por FALTA de ATENCIÓN  2598.0   \n",
       "3    CEDA EL PASO, no respetar prioridad de paso  2555.0   \n",
       "4   PERDIDA del control por VELOCIDAD INADECUADA  2554.0   \n",
       "..                                           ...     ...   \n",
       "95     PERDIDA del control por FALTA de ATENCIÓN     NaN   \n",
       "96     PERDIDA del control por FALTA de ATENCIÓN  2071.0   \n",
       "97     PERDIDA del control por FALTA de ATENCIÓN  1969.0   \n",
       "98       SEMÁFORO, no respetar prioridad de paso  1970.0   \n",
       "99     PERDIDA del control por FALTA de ATENCIÓN  1971.0   \n",
       "\n",
       "            creationDate  daniosMateriales  falloMecanico estadoPavimento  \\\n",
       "0   2014-10-09T00:00:00Z              True          False     BUEN ESTADO   \n",
       "1   2014-10-23T00:00:00Z             False          False     BUEN ESTADO   \n",
       "2   2014-10-23T00:00:00Z             False          False     BUEN ESTADO   \n",
       "3   2014-10-23T00:00:00Z             False          False     BUEN ESTADO   \n",
       "4   2014-10-24T00:00:00Z             False          False     BUEN ESTADO   \n",
       "..                   ...               ...            ...             ...   \n",
       "95  2014-07-30T00:00:00Z              True          False     BUEN ESTADO   \n",
       "96  2014-07-31T00:00:00Z              True          False     BUEN ESTADO   \n",
       "97  2014-07-25T00:00:00Z             False          False     BUEN ESTADO   \n",
       "98  2014-07-26T00:00:00Z             False          False     BUEN ESTADO   \n",
       "99  2014-07-09T00:00:00Z              True          False     BUEN ESTADO   \n",
       "\n",
       "    tipoEstadoPavimento estadoAtmosfera  tipoEstadoAtmosfera  \\\n",
       "0                   NaN     BUEN ESTADO                  NaN   \n",
       "1                   NaN     BUEN ESTADO                  NaN   \n",
       "2                   NaN     BUEN ESTADO                  NaN   \n",
       "3                   NaN     BUEN ESTADO                  NaN   \n",
       "4                   NaN     BUEN ESTADO                  NaN   \n",
       "..                  ...             ...                  ...   \n",
       "95                  NaN     BUEN ESTADO                  NaN   \n",
       "96                  NaN     BUEN ESTADO                  NaN   \n",
       "97                  NaN     BUEN ESTADO                  NaN   \n",
       "98                  NaN     BUEN ESTADO                  NaN   \n",
       "99                  NaN     BUEN ESTADO                  NaN   \n",
       "\n",
       "                                             afectado  \\\n",
       "0                                                 NaN   \n",
       "1   https://www.zaragoza.es/sede/servicio/transpor...   \n",
       "2   https://www.zaragoza.es/sede/servicio/transpor...   \n",
       "3   https://www.zaragoza.es/sede/servicio/transpor...   \n",
       "4   https://www.zaragoza.es/sede/servicio/transpor...   \n",
       "..                                                ...   \n",
       "95                                                NaN   \n",
       "96                                                NaN   \n",
       "97  https://www.zaragoza.es/sede/servicio/transpor...   \n",
       "98  https://www.zaragoza.es/sede/servicio/transpor...   \n",
       "99                                                NaN   \n",
       "\n",
       "                                             vehiculo  \n",
       "0   https://www.zaragoza.es/sede/servicio/transpor...  \n",
       "1   https://www.zaragoza.es/sede/servicio/transpor...  \n",
       "2   https://www.zaragoza.es/sede/servicio/transpor...  \n",
       "3   https://www.zaragoza.es/sede/servicio/transpor...  \n",
       "4   https://www.zaragoza.es/sede/servicio/transpor...  \n",
       "..                                                ...  \n",
       "95  https://www.zaragoza.es/sede/servicio/transpor...  \n",
       "96  https://www.zaragoza.es/sede/servicio/transpor...  \n",
       "97  https://www.zaragoza.es/sede/servicio/transpor...  \n",
       "98  https://www.zaragoza.es/sede/servicio/transpor...  \n",
       "99  https://www.zaragoza.es/sede/servicio/transpor...  \n",
       "\n",
       "[100 rows x 18 columns]>"
      ]
     },
     "execution_count": 79,
     "metadata": {},
     "output_type": "execute_result"
    }
   ],
   "source": [
    "df.info\n"
   ]
  },
  {
   "cell_type": "markdown",
   "id": "0c95066a",
   "metadata": {},
   "source": [
    "Desglosar la información de la página web (recopilación en bruto)"
   ]
  },
  {
   "cell_type": "code",
   "execution_count": 80,
   "id": "283f6a71",
   "metadata": {
    "scrolled": true
   },
   "outputs": [
    {
     "data": {
      "text/html": [
       "<div>\n",
       "<style scoped>\n",
       "    .dataframe tbody tr th:only-of-type {\n",
       "        vertical-align: middle;\n",
       "    }\n",
       "\n",
       "    .dataframe tbody tr th {\n",
       "        vertical-align: top;\n",
       "    }\n",
       "\n",
       "    .dataframe thead th {\n",
       "        text-align: right;\n",
       "    }\n",
       "</style>\n",
       "<table border=\"1\" class=\"dataframe\">\n",
       "  <thead>\n",
       "    <tr style=\"text-align: right;\">\n",
       "      <th></th>\n",
       "      <th>year</th>\n",
       "      <th>accidentType</th>\n",
       "      <th>area</th>\n",
       "      <th>tipoEstadoPavimento</th>\n",
       "      <th>tipoEstadoAtmosfera</th>\n",
       "    </tr>\n",
       "  </thead>\n",
       "  <tbody>\n",
       "    <tr>\n",
       "      <th>count</th>\n",
       "      <td>100.000000</td>\n",
       "      <td>0.0</td>\n",
       "      <td>79.000000</td>\n",
       "      <td>0.0</td>\n",
       "      <td>0.0</td>\n",
       "    </tr>\n",
       "    <tr>\n",
       "      <th>mean</th>\n",
       "      <td>2013.590000</td>\n",
       "      <td>NaN</td>\n",
       "      <td>3341.569620</td>\n",
       "      <td>NaN</td>\n",
       "      <td>NaN</td>\n",
       "    </tr>\n",
       "    <tr>\n",
       "      <th>std</th>\n",
       "      <td>0.494311</td>\n",
       "      <td>NaN</td>\n",
       "      <td>1225.936991</td>\n",
       "      <td>NaN</td>\n",
       "      <td>NaN</td>\n",
       "    </tr>\n",
       "    <tr>\n",
       "      <th>min</th>\n",
       "      <td>2013.000000</td>\n",
       "      <td>NaN</td>\n",
       "      <td>17.000000</td>\n",
       "      <td>NaN</td>\n",
       "      <td>NaN</td>\n",
       "    </tr>\n",
       "    <tr>\n",
       "      <th>25%</th>\n",
       "      <td>2013.000000</td>\n",
       "      <td>NaN</td>\n",
       "      <td>2604.500000</td>\n",
       "      <td>NaN</td>\n",
       "      <td>NaN</td>\n",
       "    </tr>\n",
       "    <tr>\n",
       "      <th>50%</th>\n",
       "      <td>2014.000000</td>\n",
       "      <td>NaN</td>\n",
       "      <td>2659.000000</td>\n",
       "      <td>NaN</td>\n",
       "      <td>NaN</td>\n",
       "    </tr>\n",
       "    <tr>\n",
       "      <th>75%</th>\n",
       "      <td>2014.000000</td>\n",
       "      <td>NaN</td>\n",
       "      <td>4627.500000</td>\n",
       "      <td>NaN</td>\n",
       "      <td>NaN</td>\n",
       "    </tr>\n",
       "    <tr>\n",
       "      <th>max</th>\n",
       "      <td>2014.000000</td>\n",
       "      <td>NaN</td>\n",
       "      <td>4783.000000</td>\n",
       "      <td>NaN</td>\n",
       "      <td>NaN</td>\n",
       "    </tr>\n",
       "  </tbody>\n",
       "</table>\n",
       "</div>"
      ],
      "text/plain": [
       "              year  accidentType         area  tipoEstadoPavimento  \\\n",
       "count   100.000000           0.0    79.000000                  0.0   \n",
       "mean   2013.590000           NaN  3341.569620                  NaN   \n",
       "std       0.494311           NaN  1225.936991                  NaN   \n",
       "min    2013.000000           NaN    17.000000                  NaN   \n",
       "25%    2013.000000           NaN  2604.500000                  NaN   \n",
       "50%    2014.000000           NaN  2659.000000                  NaN   \n",
       "75%    2014.000000           NaN  4627.500000                  NaN   \n",
       "max    2014.000000           NaN  4783.000000                  NaN   \n",
       "\n",
       "       tipoEstadoAtmosfera  \n",
       "count                  0.0  \n",
       "mean                   NaN  \n",
       "std                    NaN  \n",
       "min                    NaN  \n",
       "25%                    NaN  \n",
       "50%                    NaN  \n",
       "75%                    NaN  \n",
       "max                    NaN  "
      ]
     },
     "execution_count": 80,
     "metadata": {},
     "output_type": "execute_result"
    }
   ],
   "source": [
    "df.describe()"
   ]
  },
  {
   "cell_type": "markdown",
   "id": "aef2a561",
   "metadata": {},
   "source": []
  },
  {
   "cell_type": "markdown",
   "id": "b4cce513",
   "metadata": {},
   "source": [
    "Información númerica que en este caso no nos aporta nada."
   ]
  },
  {
   "cell_type": "code",
   "execution_count": 81,
   "id": "1e0ac926",
   "metadata": {},
   "outputs": [
    {
     "data": {
      "text/plain": [
       "array(['SALIDA CALZADA', 'COLISIÓN ALCANCE', 'COLIS FRONTOLATERAL',\n",
       "       'OTRAS', 'ATROPELLO', 'CAIDA SOBRE CALZADA', 'COLIS. MARCHA ATRÁS',\n",
       "       'COLISIÓN LATERAL'], dtype=object)"
      ]
     },
     "execution_count": 81,
     "metadata": {},
     "output_type": "execute_result"
    }
   ],
   "source": [
    "df[\"type\"].unique()"
   ]
  },
  {
   "cell_type": "markdown",
   "id": "2b7deabe",
   "metadata": {},
   "source": [
    "Es una descripción de los valores únicos de la columna type"
   ]
  },
  {
   "cell_type": "code",
   "execution_count": 82,
   "id": "f0c133a3",
   "metadata": {},
   "outputs": [
    {
     "data": {
      "text/plain": [
       "0     -0.8818527060979306,41.649027473051156\n",
       "1     -0.8645810716721081,41.661585829868585\n",
       "2      -0.887776415002892,41.666992622958105\n",
       "3      -0.8825260453930127,41.62957498750602\n",
       "4        -0.908314757720389,41.6562121210704\n",
       "                       ...                  \n",
       "95     -0.8990662796872798,41.63977012001253\n",
       "96    -0.9072756956226459,41.670910841846876\n",
       "97     -0.9226018969034585,41.62757051008441\n",
       "98     -0.8735234620830842,41.65507219335992\n",
       "99     -0.8869504077778204,41.65022964156985\n",
       "Name: geometry, Length: 100, dtype: object"
      ]
     },
     "execution_count": 82,
     "metadata": {},
     "output_type": "execute_result"
    }
   ],
   "source": [
    "df['geometry']"
   ]
  },
  {
   "cell_type": "markdown",
   "id": "57caaa85",
   "metadata": {},
   "source": [
    "Obtener las coordenadas para poder situarlas en el mapa, el plan es poder pintar encima del mapa (accidentes, tipos de vehículo)."
   ]
  },
  {
   "cell_type": "code",
   "execution_count": 83,
   "id": "79ebc0bb",
   "metadata": {},
   "outputs": [
    {
     "data": {
      "text/plain": [
       "str"
      ]
     },
     "execution_count": 83,
     "metadata": {},
     "output_type": "execute_result"
    }
   ],
   "source": [
    "type(df[\"geometry\"][0])"
   ]
  },
  {
   "cell_type": "markdown",
   "id": "9801eb25",
   "metadata": {},
   "source": [
    "Te indica que es una cadena de valores y no puedes utilizarla en el mapa. Hemos preguntado sobre que tipo de datos es."
   ]
  },
  {
   "cell_type": "markdown",
   "id": "98ae4474",
   "metadata": {},
   "source": []
  },
  {
   "cell_type": "code",
   "execution_count": 84,
   "id": "f2817303",
   "metadata": {},
   "outputs": [
    {
     "data": {
      "text/plain": [
       "['-0.8818527060979306', '41.649027473051156']"
      ]
     },
     "execution_count": 84,
     "metadata": {},
     "output_type": "execute_result"
    }
   ],
   "source": [
    "df[\"geometry\"][0].split(\",\")"
   ]
  },
  {
   "cell_type": "markdown",
   "id": "dbc42bf9",
   "metadata": {},
   "source": [
    "Hemos analizado que el separador es la \",\", por lo que nos interesa para separar la información en latitud y longitud.\n",
    "Ya tenemos una lista que podemos manipular."
   ]
  },
  {
   "cell_type": "code",
   "execution_count": 85,
   "id": "ce41ed9a",
   "metadata": {},
   "outputs": [
    {
     "data": {
      "text/plain": [
       "['-0.8818527060979306', '41.649027473051156']"
      ]
     },
     "execution_count": 85,
     "metadata": {},
     "output_type": "execute_result"
    }
   ],
   "source": [
    "point = df[\"geometry\"][0].split(\",\")\n",
    "point"
   ]
  },
  {
   "cell_type": "markdown",
   "id": "20905313",
   "metadata": {},
   "source": [
    "Crear un punto con los dos valores anteriores, significa nombrar los valores para poder referirte a ellos (les estamos creando) "
   ]
  },
  {
   "cell_type": "code",
   "execution_count": 86,
   "id": "a9256d6c",
   "metadata": {},
   "outputs": [
    {
     "data": {
      "text/plain": [
       "list"
      ]
     },
     "execution_count": 86,
     "metadata": {},
     "output_type": "execute_result"
    }
   ],
   "source": [
    "type(point)"
   ]
  },
  {
   "cell_type": "markdown",
   "id": "77c2d528",
   "metadata": {},
   "source": [
    "Es una comprobación de que \"point\" ya es una lista de dos elementos"
   ]
  },
  {
   "cell_type": "markdown",
   "id": "bbc4b8e3",
   "metadata": {},
   "source": [
    "Ahora tenemos que obtener dos columnas, para guardar los elementos de las filas"
   ]
  },
  {
   "cell_type": "code",
   "execution_count": 87,
   "id": "c444333e",
   "metadata": {},
   "outputs": [],
   "source": [
    "longitudes = []\n",
    "latitudes = []"
   ]
  },
  {
   "cell_type": "markdown",
   "id": "a35b2f86",
   "metadata": {},
   "source": [
    "Ahora mismo son dos listas sin datos para rellenarlas con bucles"
   ]
  },
  {
   "cell_type": "code",
   "execution_count": 88,
   "id": "d57f454b",
   "metadata": {},
   "outputs": [
    {
     "data": {
      "text/plain": [
       "[41.649027473051156,\n",
       " 41.661585829868585,\n",
       " 41.666992622958105,\n",
       " 41.62957498750602,\n",
       " 41.6562121210704,\n",
       " 41.65949772773082,\n",
       " 41.633353667694024,\n",
       " 41.6390382112928,\n",
       " 41.64083344974765,\n",
       " 41.64904657717317,\n",
       " 41.64322365075108,\n",
       " 41.68753087470739,\n",
       " 41.661646612715046,\n",
       " 41.6454384961757,\n",
       " 41.65543768899759,\n",
       " 41.65180346604993,\n",
       " 41.65233828238132,\n",
       " 41.65040494617356,\n",
       " 41.645335650478316,\n",
       " 41.609992514227066,\n",
       " 41.63379905763323,\n",
       " 41.63275556609146,\n",
       " 41.63808926467497,\n",
       " 41.677487884305975,\n",
       " 41.620591734015946,\n",
       " 41.64931371437485,\n",
       " 41.646890443474554,\n",
       " 41.62404668544956,\n",
       " 41.63964884250951,\n",
       " 41.638477534601776,\n",
       " 41.64332496247496,\n",
       " 41.65260977469196,\n",
       " 41.65248328671194,\n",
       " 41.6474034449745,\n",
       " 41.64926981833846,\n",
       " 41.650740541708075,\n",
       " 41.638807389014836,\n",
       " 41.66374540604866,\n",
       " 41.64886535549928,\n",
       " 41.63265453864093,\n",
       " 41.67281318904247,\n",
       " 41.66895757951277,\n",
       " 41.71496486522088,\n",
       " 41.67007665525934,\n",
       " 41.63484525009101,\n",
       " 41.64060309287472,\n",
       " 41.66210291413718,\n",
       " 41.63348367532985,\n",
       " 41.67593597602368,\n",
       " 41.672106692157605,\n",
       " 41.670796057267296,\n",
       " 41.634304213138115,\n",
       " 41.65154680743475,\n",
       " 41.62152191885522,\n",
       " 41.64737203882021,\n",
       " 41.64583899054114,\n",
       " 41.63444197353212,\n",
       " 41.647668760113724,\n",
       " 41.64713372980882,\n",
       " 41.66759236644088,\n",
       " 41.633156268397784,\n",
       " 41.65815100896193,\n",
       " 41.606852016162875,\n",
       " 41.665547003703814,\n",
       " 41.681817186609294,\n",
       " 41.653142424569985,\n",
       " 41.65471375662296,\n",
       " 41.653113831884326,\n",
       " 41.637370118574715,\n",
       " 41.62307965046806,\n",
       " 41.703559179288035,\n",
       " 41.63800946128376,\n",
       " 41.65509967011824,\n",
       " 41.640231801283996,\n",
       " 41.66399317788149,\n",
       " 41.640202296609836,\n",
       " 41.64045052143847,\n",
       " 41.650342929846744,\n",
       " 41.6515948922118,\n",
       " 41.639588711692504,\n",
       " 41.64547114097832,\n",
       " 41.60941879505107,\n",
       " 41.63594510671276,\n",
       " 41.65806605032787,\n",
       " 41.65124740456308,\n",
       " 41.64919114164,\n",
       " 41.68415187120862,\n",
       " 41.64775005399505,\n",
       " 41.647640923398896,\n",
       " 41.64628513907135,\n",
       " 41.646572275866276,\n",
       " 41.64976600318248,\n",
       " 41.653508476745046,\n",
       " 41.647798885967035,\n",
       " 41.64963422246641,\n",
       " 41.63977012001253,\n",
       " 41.670910841846876,\n",
       " 41.62757051008441,\n",
       " 41.65507219335992,\n",
       " 41.65022964156985]"
      ]
     },
     "execution_count": 88,
     "metadata": {},
     "output_type": "execute_result"
    }
   ],
   "source": [
    "for i in df['geometry']:\n",
    "    punto_coord = i.split(',')\n",
    "    longitudes += [float(punto_coord[1])]\n",
    "longitudes\n",
    "    "
   ]
  },
  {
   "cell_type": "markdown",
   "id": "82ec160c",
   "metadata": {},
   "source": [
    "Comienza el bucle con las filas del \"geometry\" (i) y para ello creas un objeto que separe las celdas de \"geometry\".\n",
    "En longitudes añadimos otro elemento de la columna. "
   ]
  },
  {
   "cell_type": "code",
   "execution_count": 89,
   "id": "d84b1331",
   "metadata": {},
   "outputs": [
    {
     "data": {
      "text/plain": [
       "[-0.8818527060979306,\n",
       " -0.8645810716721081,\n",
       " -0.887776415002892,\n",
       " -0.8825260453930127,\n",
       " -0.908314757720389,\n",
       " -0.8691088511672924,\n",
       " -0.8880337913721866,\n",
       " -0.8708838775078237,\n",
       " -0.8970649943808023,\n",
       " -0.8718525605769747,\n",
       " -0.8964627561577849,\n",
       " -0.8778095796207178,\n",
       " -0.8812157329722801,\n",
       " -0.8762000299022707,\n",
       " -0.9089013552408617,\n",
       " -0.9004729973337304,\n",
       " -0.8917562993466011,\n",
       " -0.888856043735591,\n",
       " -0.8629911318784169,\n",
       " -0.8870207060655807,\n",
       " -0.8636325074780108,\n",
       " -0.8760724207544668,\n",
       " -0.9036852209830768,\n",
       " -0.8896980442453839,\n",
       " -0.9018264648858587,\n",
       " -0.9187726932212442,\n",
       " -0.8855988456901538,\n",
       " -0.887523212911549,\n",
       " -0.8863120908790753,\n",
       " -0.8689640327130923,\n",
       " -0.8900650666830714,\n",
       " -0.8918524618079099,\n",
       " -0.9104038365599549,\n",
       " -0.8850103896969528,\n",
       " -0.8734135018983006,\n",
       " -0.8593239531218387,\n",
       " -0.868891092151338,\n",
       " -0.9008107424460443,\n",
       " -0.9211220937948997,\n",
       " -0.9026681648170423,\n",
       " -0.8893162332922886,\n",
       " -0.8890866503471749,\n",
       " -0.8439506345833918,\n",
       " -0.8665477541801948,\n",
       " -0.8848493117953854,\n",
       " -0.9147014503640727,\n",
       " -0.9388159722509236,\n",
       " -0.9157439755527074,\n",
       " -0.8869959298557372,\n",
       " -0.876909940066992,\n",
       " -0.8816447317118501,\n",
       " -0.9072940747876611,\n",
       " -0.9297774953117621,\n",
       " -0.9260243926745974,\n",
       " -0.8747826613487039,\n",
       " -0.8808426934572774,\n",
       " -0.9244213411763852,\n",
       " -0.8837000032645412,\n",
       " -0.8949697510455706,\n",
       " -0.8586802458354249,\n",
       " -0.8824516125202209,\n",
       " -0.8857803278979575,\n",
       " -0.8901425582260953,\n",
       " -0.8853994844903159,\n",
       " -0.8988224291930889,\n",
       " -0.878399626737674,\n",
       " -0.9005718898973313,\n",
       " -0.8754417396680656,\n",
       " -0.8981774282134238,\n",
       " -0.9134005222660053,\n",
       " -0.9675955686913701,\n",
       " -0.8994494084124403,\n",
       " -0.9047634312813823,\n",
       " -0.8796660379583326,\n",
       " -0.8569442253224475,\n",
       " -0.8866382760165721,\n",
       " -0.9148179357831321,\n",
       " -0.91679280832361,\n",
       " -0.9831600853628304,\n",
       " -0.8805502979311851,\n",
       " -0.8834784288071386,\n",
       " -0.8907819329164345,\n",
       " -0.9129045578911849,\n",
       " -0.929341406599246,\n",
       " -0.9015144446496385,\n",
       " -0.8971281972974198,\n",
       " -0.8655422071013779,\n",
       " -0.9345679624034625,\n",
       " -0.9162444486972013,\n",
       " -0.9075234410781284,\n",
       " -0.8740118451885867,\n",
       " -0.8879390016835017,\n",
       " -0.8748263473540919,\n",
       " -0.893364249304231,\n",
       " -0.8793428209752854,\n",
       " -0.8990662796872798,\n",
       " -0.9072756956226459,\n",
       " -0.9226018969034585,\n",
       " -0.8735234620830842,\n",
       " -0.8869504077778204]"
      ]
     },
     "execution_count": 89,
     "metadata": {},
     "output_type": "execute_result"
    }
   ],
   "source": [
    "for i in df['geometry']:\n",
    "    punto_coord = i.split(',')\n",
    "    latitudes += [float(punto_coord[0])]\n",
    "latitudes"
   ]
  },
  {
   "cell_type": "markdown",
   "id": "3aafafd7",
   "metadata": {},
   "source": [
    "Hacemos lo mismo con latitudes pero tenemos que cambiar el  \"1\" por el \"0\", que es el primer número de python. *El float se utiliza para dar un formato decimal a los números*"
   ]
  },
  {
   "cell_type": "code",
   "execution_count": 90,
   "id": "ce5f6c19",
   "metadata": {},
   "outputs": [
    {
     "data": {
      "text/html": [
       "<div>\n",
       "<style scoped>\n",
       "    .dataframe tbody tr th:only-of-type {\n",
       "        vertical-align: middle;\n",
       "    }\n",
       "\n",
       "    .dataframe tbody tr th {\n",
       "        vertical-align: top;\n",
       "    }\n",
       "\n",
       "    .dataframe thead th {\n",
       "        text-align: right;\n",
       "    }\n",
       "</style>\n",
       "<table border=\"1\" class=\"dataframe\">\n",
       "  <thead>\n",
       "    <tr style=\"text-align: right;\">\n",
       "      <th></th>\n",
       "      <th>long</th>\n",
       "      <th>lat</th>\n",
       "    </tr>\n",
       "  </thead>\n",
       "  <tbody>\n",
       "    <tr>\n",
       "      <th>0</th>\n",
       "      <td>41.649027</td>\n",
       "      <td>-0.881853</td>\n",
       "    </tr>\n",
       "    <tr>\n",
       "      <th>1</th>\n",
       "      <td>41.661586</td>\n",
       "      <td>-0.864581</td>\n",
       "    </tr>\n",
       "    <tr>\n",
       "      <th>2</th>\n",
       "      <td>41.666993</td>\n",
       "      <td>-0.887776</td>\n",
       "    </tr>\n",
       "    <tr>\n",
       "      <th>3</th>\n",
       "      <td>41.629575</td>\n",
       "      <td>-0.882526</td>\n",
       "    </tr>\n",
       "    <tr>\n",
       "      <th>4</th>\n",
       "      <td>41.656212</td>\n",
       "      <td>-0.908315</td>\n",
       "    </tr>\n",
       "    <tr>\n",
       "      <th>...</th>\n",
       "      <td>...</td>\n",
       "      <td>...</td>\n",
       "    </tr>\n",
       "    <tr>\n",
       "      <th>95</th>\n",
       "      <td>41.639770</td>\n",
       "      <td>-0.899066</td>\n",
       "    </tr>\n",
       "    <tr>\n",
       "      <th>96</th>\n",
       "      <td>41.670911</td>\n",
       "      <td>-0.907276</td>\n",
       "    </tr>\n",
       "    <tr>\n",
       "      <th>97</th>\n",
       "      <td>41.627571</td>\n",
       "      <td>-0.922602</td>\n",
       "    </tr>\n",
       "    <tr>\n",
       "      <th>98</th>\n",
       "      <td>41.655072</td>\n",
       "      <td>-0.873523</td>\n",
       "    </tr>\n",
       "    <tr>\n",
       "      <th>99</th>\n",
       "      <td>41.650230</td>\n",
       "      <td>-0.886950</td>\n",
       "    </tr>\n",
       "  </tbody>\n",
       "</table>\n",
       "<p>100 rows × 2 columns</p>\n",
       "</div>"
      ],
      "text/plain": [
       "         long       lat\n",
       "0   41.649027 -0.881853\n",
       "1   41.661586 -0.864581\n",
       "2   41.666993 -0.887776\n",
       "3   41.629575 -0.882526\n",
       "4   41.656212 -0.908315\n",
       "..        ...       ...\n",
       "95  41.639770 -0.899066\n",
       "96  41.670911 -0.907276\n",
       "97  41.627571 -0.922602\n",
       "98  41.655072 -0.873523\n",
       "99  41.650230 -0.886950\n",
       "\n",
       "[100 rows x 2 columns]"
      ]
     },
     "execution_count": 90,
     "metadata": {},
     "output_type": "execute_result"
    }
   ],
   "source": [
    "df_coord = pd.DataFrame({'long':longitudes,'lat':latitudes})\n",
    "df_coord"
   ]
  },
  {
   "cell_type": "markdown",
   "id": "9b523525",
   "metadata": {},
   "source": [
    "Hacemos un dataframe de las dos columnas para colocarlas, aprovechando que ya están ordenadas por el \"0\" y el \"1\""
   ]
  },
  {
   "cell_type": "code",
   "execution_count": 91,
   "id": "67d733b0",
   "metadata": {},
   "outputs": [
    {
     "data": {
      "text/html": [
       "<div>\n",
       "<style scoped>\n",
       "    .dataframe tbody tr th:only-of-type {\n",
       "        vertical-align: middle;\n",
       "    }\n",
       "\n",
       "    .dataframe tbody tr th {\n",
       "        vertical-align: top;\n",
       "    }\n",
       "\n",
       "    .dataframe thead th {\n",
       "        text-align: right;\n",
       "    }\n",
       "</style>\n",
       "<table border=\"1\" class=\"dataframe\">\n",
       "  <thead>\n",
       "    <tr style=\"text-align: right;\">\n",
       "      <th></th>\n",
       "      <th>type</th>\n",
       "      <th>long</th>\n",
       "      <th>lat</th>\n",
       "    </tr>\n",
       "  </thead>\n",
       "  <tbody>\n",
       "    <tr>\n",
       "      <th>0</th>\n",
       "      <td>SALIDA CALZADA</td>\n",
       "      <td>41.649027</td>\n",
       "      <td>-0.881853</td>\n",
       "    </tr>\n",
       "    <tr>\n",
       "      <th>1</th>\n",
       "      <td>COLISIÓN ALCANCE</td>\n",
       "      <td>41.661586</td>\n",
       "      <td>-0.864581</td>\n",
       "    </tr>\n",
       "    <tr>\n",
       "      <th>2</th>\n",
       "      <td>COLISIÓN ALCANCE</td>\n",
       "      <td>41.666993</td>\n",
       "      <td>-0.887776</td>\n",
       "    </tr>\n",
       "    <tr>\n",
       "      <th>3</th>\n",
       "      <td>COLIS FRONTOLATERAL</td>\n",
       "      <td>41.629575</td>\n",
       "      <td>-0.882526</td>\n",
       "    </tr>\n",
       "    <tr>\n",
       "      <th>4</th>\n",
       "      <td>SALIDA CALZADA</td>\n",
       "      <td>41.656212</td>\n",
       "      <td>-0.908315</td>\n",
       "    </tr>\n",
       "    <tr>\n",
       "      <th>...</th>\n",
       "      <td>...</td>\n",
       "      <td>...</td>\n",
       "      <td>...</td>\n",
       "    </tr>\n",
       "    <tr>\n",
       "      <th>95</th>\n",
       "      <td>OTRAS</td>\n",
       "      <td>41.639770</td>\n",
       "      <td>-0.899066</td>\n",
       "    </tr>\n",
       "    <tr>\n",
       "      <th>96</th>\n",
       "      <td>COLISIÓN ALCANCE</td>\n",
       "      <td>41.670911</td>\n",
       "      <td>-0.907276</td>\n",
       "    </tr>\n",
       "    <tr>\n",
       "      <th>97</th>\n",
       "      <td>SALIDA CALZADA</td>\n",
       "      <td>41.627571</td>\n",
       "      <td>-0.922602</td>\n",
       "    </tr>\n",
       "    <tr>\n",
       "      <th>98</th>\n",
       "      <td>COLIS FRONTOLATERAL</td>\n",
       "      <td>41.655072</td>\n",
       "      <td>-0.873523</td>\n",
       "    </tr>\n",
       "    <tr>\n",
       "      <th>99</th>\n",
       "      <td>SALIDA CALZADA</td>\n",
       "      <td>41.650230</td>\n",
       "      <td>-0.886950</td>\n",
       "    </tr>\n",
       "  </tbody>\n",
       "</table>\n",
       "<p>100 rows × 3 columns</p>\n",
       "</div>"
      ],
      "text/plain": [
       "                   type       long       lat\n",
       "0        SALIDA CALZADA  41.649027 -0.881853\n",
       "1      COLISIÓN ALCANCE  41.661586 -0.864581\n",
       "2      COLISIÓN ALCANCE  41.666993 -0.887776\n",
       "3   COLIS FRONTOLATERAL  41.629575 -0.882526\n",
       "4        SALIDA CALZADA  41.656212 -0.908315\n",
       "..                  ...        ...       ...\n",
       "95                OTRAS  41.639770 -0.899066\n",
       "96     COLISIÓN ALCANCE  41.670911 -0.907276\n",
       "97       SALIDA CALZADA  41.627571 -0.922602\n",
       "98  COLIS FRONTOLATERAL  41.655072 -0.873523\n",
       "99       SALIDA CALZADA  41.650230 -0.886950\n",
       "\n",
       "[100 rows x 3 columns]"
      ]
     },
     "execution_count": 91,
     "metadata": {},
     "output_type": "execute_result"
    }
   ],
   "source": [
    "df_accidentes = pd.concat([df['type'],df_coord],axis=1)\n",
    "df_accidentes"
   ]
  },
  {
   "cell_type": "markdown",
   "id": "b541076b",
   "metadata": {},
   "source": [
    "Concatenar el data frame original con el de coordenadas\n",
    "Axis = 1 significa que se va a añadir en formato horizontal"
   ]
  },
  {
   "cell_type": "code",
   "execution_count": 92,
   "id": "ea970656",
   "metadata": {},
   "outputs": [
    {
     "data": {
      "text/html": [
       "<div style=\"width:100%;\"><div style=\"position:relative;width:100%;height:0;padding-bottom:60%;\"><span style=\"color:#565656\">Make this Notebook Trusted to load map: File -> Trust Notebook</span><iframe src=\"about:blank\" style=\"position:absolute;width:100%;height:100%;left:0;top:0;border:none !important;\" data-html=%3C%21DOCTYPE%20html%3E%0A%3Chead%3E%20%20%20%20%0A%20%20%20%20%3Cmeta%20http-equiv%3D%22content-type%22%20content%3D%22text/html%3B%20charset%3DUTF-8%22%20/%3E%0A%20%20%20%20%0A%20%20%20%20%20%20%20%20%3Cscript%3E%0A%20%20%20%20%20%20%20%20%20%20%20%20L_NO_TOUCH%20%3D%20false%3B%0A%20%20%20%20%20%20%20%20%20%20%20%20L_DISABLE_3D%20%3D%20false%3B%0A%20%20%20%20%20%20%20%20%3C/script%3E%0A%20%20%20%20%0A%20%20%20%20%3Cstyle%3Ehtml%2C%20body%20%7Bwidth%3A%20100%25%3Bheight%3A%20100%25%3Bmargin%3A%200%3Bpadding%3A%200%3B%7D%3C/style%3E%0A%20%20%20%20%3Cstyle%3E%23map%20%7Bposition%3Aabsolute%3Btop%3A0%3Bbottom%3A0%3Bright%3A0%3Bleft%3A0%3B%7D%3C/style%3E%0A%20%20%20%20%3Cscript%20src%3D%22https%3A//cdn.jsdelivr.net/npm/leaflet%401.6.0/dist/leaflet.js%22%3E%3C/script%3E%0A%20%20%20%20%3Cscript%20src%3D%22https%3A//code.jquery.com/jquery-1.12.4.min.js%22%3E%3C/script%3E%0A%20%20%20%20%3Cscript%20src%3D%22https%3A//maxcdn.bootstrapcdn.com/bootstrap/3.2.0/js/bootstrap.min.js%22%3E%3C/script%3E%0A%20%20%20%20%3Cscript%20src%3D%22https%3A//cdnjs.cloudflare.com/ajax/libs/Leaflet.awesome-markers/2.0.2/leaflet.awesome-markers.js%22%3E%3C/script%3E%0A%20%20%20%20%3Clink%20rel%3D%22stylesheet%22%20href%3D%22https%3A//cdn.jsdelivr.net/npm/leaflet%401.6.0/dist/leaflet.css%22/%3E%0A%20%20%20%20%3Clink%20rel%3D%22stylesheet%22%20href%3D%22https%3A//maxcdn.bootstrapcdn.com/bootstrap/3.2.0/css/bootstrap.min.css%22/%3E%0A%20%20%20%20%3Clink%20rel%3D%22stylesheet%22%20href%3D%22https%3A//maxcdn.bootstrapcdn.com/bootstrap/3.2.0/css/bootstrap-theme.min.css%22/%3E%0A%20%20%20%20%3Clink%20rel%3D%22stylesheet%22%20href%3D%22https%3A//maxcdn.bootstrapcdn.com/font-awesome/4.6.3/css/font-awesome.min.css%22/%3E%0A%20%20%20%20%3Clink%20rel%3D%22stylesheet%22%20href%3D%22https%3A//cdnjs.cloudflare.com/ajax/libs/Leaflet.awesome-markers/2.0.2/leaflet.awesome-markers.css%22/%3E%0A%20%20%20%20%3Clink%20rel%3D%22stylesheet%22%20href%3D%22https%3A//cdn.jsdelivr.net/gh/python-visualization/folium/folium/templates/leaflet.awesome.rotate.min.css%22/%3E%0A%20%20%20%20%0A%20%20%20%20%20%20%20%20%20%20%20%20%3Cmeta%20name%3D%22viewport%22%20content%3D%22width%3Ddevice-width%2C%0A%20%20%20%20%20%20%20%20%20%20%20%20%20%20%20%20initial-scale%3D1.0%2C%20maximum-scale%3D1.0%2C%20user-scalable%3Dno%22%20/%3E%0A%20%20%20%20%20%20%20%20%20%20%20%20%3Cstyle%3E%0A%20%20%20%20%20%20%20%20%20%20%20%20%20%20%20%20%23map_87582643ab2540feb5a06184a194e90d%20%7B%0A%20%20%20%20%20%20%20%20%20%20%20%20%20%20%20%20%20%20%20%20position%3A%20relative%3B%0A%20%20%20%20%20%20%20%20%20%20%20%20%20%20%20%20%20%20%20%20width%3A%20100.0%25%3B%0A%20%20%20%20%20%20%20%20%20%20%20%20%20%20%20%20%20%20%20%20height%3A%20100.0%25%3B%0A%20%20%20%20%20%20%20%20%20%20%20%20%20%20%20%20%20%20%20%20left%3A%200.0%25%3B%0A%20%20%20%20%20%20%20%20%20%20%20%20%20%20%20%20%20%20%20%20top%3A%200.0%25%3B%0A%20%20%20%20%20%20%20%20%20%20%20%20%20%20%20%20%7D%0A%20%20%20%20%20%20%20%20%20%20%20%20%3C/style%3E%0A%20%20%20%20%20%20%20%20%0A%3C/head%3E%0A%3Cbody%3E%20%20%20%20%0A%20%20%20%20%0A%20%20%20%20%20%20%20%20%20%20%20%20%3Cdiv%20class%3D%22folium-map%22%20id%3D%22map_87582643ab2540feb5a06184a194e90d%22%20%3E%3C/div%3E%0A%20%20%20%20%20%20%20%20%0A%3C/body%3E%0A%3Cscript%3E%20%20%20%20%0A%20%20%20%20%0A%20%20%20%20%20%20%20%20%20%20%20%20var%20map_87582643ab2540feb5a06184a194e90d%20%3D%20L.map%28%0A%20%20%20%20%20%20%20%20%20%20%20%20%20%20%20%20%22map_87582643ab2540feb5a06184a194e90d%22%2C%0A%20%20%20%20%20%20%20%20%20%20%20%20%20%20%20%20%7B%0A%20%20%20%20%20%20%20%20%20%20%20%20%20%20%20%20%20%20%20%20center%3A%20%5B41.649693%2C%20-0.887712%5D%2C%0A%20%20%20%20%20%20%20%20%20%20%20%20%20%20%20%20%20%20%20%20crs%3A%20L.CRS.EPSG3857%2C%0A%20%20%20%20%20%20%20%20%20%20%20%20%20%20%20%20%20%20%20%20zoom%3A%2010%2C%0A%20%20%20%20%20%20%20%20%20%20%20%20%20%20%20%20%20%20%20%20zoomControl%3A%20true%2C%0A%20%20%20%20%20%20%20%20%20%20%20%20%20%20%20%20%20%20%20%20preferCanvas%3A%20false%2C%0A%20%20%20%20%20%20%20%20%20%20%20%20%20%20%20%20%7D%0A%20%20%20%20%20%20%20%20%20%20%20%20%29%3B%0A%0A%20%20%20%20%20%20%20%20%20%20%20%20%0A%0A%20%20%20%20%20%20%20%20%0A%20%20%20%20%0A%20%20%20%20%20%20%20%20%20%20%20%20var%20tile_layer_8494da5a8597438e90d009e8a46bda17%20%3D%20L.tileLayer%28%0A%20%20%20%20%20%20%20%20%20%20%20%20%20%20%20%20%22https%3A//%7Bs%7D.tile.openstreetmap.org/%7Bz%7D/%7Bx%7D/%7By%7D.png%22%2C%0A%20%20%20%20%20%20%20%20%20%20%20%20%20%20%20%20%7B%22attribution%22%3A%20%22Data%20by%20%5Cu0026copy%3B%20%5Cu003ca%20href%3D%5C%22http%3A//openstreetmap.org%5C%22%5Cu003eOpenStreetMap%5Cu003c/a%5Cu003e%2C%20under%20%5Cu003ca%20href%3D%5C%22http%3A//www.openstreetmap.org/copyright%5C%22%5Cu003eODbL%5Cu003c/a%5Cu003e.%22%2C%20%22detectRetina%22%3A%20false%2C%20%22maxNativeZoom%22%3A%2018%2C%20%22maxZoom%22%3A%2018%2C%20%22minZoom%22%3A%200%2C%20%22noWrap%22%3A%20false%2C%20%22opacity%22%3A%201%2C%20%22subdomains%22%3A%20%22abc%22%2C%20%22tms%22%3A%20false%7D%0A%20%20%20%20%20%20%20%20%20%20%20%20%29.addTo%28map_87582643ab2540feb5a06184a194e90d%29%3B%0A%20%20%20%20%20%20%20%20%0A%20%20%20%20%0A%20%20%20%20%20%20%20%20%20%20%20%20var%20marker_25be1e220c1845b8abad7d5db69a5ade%20%3D%20L.marker%28%0A%20%20%20%20%20%20%20%20%20%20%20%20%20%20%20%20%5B41.649693%2C%20-0.887712%5D%2C%0A%20%20%20%20%20%20%20%20%20%20%20%20%20%20%20%20%7B%7D%0A%20%20%20%20%20%20%20%20%20%20%20%20%29.addTo%28map_87582643ab2540feb5a06184a194e90d%29%3B%0A%20%20%20%20%20%20%20%20%0A%20%20%20%20%0A%20%20%20%20%20%20%20%20var%20popup_f22bdee853c1488a8defbe7d661b86fb%20%3D%20L.popup%28%7B%22maxWidth%22%3A%20%22100%25%22%7D%29%3B%0A%0A%20%20%20%20%20%20%20%20%0A%20%20%20%20%20%20%20%20%20%20%20%20var%20html_6996e19c76ef439fae84516b06c195d0%20%3D%20%24%28%60%3Cdiv%20id%3D%22html_6996e19c76ef439fae84516b06c195d0%22%20style%3D%22width%3A%20100.0%25%3B%20height%3A%20100.0%25%3B%22%3E%C2%A1Hola%20Zaragoza%21%3C/div%3E%60%29%5B0%5D%3B%0A%20%20%20%20%20%20%20%20%20%20%20%20popup_f22bdee853c1488a8defbe7d661b86fb.setContent%28html_6996e19c76ef439fae84516b06c195d0%29%3B%0A%20%20%20%20%20%20%20%20%0A%0A%20%20%20%20%20%20%20%20marker_25be1e220c1845b8abad7d5db69a5ade.bindPopup%28popup_f22bdee853c1488a8defbe7d661b86fb%29%0A%20%20%20%20%20%20%20%20%3B%0A%0A%20%20%20%20%20%20%20%20%0A%20%20%20%20%0A%3C/script%3E onload=\"this.contentDocument.open();this.contentDocument.write(    decodeURIComponent(this.getAttribute('data-html')));this.contentDocument.close();\" allowfullscreen webkitallowfullscreen mozallowfullscreen></iframe></div></div>"
      ],
      "text/plain": [
       "<folium.folium.Map at 0x272212d8e20>"
      ]
     },
     "execution_count": 92,
     "metadata": {},
     "output_type": "execute_result"
    }
   ],
   "source": [
    "marcador = folium.Marker(coords_zrgz, popup=\"¡Hola Zaragoza!\")\n",
    "mapa = mapa.add_child(marcador)\n",
    "mapa"
   ]
  },
  {
   "cell_type": "markdown",
   "id": "564b973c",
   "metadata": {},
   "source": [
    "Marcar unas coordenadas en el mapa original de Zaragoza"
   ]
  },
  {
   "cell_type": "code",
   "execution_count": 93,
   "id": "e3e80a80",
   "metadata": {},
   "outputs": [
    {
     "data": {
      "text/html": [
       "<div style=\"width:100%;\"><div style=\"position:relative;width:100%;height:0;padding-bottom:60%;\"><span style=\"color:#565656\">Make this Notebook Trusted to load map: File -> Trust Notebook</span><iframe src=\"about:blank\" style=\"position:absolute;width:100%;height:100%;left:0;top:0;border:none !important;\" data-html=%3C%21DOCTYPE%20html%3E%0A%3Chead%3E%20%20%20%20%0A%20%20%20%20%3Cmeta%20http-equiv%3D%22content-type%22%20content%3D%22text/html%3B%20charset%3DUTF-8%22%20/%3E%0A%20%20%20%20%0A%20%20%20%20%20%20%20%20%3Cscript%3E%0A%20%20%20%20%20%20%20%20%20%20%20%20L_NO_TOUCH%20%3D%20false%3B%0A%20%20%20%20%20%20%20%20%20%20%20%20L_DISABLE_3D%20%3D%20false%3B%0A%20%20%20%20%20%20%20%20%3C/script%3E%0A%20%20%20%20%0A%20%20%20%20%3Cstyle%3Ehtml%2C%20body%20%7Bwidth%3A%20100%25%3Bheight%3A%20100%25%3Bmargin%3A%200%3Bpadding%3A%200%3B%7D%3C/style%3E%0A%20%20%20%20%3Cstyle%3E%23map%20%7Bposition%3Aabsolute%3Btop%3A0%3Bbottom%3A0%3Bright%3A0%3Bleft%3A0%3B%7D%3C/style%3E%0A%20%20%20%20%3Cscript%20src%3D%22https%3A//cdn.jsdelivr.net/npm/leaflet%401.6.0/dist/leaflet.js%22%3E%3C/script%3E%0A%20%20%20%20%3Cscript%20src%3D%22https%3A//code.jquery.com/jquery-1.12.4.min.js%22%3E%3C/script%3E%0A%20%20%20%20%3Cscript%20src%3D%22https%3A//maxcdn.bootstrapcdn.com/bootstrap/3.2.0/js/bootstrap.min.js%22%3E%3C/script%3E%0A%20%20%20%20%3Cscript%20src%3D%22https%3A//cdnjs.cloudflare.com/ajax/libs/Leaflet.awesome-markers/2.0.2/leaflet.awesome-markers.js%22%3E%3C/script%3E%0A%20%20%20%20%3Clink%20rel%3D%22stylesheet%22%20href%3D%22https%3A//cdn.jsdelivr.net/npm/leaflet%401.6.0/dist/leaflet.css%22/%3E%0A%20%20%20%20%3Clink%20rel%3D%22stylesheet%22%20href%3D%22https%3A//maxcdn.bootstrapcdn.com/bootstrap/3.2.0/css/bootstrap.min.css%22/%3E%0A%20%20%20%20%3Clink%20rel%3D%22stylesheet%22%20href%3D%22https%3A//maxcdn.bootstrapcdn.com/bootstrap/3.2.0/css/bootstrap-theme.min.css%22/%3E%0A%20%20%20%20%3Clink%20rel%3D%22stylesheet%22%20href%3D%22https%3A//maxcdn.bootstrapcdn.com/font-awesome/4.6.3/css/font-awesome.min.css%22/%3E%0A%20%20%20%20%3Clink%20rel%3D%22stylesheet%22%20href%3D%22https%3A//cdnjs.cloudflare.com/ajax/libs/Leaflet.awesome-markers/2.0.2/leaflet.awesome-markers.css%22/%3E%0A%20%20%20%20%3Clink%20rel%3D%22stylesheet%22%20href%3D%22https%3A//cdn.jsdelivr.net/gh/python-visualization/folium/folium/templates/leaflet.awesome.rotate.min.css%22/%3E%0A%20%20%20%20%0A%20%20%20%20%20%20%20%20%20%20%20%20%3Cmeta%20name%3D%22viewport%22%20content%3D%22width%3Ddevice-width%2C%0A%20%20%20%20%20%20%20%20%20%20%20%20%20%20%20%20initial-scale%3D1.0%2C%20maximum-scale%3D1.0%2C%20user-scalable%3Dno%22%20/%3E%0A%20%20%20%20%20%20%20%20%20%20%20%20%3Cstyle%3E%0A%20%20%20%20%20%20%20%20%20%20%20%20%20%20%20%20%23map_87582643ab2540feb5a06184a194e90d%20%7B%0A%20%20%20%20%20%20%20%20%20%20%20%20%20%20%20%20%20%20%20%20position%3A%20relative%3B%0A%20%20%20%20%20%20%20%20%20%20%20%20%20%20%20%20%20%20%20%20width%3A%20100.0%25%3B%0A%20%20%20%20%20%20%20%20%20%20%20%20%20%20%20%20%20%20%20%20height%3A%20100.0%25%3B%0A%20%20%20%20%20%20%20%20%20%20%20%20%20%20%20%20%20%20%20%20left%3A%200.0%25%3B%0A%20%20%20%20%20%20%20%20%20%20%20%20%20%20%20%20%20%20%20%20top%3A%200.0%25%3B%0A%20%20%20%20%20%20%20%20%20%20%20%20%20%20%20%20%7D%0A%20%20%20%20%20%20%20%20%20%20%20%20%3C/style%3E%0A%20%20%20%20%20%20%20%20%0A%3C/head%3E%0A%3Cbody%3E%20%20%20%20%0A%20%20%20%20%0A%20%20%20%20%20%20%20%20%20%20%20%20%3Cdiv%20class%3D%22folium-map%22%20id%3D%22map_87582643ab2540feb5a06184a194e90d%22%20%3E%3C/div%3E%0A%20%20%20%20%20%20%20%20%0A%3C/body%3E%0A%3Cscript%3E%20%20%20%20%0A%20%20%20%20%0A%20%20%20%20%20%20%20%20%20%20%20%20var%20map_87582643ab2540feb5a06184a194e90d%20%3D%20L.map%28%0A%20%20%20%20%20%20%20%20%20%20%20%20%20%20%20%20%22map_87582643ab2540feb5a06184a194e90d%22%2C%0A%20%20%20%20%20%20%20%20%20%20%20%20%20%20%20%20%7B%0A%20%20%20%20%20%20%20%20%20%20%20%20%20%20%20%20%20%20%20%20center%3A%20%5B41.649693%2C%20-0.887712%5D%2C%0A%20%20%20%20%20%20%20%20%20%20%20%20%20%20%20%20%20%20%20%20crs%3A%20L.CRS.EPSG3857%2C%0A%20%20%20%20%20%20%20%20%20%20%20%20%20%20%20%20%20%20%20%20zoom%3A%2010%2C%0A%20%20%20%20%20%20%20%20%20%20%20%20%20%20%20%20%20%20%20%20zoomControl%3A%20true%2C%0A%20%20%20%20%20%20%20%20%20%20%20%20%20%20%20%20%20%20%20%20preferCanvas%3A%20false%2C%0A%20%20%20%20%20%20%20%20%20%20%20%20%20%20%20%20%7D%0A%20%20%20%20%20%20%20%20%20%20%20%20%29%3B%0A%0A%20%20%20%20%20%20%20%20%20%20%20%20%0A%0A%20%20%20%20%20%20%20%20%0A%20%20%20%20%0A%20%20%20%20%20%20%20%20%20%20%20%20var%20tile_layer_8494da5a8597438e90d009e8a46bda17%20%3D%20L.tileLayer%28%0A%20%20%20%20%20%20%20%20%20%20%20%20%20%20%20%20%22https%3A//%7Bs%7D.tile.openstreetmap.org/%7Bz%7D/%7Bx%7D/%7By%7D.png%22%2C%0A%20%20%20%20%20%20%20%20%20%20%20%20%20%20%20%20%7B%22attribution%22%3A%20%22Data%20by%20%5Cu0026copy%3B%20%5Cu003ca%20href%3D%5C%22http%3A//openstreetmap.org%5C%22%5Cu003eOpenStreetMap%5Cu003c/a%5Cu003e%2C%20under%20%5Cu003ca%20href%3D%5C%22http%3A//www.openstreetmap.org/copyright%5C%22%5Cu003eODbL%5Cu003c/a%5Cu003e.%22%2C%20%22detectRetina%22%3A%20false%2C%20%22maxNativeZoom%22%3A%2018%2C%20%22maxZoom%22%3A%2018%2C%20%22minZoom%22%3A%200%2C%20%22noWrap%22%3A%20false%2C%20%22opacity%22%3A%201%2C%20%22subdomains%22%3A%20%22abc%22%2C%20%22tms%22%3A%20false%7D%0A%20%20%20%20%20%20%20%20%20%20%20%20%29.addTo%28map_87582643ab2540feb5a06184a194e90d%29%3B%0A%20%20%20%20%20%20%20%20%0A%20%20%20%20%0A%20%20%20%20%20%20%20%20%20%20%20%20var%20marker_25be1e220c1845b8abad7d5db69a5ade%20%3D%20L.marker%28%0A%20%20%20%20%20%20%20%20%20%20%20%20%20%20%20%20%5B41.649693%2C%20-0.887712%5D%2C%0A%20%20%20%20%20%20%20%20%20%20%20%20%20%20%20%20%7B%7D%0A%20%20%20%20%20%20%20%20%20%20%20%20%29.addTo%28map_87582643ab2540feb5a06184a194e90d%29%3B%0A%20%20%20%20%20%20%20%20%0A%20%20%20%20%0A%20%20%20%20%20%20%20%20var%20popup_f22bdee853c1488a8defbe7d661b86fb%20%3D%20L.popup%28%7B%22maxWidth%22%3A%20%22100%25%22%7D%29%3B%0A%0A%20%20%20%20%20%20%20%20%0A%20%20%20%20%20%20%20%20%20%20%20%20var%20html_6996e19c76ef439fae84516b06c195d0%20%3D%20%24%28%60%3Cdiv%20id%3D%22html_6996e19c76ef439fae84516b06c195d0%22%20style%3D%22width%3A%20100.0%25%3B%20height%3A%20100.0%25%3B%22%3E%C2%A1Hola%20Zaragoza%21%3C/div%3E%60%29%5B0%5D%3B%0A%20%20%20%20%20%20%20%20%20%20%20%20popup_f22bdee853c1488a8defbe7d661b86fb.setContent%28html_6996e19c76ef439fae84516b06c195d0%29%3B%0A%20%20%20%20%20%20%20%20%0A%0A%20%20%20%20%20%20%20%20marker_25be1e220c1845b8abad7d5db69a5ade.bindPopup%28popup_f22bdee853c1488a8defbe7d661b86fb%29%0A%20%20%20%20%20%20%20%20%3B%0A%0A%20%20%20%20%20%20%20%20%0A%20%20%20%20%0A%20%20%20%20%0A%20%20%20%20%20%20%20%20%20%20%20%20var%20marker_df86a3db5875471fa57cec4969f09579%20%3D%20L.marker%28%0A%20%20%20%20%20%20%20%20%20%20%20%20%20%20%20%20%5B-0.8818527060979306%2C%2041.649027473051156%5D%2C%0A%20%20%20%20%20%20%20%20%20%20%20%20%20%20%20%20%7B%7D%0A%20%20%20%20%20%20%20%20%20%20%20%20%29.addTo%28map_87582643ab2540feb5a06184a194e90d%29%3B%0A%20%20%20%20%20%20%20%20%0A%20%20%20%20%0A%20%20%20%20%20%20%20%20var%20popup_fcb8e899c3204f8abc3221efe240a6b1%20%3D%20L.popup%28%7B%22maxWidth%22%3A%20%22100%25%22%7D%29%3B%0A%0A%20%20%20%20%20%20%20%20%0A%20%20%20%20%20%20%20%20%20%20%20%20var%20html_19dd6ef4cdae4ef686eebd096bf250e9%20%3D%20%24%28%60%3Cdiv%20id%3D%22html_19dd6ef4cdae4ef686eebd096bf250e9%22%20style%3D%22width%3A%20100.0%25%3B%20height%3A%20100.0%25%3B%22%3ESALIDA%20CALZADA%3C/div%3E%60%29%5B0%5D%3B%0A%20%20%20%20%20%20%20%20%20%20%20%20popup_fcb8e899c3204f8abc3221efe240a6b1.setContent%28html_19dd6ef4cdae4ef686eebd096bf250e9%29%3B%0A%20%20%20%20%20%20%20%20%0A%0A%20%20%20%20%20%20%20%20marker_df86a3db5875471fa57cec4969f09579.bindPopup%28popup_fcb8e899c3204f8abc3221efe240a6b1%29%0A%20%20%20%20%20%20%20%20%3B%0A%0A%20%20%20%20%20%20%20%20%0A%20%20%20%20%0A%20%20%20%20%0A%20%20%20%20%20%20%20%20%20%20%20%20var%20marker_09347c5164da48bbb70dd1c6fd151aee%20%3D%20L.marker%28%0A%20%20%20%20%20%20%20%20%20%20%20%20%20%20%20%20%5B-0.8645810716721081%2C%2041.661585829868585%5D%2C%0A%20%20%20%20%20%20%20%20%20%20%20%20%20%20%20%20%7B%7D%0A%20%20%20%20%20%20%20%20%20%20%20%20%29.addTo%28map_87582643ab2540feb5a06184a194e90d%29%3B%0A%20%20%20%20%20%20%20%20%0A%20%20%20%20%0A%20%20%20%20%20%20%20%20var%20popup_d977e0d5c6be4f3fb4efc7b9adaa7c4a%20%3D%20L.popup%28%7B%22maxWidth%22%3A%20%22100%25%22%7D%29%3B%0A%0A%20%20%20%20%20%20%20%20%0A%20%20%20%20%20%20%20%20%20%20%20%20var%20html_c72068af47954316a8d81a3595aff087%20%3D%20%24%28%60%3Cdiv%20id%3D%22html_c72068af47954316a8d81a3595aff087%22%20style%3D%22width%3A%20100.0%25%3B%20height%3A%20100.0%25%3B%22%3ECOLISI%C3%93N%20ALCANCE%3C/div%3E%60%29%5B0%5D%3B%0A%20%20%20%20%20%20%20%20%20%20%20%20popup_d977e0d5c6be4f3fb4efc7b9adaa7c4a.setContent%28html_c72068af47954316a8d81a3595aff087%29%3B%0A%20%20%20%20%20%20%20%20%0A%0A%20%20%20%20%20%20%20%20marker_09347c5164da48bbb70dd1c6fd151aee.bindPopup%28popup_d977e0d5c6be4f3fb4efc7b9adaa7c4a%29%0A%20%20%20%20%20%20%20%20%3B%0A%0A%20%20%20%20%20%20%20%20%0A%20%20%20%20%0A%20%20%20%20%0A%20%20%20%20%20%20%20%20%20%20%20%20var%20marker_18552f7095324b2d8209cc1f1a4bee4a%20%3D%20L.marker%28%0A%20%20%20%20%20%20%20%20%20%20%20%20%20%20%20%20%5B-0.887776415002892%2C%2041.666992622958105%5D%2C%0A%20%20%20%20%20%20%20%20%20%20%20%20%20%20%20%20%7B%7D%0A%20%20%20%20%20%20%20%20%20%20%20%20%29.addTo%28map_87582643ab2540feb5a06184a194e90d%29%3B%0A%20%20%20%20%20%20%20%20%0A%20%20%20%20%0A%20%20%20%20%20%20%20%20var%20popup_4eb2da35897e4725bcc9fd3ae4b6e5a0%20%3D%20L.popup%28%7B%22maxWidth%22%3A%20%22100%25%22%7D%29%3B%0A%0A%20%20%20%20%20%20%20%20%0A%20%20%20%20%20%20%20%20%20%20%20%20var%20html_befeb7c34e7c461ebd73c9c6cf0cab09%20%3D%20%24%28%60%3Cdiv%20id%3D%22html_befeb7c34e7c461ebd73c9c6cf0cab09%22%20style%3D%22width%3A%20100.0%25%3B%20height%3A%20100.0%25%3B%22%3ECOLISI%C3%93N%20ALCANCE%3C/div%3E%60%29%5B0%5D%3B%0A%20%20%20%20%20%20%20%20%20%20%20%20popup_4eb2da35897e4725bcc9fd3ae4b6e5a0.setContent%28html_befeb7c34e7c461ebd73c9c6cf0cab09%29%3B%0A%20%20%20%20%20%20%20%20%0A%0A%20%20%20%20%20%20%20%20marker_18552f7095324b2d8209cc1f1a4bee4a.bindPopup%28popup_4eb2da35897e4725bcc9fd3ae4b6e5a0%29%0A%20%20%20%20%20%20%20%20%3B%0A%0A%20%20%20%20%20%20%20%20%0A%20%20%20%20%0A%20%20%20%20%0A%20%20%20%20%20%20%20%20%20%20%20%20var%20marker_d87fb3400ac44a0b98f9ea1749ada15c%20%3D%20L.marker%28%0A%20%20%20%20%20%20%20%20%20%20%20%20%20%20%20%20%5B-0.8825260453930127%2C%2041.62957498750602%5D%2C%0A%20%20%20%20%20%20%20%20%20%20%20%20%20%20%20%20%7B%7D%0A%20%20%20%20%20%20%20%20%20%20%20%20%29.addTo%28map_87582643ab2540feb5a06184a194e90d%29%3B%0A%20%20%20%20%20%20%20%20%0A%20%20%20%20%0A%20%20%20%20%20%20%20%20var%20popup_d9a3530d183d4630a67577784a948bac%20%3D%20L.popup%28%7B%22maxWidth%22%3A%20%22100%25%22%7D%29%3B%0A%0A%20%20%20%20%20%20%20%20%0A%20%20%20%20%20%20%20%20%20%20%20%20var%20html_4e24b11c4600482bb0d0c6dcffeee7ab%20%3D%20%24%28%60%3Cdiv%20id%3D%22html_4e24b11c4600482bb0d0c6dcffeee7ab%22%20style%3D%22width%3A%20100.0%25%3B%20height%3A%20100.0%25%3B%22%3ECOLIS%20FRONTOLATERAL%3C/div%3E%60%29%5B0%5D%3B%0A%20%20%20%20%20%20%20%20%20%20%20%20popup_d9a3530d183d4630a67577784a948bac.setContent%28html_4e24b11c4600482bb0d0c6dcffeee7ab%29%3B%0A%20%20%20%20%20%20%20%20%0A%0A%20%20%20%20%20%20%20%20marker_d87fb3400ac44a0b98f9ea1749ada15c.bindPopup%28popup_d9a3530d183d4630a67577784a948bac%29%0A%20%20%20%20%20%20%20%20%3B%0A%0A%20%20%20%20%20%20%20%20%0A%20%20%20%20%0A%20%20%20%20%0A%20%20%20%20%20%20%20%20%20%20%20%20var%20marker_28f6688afd594ab09adf533b82d2f6f5%20%3D%20L.marker%28%0A%20%20%20%20%20%20%20%20%20%20%20%20%20%20%20%20%5B-0.908314757720389%2C%2041.6562121210704%5D%2C%0A%20%20%20%20%20%20%20%20%20%20%20%20%20%20%20%20%7B%7D%0A%20%20%20%20%20%20%20%20%20%20%20%20%29.addTo%28map_87582643ab2540feb5a06184a194e90d%29%3B%0A%20%20%20%20%20%20%20%20%0A%20%20%20%20%0A%20%20%20%20%20%20%20%20var%20popup_bb6922bd44184112b0d0a9f888ebb4db%20%3D%20L.popup%28%7B%22maxWidth%22%3A%20%22100%25%22%7D%29%3B%0A%0A%20%20%20%20%20%20%20%20%0A%20%20%20%20%20%20%20%20%20%20%20%20var%20html_a6b5bace19604defac809b1deade5ffb%20%3D%20%24%28%60%3Cdiv%20id%3D%22html_a6b5bace19604defac809b1deade5ffb%22%20style%3D%22width%3A%20100.0%25%3B%20height%3A%20100.0%25%3B%22%3ESALIDA%20CALZADA%3C/div%3E%60%29%5B0%5D%3B%0A%20%20%20%20%20%20%20%20%20%20%20%20popup_bb6922bd44184112b0d0a9f888ebb4db.setContent%28html_a6b5bace19604defac809b1deade5ffb%29%3B%0A%20%20%20%20%20%20%20%20%0A%0A%20%20%20%20%20%20%20%20marker_28f6688afd594ab09adf533b82d2f6f5.bindPopup%28popup_bb6922bd44184112b0d0a9f888ebb4db%29%0A%20%20%20%20%20%20%20%20%3B%0A%0A%20%20%20%20%20%20%20%20%0A%20%20%20%20%0A%20%20%20%20%0A%20%20%20%20%20%20%20%20%20%20%20%20var%20marker_821ed15c17794dfd954ced17c153dcba%20%3D%20L.marker%28%0A%20%20%20%20%20%20%20%20%20%20%20%20%20%20%20%20%5B-0.8691088511672924%2C%2041.65949772773082%5D%2C%0A%20%20%20%20%20%20%20%20%20%20%20%20%20%20%20%20%7B%7D%0A%20%20%20%20%20%20%20%20%20%20%20%20%29.addTo%28map_87582643ab2540feb5a06184a194e90d%29%3B%0A%20%20%20%20%20%20%20%20%0A%20%20%20%20%0A%20%20%20%20%20%20%20%20var%20popup_bd12cc1d419b4db2b41079cc399a36bb%20%3D%20L.popup%28%7B%22maxWidth%22%3A%20%22100%25%22%7D%29%3B%0A%0A%20%20%20%20%20%20%20%20%0A%20%20%20%20%20%20%20%20%20%20%20%20var%20html_321859a89da34f96be54f9c4867e02c7%20%3D%20%24%28%60%3Cdiv%20id%3D%22html_321859a89da34f96be54f9c4867e02c7%22%20style%3D%22width%3A%20100.0%25%3B%20height%3A%20100.0%25%3B%22%3EOTRAS%3C/div%3E%60%29%5B0%5D%3B%0A%20%20%20%20%20%20%20%20%20%20%20%20popup_bd12cc1d419b4db2b41079cc399a36bb.setContent%28html_321859a89da34f96be54f9c4867e02c7%29%3B%0A%20%20%20%20%20%20%20%20%0A%0A%20%20%20%20%20%20%20%20marker_821ed15c17794dfd954ced17c153dcba.bindPopup%28popup_bd12cc1d419b4db2b41079cc399a36bb%29%0A%20%20%20%20%20%20%20%20%3B%0A%0A%20%20%20%20%20%20%20%20%0A%20%20%20%20%0A%20%20%20%20%0A%20%20%20%20%20%20%20%20%20%20%20%20var%20marker_a8b4990d5cbc493d9ff88beca161e5a2%20%3D%20L.marker%28%0A%20%20%20%20%20%20%20%20%20%20%20%20%20%20%20%20%5B-0.8880337913721866%2C%2041.633353667694024%5D%2C%0A%20%20%20%20%20%20%20%20%20%20%20%20%20%20%20%20%7B%7D%0A%20%20%20%20%20%20%20%20%20%20%20%20%29.addTo%28map_87582643ab2540feb5a06184a194e90d%29%3B%0A%20%20%20%20%20%20%20%20%0A%20%20%20%20%0A%20%20%20%20%20%20%20%20var%20popup_e6791ae3d9da43f08bf584656f16e541%20%3D%20L.popup%28%7B%22maxWidth%22%3A%20%22100%25%22%7D%29%3B%0A%0A%20%20%20%20%20%20%20%20%0A%20%20%20%20%20%20%20%20%20%20%20%20var%20html_7a132b8799d9499e8dabc5e2bf216dad%20%3D%20%24%28%60%3Cdiv%20id%3D%22html_7a132b8799d9499e8dabc5e2bf216dad%22%20style%3D%22width%3A%20100.0%25%3B%20height%3A%20100.0%25%3B%22%3EATROPELLO%3C/div%3E%60%29%5B0%5D%3B%0A%20%20%20%20%20%20%20%20%20%20%20%20popup_e6791ae3d9da43f08bf584656f16e541.setContent%28html_7a132b8799d9499e8dabc5e2bf216dad%29%3B%0A%20%20%20%20%20%20%20%20%0A%0A%20%20%20%20%20%20%20%20marker_a8b4990d5cbc493d9ff88beca161e5a2.bindPopup%28popup_e6791ae3d9da43f08bf584656f16e541%29%0A%20%20%20%20%20%20%20%20%3B%0A%0A%20%20%20%20%20%20%20%20%0A%20%20%20%20%0A%20%20%20%20%0A%20%20%20%20%20%20%20%20%20%20%20%20var%20marker_bc7a2a9fd6de4865ba26556030348dc5%20%3D%20L.marker%28%0A%20%20%20%20%20%20%20%20%20%20%20%20%20%20%20%20%5B-0.8708838775078237%2C%2041.6390382112928%5D%2C%0A%20%20%20%20%20%20%20%20%20%20%20%20%20%20%20%20%7B%7D%0A%20%20%20%20%20%20%20%20%20%20%20%20%29.addTo%28map_87582643ab2540feb5a06184a194e90d%29%3B%0A%20%20%20%20%20%20%20%20%0A%20%20%20%20%0A%20%20%20%20%20%20%20%20var%20popup_31dc187a053b4ddb8718c2df07c0419a%20%3D%20L.popup%28%7B%22maxWidth%22%3A%20%22100%25%22%7D%29%3B%0A%0A%20%20%20%20%20%20%20%20%0A%20%20%20%20%20%20%20%20%20%20%20%20var%20html_64497585fe804aec93e9a80b3cd334e2%20%3D%20%24%28%60%3Cdiv%20id%3D%22html_64497585fe804aec93e9a80b3cd334e2%22%20style%3D%22width%3A%20100.0%25%3B%20height%3A%20100.0%25%3B%22%3ECAIDA%20SOBRE%20CALZADA%3C/div%3E%60%29%5B0%5D%3B%0A%20%20%20%20%20%20%20%20%20%20%20%20popup_31dc187a053b4ddb8718c2df07c0419a.setContent%28html_64497585fe804aec93e9a80b3cd334e2%29%3B%0A%20%20%20%20%20%20%20%20%0A%0A%20%20%20%20%20%20%20%20marker_bc7a2a9fd6de4865ba26556030348dc5.bindPopup%28popup_31dc187a053b4ddb8718c2df07c0419a%29%0A%20%20%20%20%20%20%20%20%3B%0A%0A%20%20%20%20%20%20%20%20%0A%20%20%20%20%0A%20%20%20%20%0A%20%20%20%20%20%20%20%20%20%20%20%20var%20marker_0acd5e8abbcf4451a523811dca2115eb%20%3D%20L.marker%28%0A%20%20%20%20%20%20%20%20%20%20%20%20%20%20%20%20%5B-0.8970649943808023%2C%2041.64083344974765%5D%2C%0A%20%20%20%20%20%20%20%20%20%20%20%20%20%20%20%20%7B%7D%0A%20%20%20%20%20%20%20%20%20%20%20%20%29.addTo%28map_87582643ab2540feb5a06184a194e90d%29%3B%0A%20%20%20%20%20%20%20%20%0A%20%20%20%20%0A%20%20%20%20%20%20%20%20var%20popup_b0fa3f76f25f4c3986fa16a6da991509%20%3D%20L.popup%28%7B%22maxWidth%22%3A%20%22100%25%22%7D%29%3B%0A%0A%20%20%20%20%20%20%20%20%0A%20%20%20%20%20%20%20%20%20%20%20%20var%20html_501821c4362e45febc593b55e8efd9eb%20%3D%20%24%28%60%3Cdiv%20id%3D%22html_501821c4362e45febc593b55e8efd9eb%22%20style%3D%22width%3A%20100.0%25%3B%20height%3A%20100.0%25%3B%22%3ECOLIS.%20MARCHA%20ATR%C3%81S%3C/div%3E%60%29%5B0%5D%3B%0A%20%20%20%20%20%20%20%20%20%20%20%20popup_b0fa3f76f25f4c3986fa16a6da991509.setContent%28html_501821c4362e45febc593b55e8efd9eb%29%3B%0A%20%20%20%20%20%20%20%20%0A%0A%20%20%20%20%20%20%20%20marker_0acd5e8abbcf4451a523811dca2115eb.bindPopup%28popup_b0fa3f76f25f4c3986fa16a6da991509%29%0A%20%20%20%20%20%20%20%20%3B%0A%0A%20%20%20%20%20%20%20%20%0A%20%20%20%20%0A%20%20%20%20%0A%20%20%20%20%20%20%20%20%20%20%20%20var%20marker_8fc343a5f6234475a3845d1fcb56538e%20%3D%20L.marker%28%0A%20%20%20%20%20%20%20%20%20%20%20%20%20%20%20%20%5B-0.8718525605769747%2C%2041.64904657717317%5D%2C%0A%20%20%20%20%20%20%20%20%20%20%20%20%20%20%20%20%7B%7D%0A%20%20%20%20%20%20%20%20%20%20%20%20%29.addTo%28map_87582643ab2540feb5a06184a194e90d%29%3B%0A%20%20%20%20%20%20%20%20%0A%20%20%20%20%0A%20%20%20%20%20%20%20%20var%20popup_7ed2cc58b89e4a62af574427bc823b13%20%3D%20L.popup%28%7B%22maxWidth%22%3A%20%22100%25%22%7D%29%3B%0A%0A%20%20%20%20%20%20%20%20%0A%20%20%20%20%20%20%20%20%20%20%20%20var%20html_37960a65600b47c99021b8ce70e16751%20%3D%20%24%28%60%3Cdiv%20id%3D%22html_37960a65600b47c99021b8ce70e16751%22%20style%3D%22width%3A%20100.0%25%3B%20height%3A%20100.0%25%3B%22%3ECOLISI%C3%93N%20LATERAL%3C/div%3E%60%29%5B0%5D%3B%0A%20%20%20%20%20%20%20%20%20%20%20%20popup_7ed2cc58b89e4a62af574427bc823b13.setContent%28html_37960a65600b47c99021b8ce70e16751%29%3B%0A%20%20%20%20%20%20%20%20%0A%0A%20%20%20%20%20%20%20%20marker_8fc343a5f6234475a3845d1fcb56538e.bindPopup%28popup_7ed2cc58b89e4a62af574427bc823b13%29%0A%20%20%20%20%20%20%20%20%3B%0A%0A%20%20%20%20%20%20%20%20%0A%20%20%20%20%0A%20%20%20%20%0A%20%20%20%20%20%20%20%20%20%20%20%20var%20marker_d36a01b05cd0452e9b65e446104ce073%20%3D%20L.marker%28%0A%20%20%20%20%20%20%20%20%20%20%20%20%20%20%20%20%5B-0.8964627561577849%2C%2041.64322365075108%5D%2C%0A%20%20%20%20%20%20%20%20%20%20%20%20%20%20%20%20%7B%7D%0A%20%20%20%20%20%20%20%20%20%20%20%20%29.addTo%28map_87582643ab2540feb5a06184a194e90d%29%3B%0A%20%20%20%20%20%20%20%20%0A%20%20%20%20%0A%20%20%20%20%20%20%20%20var%20popup_7d8c19b82859451ca6e9271fc3f05dd6%20%3D%20L.popup%28%7B%22maxWidth%22%3A%20%22100%25%22%7D%29%3B%0A%0A%20%20%20%20%20%20%20%20%0A%20%20%20%20%20%20%20%20%20%20%20%20var%20html_1b5896479d124ae0b656ac631449baf8%20%3D%20%24%28%60%3Cdiv%20id%3D%22html_1b5896479d124ae0b656ac631449baf8%22%20style%3D%22width%3A%20100.0%25%3B%20height%3A%20100.0%25%3B%22%3EOTRAS%3C/div%3E%60%29%5B0%5D%3B%0A%20%20%20%20%20%20%20%20%20%20%20%20popup_7d8c19b82859451ca6e9271fc3f05dd6.setContent%28html_1b5896479d124ae0b656ac631449baf8%29%3B%0A%20%20%20%20%20%20%20%20%0A%0A%20%20%20%20%20%20%20%20marker_d36a01b05cd0452e9b65e446104ce073.bindPopup%28popup_7d8c19b82859451ca6e9271fc3f05dd6%29%0A%20%20%20%20%20%20%20%20%3B%0A%0A%20%20%20%20%20%20%20%20%0A%20%20%20%20%0A%20%20%20%20%0A%20%20%20%20%20%20%20%20%20%20%20%20var%20marker_29f9c7d8054d4e56a12bd0ab65d801fc%20%3D%20L.marker%28%0A%20%20%20%20%20%20%20%20%20%20%20%20%20%20%20%20%5B-0.8778095796207178%2C%2041.68753087470739%5D%2C%0A%20%20%20%20%20%20%20%20%20%20%20%20%20%20%20%20%7B%7D%0A%20%20%20%20%20%20%20%20%20%20%20%20%29.addTo%28map_87582643ab2540feb5a06184a194e90d%29%3B%0A%20%20%20%20%20%20%20%20%0A%20%20%20%20%0A%20%20%20%20%20%20%20%20var%20popup_2ea139eb43aa48548b2ac9ff308bfbde%20%3D%20L.popup%28%7B%22maxWidth%22%3A%20%22100%25%22%7D%29%3B%0A%0A%20%20%20%20%20%20%20%20%0A%20%20%20%20%20%20%20%20%20%20%20%20var%20html_aded18960b5645aaa6702ca858c166d2%20%3D%20%24%28%60%3Cdiv%20id%3D%22html_aded18960b5645aaa6702ca858c166d2%22%20style%3D%22width%3A%20100.0%25%3B%20height%3A%20100.0%25%3B%22%3ECOLISI%C3%93N%20ALCANCE%3C/div%3E%60%29%5B0%5D%3B%0A%20%20%20%20%20%20%20%20%20%20%20%20popup_2ea139eb43aa48548b2ac9ff308bfbde.setContent%28html_aded18960b5645aaa6702ca858c166d2%29%3B%0A%20%20%20%20%20%20%20%20%0A%0A%20%20%20%20%20%20%20%20marker_29f9c7d8054d4e56a12bd0ab65d801fc.bindPopup%28popup_2ea139eb43aa48548b2ac9ff308bfbde%29%0A%20%20%20%20%20%20%20%20%3B%0A%0A%20%20%20%20%20%20%20%20%0A%20%20%20%20%0A%20%20%20%20%0A%20%20%20%20%20%20%20%20%20%20%20%20var%20marker_756ab6c2e80b47fdb528fcac30a696d7%20%3D%20L.marker%28%0A%20%20%20%20%20%20%20%20%20%20%20%20%20%20%20%20%5B-0.8812157329722801%2C%2041.661646612715046%5D%2C%0A%20%20%20%20%20%20%20%20%20%20%20%20%20%20%20%20%7B%7D%0A%20%20%20%20%20%20%20%20%20%20%20%20%29.addTo%28map_87582643ab2540feb5a06184a194e90d%29%3B%0A%20%20%20%20%20%20%20%20%0A%20%20%20%20%0A%20%20%20%20%20%20%20%20var%20popup_138a05e45bf14816ad441bd83d25bcfa%20%3D%20L.popup%28%7B%22maxWidth%22%3A%20%22100%25%22%7D%29%3B%0A%0A%20%20%20%20%20%20%20%20%0A%20%20%20%20%20%20%20%20%20%20%20%20var%20html_30aca4c2923c4c7b825eb95d830f17ec%20%3D%20%24%28%60%3Cdiv%20id%3D%22html_30aca4c2923c4c7b825eb95d830f17ec%22%20style%3D%22width%3A%20100.0%25%3B%20height%3A%20100.0%25%3B%22%3ESALIDA%20CALZADA%3C/div%3E%60%29%5B0%5D%3B%0A%20%20%20%20%20%20%20%20%20%20%20%20popup_138a05e45bf14816ad441bd83d25bcfa.setContent%28html_30aca4c2923c4c7b825eb95d830f17ec%29%3B%0A%20%20%20%20%20%20%20%20%0A%0A%20%20%20%20%20%20%20%20marker_756ab6c2e80b47fdb528fcac30a696d7.bindPopup%28popup_138a05e45bf14816ad441bd83d25bcfa%29%0A%20%20%20%20%20%20%20%20%3B%0A%0A%20%20%20%20%20%20%20%20%0A%20%20%20%20%0A%20%20%20%20%0A%20%20%20%20%20%20%20%20%20%20%20%20var%20marker_320b2ffe248a41fdad946c6fa51d5448%20%3D%20L.marker%28%0A%20%20%20%20%20%20%20%20%20%20%20%20%20%20%20%20%5B-0.8762000299022707%2C%2041.6454384961757%5D%2C%0A%20%20%20%20%20%20%20%20%20%20%20%20%20%20%20%20%7B%7D%0A%20%20%20%20%20%20%20%20%20%20%20%20%29.addTo%28map_87582643ab2540feb5a06184a194e90d%29%3B%0A%20%20%20%20%20%20%20%20%0A%20%20%20%20%0A%20%20%20%20%20%20%20%20var%20popup_92ec26f260ac42819296185d0d4f19f5%20%3D%20L.popup%28%7B%22maxWidth%22%3A%20%22100%25%22%7D%29%3B%0A%0A%20%20%20%20%20%20%20%20%0A%20%20%20%20%20%20%20%20%20%20%20%20var%20html_b93595d958eb47f7a2df0b26ae449b0f%20%3D%20%24%28%60%3Cdiv%20id%3D%22html_b93595d958eb47f7a2df0b26ae449b0f%22%20style%3D%22width%3A%20100.0%25%3B%20height%3A%20100.0%25%3B%22%3ECOLISI%C3%93N%20ALCANCE%3C/div%3E%60%29%5B0%5D%3B%0A%20%20%20%20%20%20%20%20%20%20%20%20popup_92ec26f260ac42819296185d0d4f19f5.setContent%28html_b93595d958eb47f7a2df0b26ae449b0f%29%3B%0A%20%20%20%20%20%20%20%20%0A%0A%20%20%20%20%20%20%20%20marker_320b2ffe248a41fdad946c6fa51d5448.bindPopup%28popup_92ec26f260ac42819296185d0d4f19f5%29%0A%20%20%20%20%20%20%20%20%3B%0A%0A%20%20%20%20%20%20%20%20%0A%20%20%20%20%0A%20%20%20%20%0A%20%20%20%20%20%20%20%20%20%20%20%20var%20marker_0b077276b25b43d49d484ee34b18f454%20%3D%20L.marker%28%0A%20%20%20%20%20%20%20%20%20%20%20%20%20%20%20%20%5B-0.9089013552408617%2C%2041.65543768899759%5D%2C%0A%20%20%20%20%20%20%20%20%20%20%20%20%20%20%20%20%7B%7D%0A%20%20%20%20%20%20%20%20%20%20%20%20%29.addTo%28map_87582643ab2540feb5a06184a194e90d%29%3B%0A%20%20%20%20%20%20%20%20%0A%20%20%20%20%0A%20%20%20%20%20%20%20%20var%20popup_047d9c840f8345caa377cb8acc8493de%20%3D%20L.popup%28%7B%22maxWidth%22%3A%20%22100%25%22%7D%29%3B%0A%0A%20%20%20%20%20%20%20%20%0A%20%20%20%20%20%20%20%20%20%20%20%20var%20html_4e25dd5f72744d2e9a079eabdaba352c%20%3D%20%24%28%60%3Cdiv%20id%3D%22html_4e25dd5f72744d2e9a079eabdaba352c%22%20style%3D%22width%3A%20100.0%25%3B%20height%3A%20100.0%25%3B%22%3EATROPELLO%3C/div%3E%60%29%5B0%5D%3B%0A%20%20%20%20%20%20%20%20%20%20%20%20popup_047d9c840f8345caa377cb8acc8493de.setContent%28html_4e25dd5f72744d2e9a079eabdaba352c%29%3B%0A%20%20%20%20%20%20%20%20%0A%0A%20%20%20%20%20%20%20%20marker_0b077276b25b43d49d484ee34b18f454.bindPopup%28popup_047d9c840f8345caa377cb8acc8493de%29%0A%20%20%20%20%20%20%20%20%3B%0A%0A%20%20%20%20%20%20%20%20%0A%20%20%20%20%0A%20%20%20%20%0A%20%20%20%20%20%20%20%20%20%20%20%20var%20marker_4d36ae23ad4146bbaffa0d0d2282da41%20%3D%20L.marker%28%0A%20%20%20%20%20%20%20%20%20%20%20%20%20%20%20%20%5B-0.9004729973337304%2C%2041.65180346604993%5D%2C%0A%20%20%20%20%20%20%20%20%20%20%20%20%20%20%20%20%7B%7D%0A%20%20%20%20%20%20%20%20%20%20%20%20%29.addTo%28map_87582643ab2540feb5a06184a194e90d%29%3B%0A%20%20%20%20%20%20%20%20%0A%20%20%20%20%0A%20%20%20%20%20%20%20%20var%20popup_a4fb91dab19b4f36b11c385d1bbd3098%20%3D%20L.popup%28%7B%22maxWidth%22%3A%20%22100%25%22%7D%29%3B%0A%0A%20%20%20%20%20%20%20%20%0A%20%20%20%20%20%20%20%20%20%20%20%20var%20html_4d6f4fbd470f42e8bcb9767166b05e38%20%3D%20%24%28%60%3Cdiv%20id%3D%22html_4d6f4fbd470f42e8bcb9767166b05e38%22%20style%3D%22width%3A%20100.0%25%3B%20height%3A%20100.0%25%3B%22%3ECOLISI%C3%93N%20ALCANCE%3C/div%3E%60%29%5B0%5D%3B%0A%20%20%20%20%20%20%20%20%20%20%20%20popup_a4fb91dab19b4f36b11c385d1bbd3098.setContent%28html_4d6f4fbd470f42e8bcb9767166b05e38%29%3B%0A%20%20%20%20%20%20%20%20%0A%0A%20%20%20%20%20%20%20%20marker_4d36ae23ad4146bbaffa0d0d2282da41.bindPopup%28popup_a4fb91dab19b4f36b11c385d1bbd3098%29%0A%20%20%20%20%20%20%20%20%3B%0A%0A%20%20%20%20%20%20%20%20%0A%20%20%20%20%0A%20%20%20%20%0A%20%20%20%20%20%20%20%20%20%20%20%20var%20marker_243261c455b14088802676dea414aab7%20%3D%20L.marker%28%0A%20%20%20%20%20%20%20%20%20%20%20%20%20%20%20%20%5B-0.8917562993466011%2C%2041.65233828238132%5D%2C%0A%20%20%20%20%20%20%20%20%20%20%20%20%20%20%20%20%7B%7D%0A%20%20%20%20%20%20%20%20%20%20%20%20%29.addTo%28map_87582643ab2540feb5a06184a194e90d%29%3B%0A%20%20%20%20%20%20%20%20%0A%20%20%20%20%0A%20%20%20%20%20%20%20%20var%20popup_67f40be4d9494e25b5fc6cbfd30d9867%20%3D%20L.popup%28%7B%22maxWidth%22%3A%20%22100%25%22%7D%29%3B%0A%0A%20%20%20%20%20%20%20%20%0A%20%20%20%20%20%20%20%20%20%20%20%20var%20html_2ab9580e73fb4e4ba74390bf980102da%20%3D%20%24%28%60%3Cdiv%20id%3D%22html_2ab9580e73fb4e4ba74390bf980102da%22%20style%3D%22width%3A%20100.0%25%3B%20height%3A%20100.0%25%3B%22%3ECOLISI%C3%93N%20ALCANCE%3C/div%3E%60%29%5B0%5D%3B%0A%20%20%20%20%20%20%20%20%20%20%20%20popup_67f40be4d9494e25b5fc6cbfd30d9867.setContent%28html_2ab9580e73fb4e4ba74390bf980102da%29%3B%0A%20%20%20%20%20%20%20%20%0A%0A%20%20%20%20%20%20%20%20marker_243261c455b14088802676dea414aab7.bindPopup%28popup_67f40be4d9494e25b5fc6cbfd30d9867%29%0A%20%20%20%20%20%20%20%20%3B%0A%0A%20%20%20%20%20%20%20%20%0A%20%20%20%20%0A%20%20%20%20%0A%20%20%20%20%20%20%20%20%20%20%20%20var%20marker_9305265811f94fc6be443dd4ea85fe64%20%3D%20L.marker%28%0A%20%20%20%20%20%20%20%20%20%20%20%20%20%20%20%20%5B-0.888856043735591%2C%2041.65040494617356%5D%2C%0A%20%20%20%20%20%20%20%20%20%20%20%20%20%20%20%20%7B%7D%0A%20%20%20%20%20%20%20%20%20%20%20%20%29.addTo%28map_87582643ab2540feb5a06184a194e90d%29%3B%0A%20%20%20%20%20%20%20%20%0A%20%20%20%20%0A%20%20%20%20%20%20%20%20var%20popup_d619a21004a74f828054a6a2f1932e39%20%3D%20L.popup%28%7B%22maxWidth%22%3A%20%22100%25%22%7D%29%3B%0A%0A%20%20%20%20%20%20%20%20%0A%20%20%20%20%20%20%20%20%20%20%20%20var%20html_ada22f1dc486475bbdfe30dd76295aaa%20%3D%20%24%28%60%3Cdiv%20id%3D%22html_ada22f1dc486475bbdfe30dd76295aaa%22%20style%3D%22width%3A%20100.0%25%3B%20height%3A%20100.0%25%3B%22%3ECOLISI%C3%93N%20ALCANCE%3C/div%3E%60%29%5B0%5D%3B%0A%20%20%20%20%20%20%20%20%20%20%20%20popup_d619a21004a74f828054a6a2f1932e39.setContent%28html_ada22f1dc486475bbdfe30dd76295aaa%29%3B%0A%20%20%20%20%20%20%20%20%0A%0A%20%20%20%20%20%20%20%20marker_9305265811f94fc6be443dd4ea85fe64.bindPopup%28popup_d619a21004a74f828054a6a2f1932e39%29%0A%20%20%20%20%20%20%20%20%3B%0A%0A%20%20%20%20%20%20%20%20%0A%20%20%20%20%0A%20%20%20%20%0A%20%20%20%20%20%20%20%20%20%20%20%20var%20marker_d58a3df34c184710a138fc2ab0773896%20%3D%20L.marker%28%0A%20%20%20%20%20%20%20%20%20%20%20%20%20%20%20%20%5B-0.8629911318784169%2C%2041.645335650478316%5D%2C%0A%20%20%20%20%20%20%20%20%20%20%20%20%20%20%20%20%7B%7D%0A%20%20%20%20%20%20%20%20%20%20%20%20%29.addTo%28map_87582643ab2540feb5a06184a194e90d%29%3B%0A%20%20%20%20%20%20%20%20%0A%20%20%20%20%0A%20%20%20%20%20%20%20%20var%20popup_916d98ec17554273be1c19f5793b4669%20%3D%20L.popup%28%7B%22maxWidth%22%3A%20%22100%25%22%7D%29%3B%0A%0A%20%20%20%20%20%20%20%20%0A%20%20%20%20%20%20%20%20%20%20%20%20var%20html_f61519e162da415cb0a44e3dca96ac1c%20%3D%20%24%28%60%3Cdiv%20id%3D%22html_f61519e162da415cb0a44e3dca96ac1c%22%20style%3D%22width%3A%20100.0%25%3B%20height%3A%20100.0%25%3B%22%3ECOLISI%C3%93N%20ALCANCE%3C/div%3E%60%29%5B0%5D%3B%0A%20%20%20%20%20%20%20%20%20%20%20%20popup_916d98ec17554273be1c19f5793b4669.setContent%28html_f61519e162da415cb0a44e3dca96ac1c%29%3B%0A%20%20%20%20%20%20%20%20%0A%0A%20%20%20%20%20%20%20%20marker_d58a3df34c184710a138fc2ab0773896.bindPopup%28popup_916d98ec17554273be1c19f5793b4669%29%0A%20%20%20%20%20%20%20%20%3B%0A%0A%20%20%20%20%20%20%20%20%0A%20%20%20%20%0A%20%20%20%20%0A%20%20%20%20%20%20%20%20%20%20%20%20var%20marker_00de2aefbd134e74b6be8c47cbb88a31%20%3D%20L.marker%28%0A%20%20%20%20%20%20%20%20%20%20%20%20%20%20%20%20%5B-0.8870207060655807%2C%2041.609992514227066%5D%2C%0A%20%20%20%20%20%20%20%20%20%20%20%20%20%20%20%20%7B%7D%0A%20%20%20%20%20%20%20%20%20%20%20%20%29.addTo%28map_87582643ab2540feb5a06184a194e90d%29%3B%0A%20%20%20%20%20%20%20%20%0A%20%20%20%20%0A%20%20%20%20%20%20%20%20var%20popup_8e373b1c78ae4309900553c7db28b71b%20%3D%20L.popup%28%7B%22maxWidth%22%3A%20%22100%25%22%7D%29%3B%0A%0A%20%20%20%20%20%20%20%20%0A%20%20%20%20%20%20%20%20%20%20%20%20var%20html_33781677e25c4aa799e6d6fc3281e980%20%3D%20%24%28%60%3Cdiv%20id%3D%22html_33781677e25c4aa799e6d6fc3281e980%22%20style%3D%22width%3A%20100.0%25%3B%20height%3A%20100.0%25%3B%22%3ECOLISI%C3%93N%20ALCANCE%3C/div%3E%60%29%5B0%5D%3B%0A%20%20%20%20%20%20%20%20%20%20%20%20popup_8e373b1c78ae4309900553c7db28b71b.setContent%28html_33781677e25c4aa799e6d6fc3281e980%29%3B%0A%20%20%20%20%20%20%20%20%0A%0A%20%20%20%20%20%20%20%20marker_00de2aefbd134e74b6be8c47cbb88a31.bindPopup%28popup_8e373b1c78ae4309900553c7db28b71b%29%0A%20%20%20%20%20%20%20%20%3B%0A%0A%20%20%20%20%20%20%20%20%0A%20%20%20%20%0A%20%20%20%20%0A%20%20%20%20%20%20%20%20%20%20%20%20var%20marker_531af1f868b04bcba6df02f0106dbc0b%20%3D%20L.marker%28%0A%20%20%20%20%20%20%20%20%20%20%20%20%20%20%20%20%5B-0.8636325074780108%2C%2041.63379905763323%5D%2C%0A%20%20%20%20%20%20%20%20%20%20%20%20%20%20%20%20%7B%7D%0A%20%20%20%20%20%20%20%20%20%20%20%20%29.addTo%28map_87582643ab2540feb5a06184a194e90d%29%3B%0A%20%20%20%20%20%20%20%20%0A%20%20%20%20%0A%20%20%20%20%20%20%20%20var%20popup_de55adf3a6e947d992a5d3ffd1a267ac%20%3D%20L.popup%28%7B%22maxWidth%22%3A%20%22100%25%22%7D%29%3B%0A%0A%20%20%20%20%20%20%20%20%0A%20%20%20%20%20%20%20%20%20%20%20%20var%20html_3af7559292f74cd68757c42ff9eb4add%20%3D%20%24%28%60%3Cdiv%20id%3D%22html_3af7559292f74cd68757c42ff9eb4add%22%20style%3D%22width%3A%20100.0%25%3B%20height%3A%20100.0%25%3B%22%3ECOLISI%C3%93N%20LATERAL%3C/div%3E%60%29%5B0%5D%3B%0A%20%20%20%20%20%20%20%20%20%20%20%20popup_de55adf3a6e947d992a5d3ffd1a267ac.setContent%28html_3af7559292f74cd68757c42ff9eb4add%29%3B%0A%20%20%20%20%20%20%20%20%0A%0A%20%20%20%20%20%20%20%20marker_531af1f868b04bcba6df02f0106dbc0b.bindPopup%28popup_de55adf3a6e947d992a5d3ffd1a267ac%29%0A%20%20%20%20%20%20%20%20%3B%0A%0A%20%20%20%20%20%20%20%20%0A%20%20%20%20%0A%20%20%20%20%0A%20%20%20%20%20%20%20%20%20%20%20%20var%20marker_82c5a61527ae425d8138927c7ca44cab%20%3D%20L.marker%28%0A%20%20%20%20%20%20%20%20%20%20%20%20%20%20%20%20%5B-0.8760724207544668%2C%2041.63275556609146%5D%2C%0A%20%20%20%20%20%20%20%20%20%20%20%20%20%20%20%20%7B%7D%0A%20%20%20%20%20%20%20%20%20%20%20%20%29.addTo%28map_87582643ab2540feb5a06184a194e90d%29%3B%0A%20%20%20%20%20%20%20%20%0A%20%20%20%20%0A%20%20%20%20%20%20%20%20var%20popup_1fb9f62e653540f4ac3baa98ab60f915%20%3D%20L.popup%28%7B%22maxWidth%22%3A%20%22100%25%22%7D%29%3B%0A%0A%20%20%20%20%20%20%20%20%0A%20%20%20%20%20%20%20%20%20%20%20%20var%20html_af871e3d5e084ea28313191f74303da3%20%3D%20%24%28%60%3Cdiv%20id%3D%22html_af871e3d5e084ea28313191f74303da3%22%20style%3D%22width%3A%20100.0%25%3B%20height%3A%20100.0%25%3B%22%3ECAIDA%20SOBRE%20CALZADA%3C/div%3E%60%29%5B0%5D%3B%0A%20%20%20%20%20%20%20%20%20%20%20%20popup_1fb9f62e653540f4ac3baa98ab60f915.setContent%28html_af871e3d5e084ea28313191f74303da3%29%3B%0A%20%20%20%20%20%20%20%20%0A%0A%20%20%20%20%20%20%20%20marker_82c5a61527ae425d8138927c7ca44cab.bindPopup%28popup_1fb9f62e653540f4ac3baa98ab60f915%29%0A%20%20%20%20%20%20%20%20%3B%0A%0A%20%20%20%20%20%20%20%20%0A%20%20%20%20%0A%20%20%20%20%0A%20%20%20%20%20%20%20%20%20%20%20%20var%20marker_a1541c5e5ea042b783b459dce9e1465a%20%3D%20L.marker%28%0A%20%20%20%20%20%20%20%20%20%20%20%20%20%20%20%20%5B-0.9036852209830768%2C%2041.63808926467497%5D%2C%0A%20%20%20%20%20%20%20%20%20%20%20%20%20%20%20%20%7B%7D%0A%20%20%20%20%20%20%20%20%20%20%20%20%29.addTo%28map_87582643ab2540feb5a06184a194e90d%29%3B%0A%20%20%20%20%20%20%20%20%0A%20%20%20%20%0A%20%20%20%20%20%20%20%20var%20popup_068a13551e02444e90da92776a8b45b1%20%3D%20L.popup%28%7B%22maxWidth%22%3A%20%22100%25%22%7D%29%3B%0A%0A%20%20%20%20%20%20%20%20%0A%20%20%20%20%20%20%20%20%20%20%20%20var%20html_9455cb02424a4f28a662b4d692d62f9e%20%3D%20%24%28%60%3Cdiv%20id%3D%22html_9455cb02424a4f28a662b4d692d62f9e%22%20style%3D%22width%3A%20100.0%25%3B%20height%3A%20100.0%25%3B%22%3ECOLISI%C3%93N%20ALCANCE%3C/div%3E%60%29%5B0%5D%3B%0A%20%20%20%20%20%20%20%20%20%20%20%20popup_068a13551e02444e90da92776a8b45b1.setContent%28html_9455cb02424a4f28a662b4d692d62f9e%29%3B%0A%20%20%20%20%20%20%20%20%0A%0A%20%20%20%20%20%20%20%20marker_a1541c5e5ea042b783b459dce9e1465a.bindPopup%28popup_068a13551e02444e90da92776a8b45b1%29%0A%20%20%20%20%20%20%20%20%3B%0A%0A%20%20%20%20%20%20%20%20%0A%20%20%20%20%0A%20%20%20%20%0A%20%20%20%20%20%20%20%20%20%20%20%20var%20marker_736158504aef4d8e92fa645272a2e45a%20%3D%20L.marker%28%0A%20%20%20%20%20%20%20%20%20%20%20%20%20%20%20%20%5B-0.8896980442453839%2C%2041.677487884305975%5D%2C%0A%20%20%20%20%20%20%20%20%20%20%20%20%20%20%20%20%7B%7D%0A%20%20%20%20%20%20%20%20%20%20%20%20%29.addTo%28map_87582643ab2540feb5a06184a194e90d%29%3B%0A%20%20%20%20%20%20%20%20%0A%20%20%20%20%0A%20%20%20%20%20%20%20%20var%20popup_fd9f4c6e643c492a86d886c1c8fd8ff9%20%3D%20L.popup%28%7B%22maxWidth%22%3A%20%22100%25%22%7D%29%3B%0A%0A%20%20%20%20%20%20%20%20%0A%20%20%20%20%20%20%20%20%20%20%20%20var%20html_494fa01f101a419c92e5b53418106088%20%3D%20%24%28%60%3Cdiv%20id%3D%22html_494fa01f101a419c92e5b53418106088%22%20style%3D%22width%3A%20100.0%25%3B%20height%3A%20100.0%25%3B%22%3ECOLIS.%20MARCHA%20ATR%C3%81S%3C/div%3E%60%29%5B0%5D%3B%0A%20%20%20%20%20%20%20%20%20%20%20%20popup_fd9f4c6e643c492a86d886c1c8fd8ff9.setContent%28html_494fa01f101a419c92e5b53418106088%29%3B%0A%20%20%20%20%20%20%20%20%0A%0A%20%20%20%20%20%20%20%20marker_736158504aef4d8e92fa645272a2e45a.bindPopup%28popup_fd9f4c6e643c492a86d886c1c8fd8ff9%29%0A%20%20%20%20%20%20%20%20%3B%0A%0A%20%20%20%20%20%20%20%20%0A%20%20%20%20%0A%20%20%20%20%0A%20%20%20%20%20%20%20%20%20%20%20%20var%20marker_62a8087928fd4f1697708266ae6939ca%20%3D%20L.marker%28%0A%20%20%20%20%20%20%20%20%20%20%20%20%20%20%20%20%5B-0.9018264648858587%2C%2041.620591734015946%5D%2C%0A%20%20%20%20%20%20%20%20%20%20%20%20%20%20%20%20%7B%7D%0A%20%20%20%20%20%20%20%20%20%20%20%20%29.addTo%28map_87582643ab2540feb5a06184a194e90d%29%3B%0A%20%20%20%20%20%20%20%20%0A%20%20%20%20%0A%20%20%20%20%20%20%20%20var%20popup_5d59e44b196746d9bbb0cadbb9810506%20%3D%20L.popup%28%7B%22maxWidth%22%3A%20%22100%25%22%7D%29%3B%0A%0A%20%20%20%20%20%20%20%20%0A%20%20%20%20%20%20%20%20%20%20%20%20var%20html_3d70fcd92c6b4e04ac92543da6b0d7f1%20%3D%20%24%28%60%3Cdiv%20id%3D%22html_3d70fcd92c6b4e04ac92543da6b0d7f1%22%20style%3D%22width%3A%20100.0%25%3B%20height%3A%20100.0%25%3B%22%3ESALIDA%20CALZADA%3C/div%3E%60%29%5B0%5D%3B%0A%20%20%20%20%20%20%20%20%20%20%20%20popup_5d59e44b196746d9bbb0cadbb9810506.setContent%28html_3d70fcd92c6b4e04ac92543da6b0d7f1%29%3B%0A%20%20%20%20%20%20%20%20%0A%0A%20%20%20%20%20%20%20%20marker_62a8087928fd4f1697708266ae6939ca.bindPopup%28popup_5d59e44b196746d9bbb0cadbb9810506%29%0A%20%20%20%20%20%20%20%20%3B%0A%0A%20%20%20%20%20%20%20%20%0A%20%20%20%20%0A%20%20%20%20%0A%20%20%20%20%20%20%20%20%20%20%20%20var%20marker_cd90b73ff15d45a3ad801ff0b1dfe360%20%3D%20L.marker%28%0A%20%20%20%20%20%20%20%20%20%20%20%20%20%20%20%20%5B-0.9187726932212442%2C%2041.64931371437485%5D%2C%0A%20%20%20%20%20%20%20%20%20%20%20%20%20%20%20%20%7B%7D%0A%20%20%20%20%20%20%20%20%20%20%20%20%29.addTo%28map_87582643ab2540feb5a06184a194e90d%29%3B%0A%20%20%20%20%20%20%20%20%0A%20%20%20%20%0A%20%20%20%20%20%20%20%20var%20popup_c2e87ba96ff34482a8729c2881785aa3%20%3D%20L.popup%28%7B%22maxWidth%22%3A%20%22100%25%22%7D%29%3B%0A%0A%20%20%20%20%20%20%20%20%0A%20%20%20%20%20%20%20%20%20%20%20%20var%20html_67c6dc9bc64c47fdbbe611641842ab3e%20%3D%20%24%28%60%3Cdiv%20id%3D%22html_67c6dc9bc64c47fdbbe611641842ab3e%22%20style%3D%22width%3A%20100.0%25%3B%20height%3A%20100.0%25%3B%22%3ECOLIS%20FRONTOLATERAL%3C/div%3E%60%29%5B0%5D%3B%0A%20%20%20%20%20%20%20%20%20%20%20%20popup_c2e87ba96ff34482a8729c2881785aa3.setContent%28html_67c6dc9bc64c47fdbbe611641842ab3e%29%3B%0A%20%20%20%20%20%20%20%20%0A%0A%20%20%20%20%20%20%20%20marker_cd90b73ff15d45a3ad801ff0b1dfe360.bindPopup%28popup_c2e87ba96ff34482a8729c2881785aa3%29%0A%20%20%20%20%20%20%20%20%3B%0A%0A%20%20%20%20%20%20%20%20%0A%20%20%20%20%0A%20%20%20%20%0A%20%20%20%20%20%20%20%20%20%20%20%20var%20marker_1314e74229a54767b1c4dacc7ace98c9%20%3D%20L.marker%28%0A%20%20%20%20%20%20%20%20%20%20%20%20%20%20%20%20%5B-0.8855988456901538%2C%2041.646890443474554%5D%2C%0A%20%20%20%20%20%20%20%20%20%20%20%20%20%20%20%20%7B%7D%0A%20%20%20%20%20%20%20%20%20%20%20%20%29.addTo%28map_87582643ab2540feb5a06184a194e90d%29%3B%0A%20%20%20%20%20%20%20%20%0A%20%20%20%20%0A%20%20%20%20%20%20%20%20var%20popup_600080929ba8458a9170a0d566e7ac32%20%3D%20L.popup%28%7B%22maxWidth%22%3A%20%22100%25%22%7D%29%3B%0A%0A%20%20%20%20%20%20%20%20%0A%20%20%20%20%20%20%20%20%20%20%20%20var%20html_07a7b6e74141412cb38e7556210d5dc2%20%3D%20%24%28%60%3Cdiv%20id%3D%22html_07a7b6e74141412cb38e7556210d5dc2%22%20style%3D%22width%3A%20100.0%25%3B%20height%3A%20100.0%25%3B%22%3ECOLISI%C3%93N%20LATERAL%3C/div%3E%60%29%5B0%5D%3B%0A%20%20%20%20%20%20%20%20%20%20%20%20popup_600080929ba8458a9170a0d566e7ac32.setContent%28html_07a7b6e74141412cb38e7556210d5dc2%29%3B%0A%20%20%20%20%20%20%20%20%0A%0A%20%20%20%20%20%20%20%20marker_1314e74229a54767b1c4dacc7ace98c9.bindPopup%28popup_600080929ba8458a9170a0d566e7ac32%29%0A%20%20%20%20%20%20%20%20%3B%0A%0A%20%20%20%20%20%20%20%20%0A%20%20%20%20%0A%20%20%20%20%0A%20%20%20%20%20%20%20%20%20%20%20%20var%20marker_d283f47e209243c68f1e4d9263f92480%20%3D%20L.marker%28%0A%20%20%20%20%20%20%20%20%20%20%20%20%20%20%20%20%5B-0.887523212911549%2C%2041.62404668544956%5D%2C%0A%20%20%20%20%20%20%20%20%20%20%20%20%20%20%20%20%7B%7D%0A%20%20%20%20%20%20%20%20%20%20%20%20%29.addTo%28map_87582643ab2540feb5a06184a194e90d%29%3B%0A%20%20%20%20%20%20%20%20%0A%20%20%20%20%0A%20%20%20%20%20%20%20%20var%20popup_7915027346304f78ab6f410189c2b8f1%20%3D%20L.popup%28%7B%22maxWidth%22%3A%20%22100%25%22%7D%29%3B%0A%0A%20%20%20%20%20%20%20%20%0A%20%20%20%20%20%20%20%20%20%20%20%20var%20html_6b629f85d4904752868ca55f531fd563%20%3D%20%24%28%60%3Cdiv%20id%3D%22html_6b629f85d4904752868ca55f531fd563%22%20style%3D%22width%3A%20100.0%25%3B%20height%3A%20100.0%25%3B%22%3ECOLISI%C3%93N%20LATERAL%3C/div%3E%60%29%5B0%5D%3B%0A%20%20%20%20%20%20%20%20%20%20%20%20popup_7915027346304f78ab6f410189c2b8f1.setContent%28html_6b629f85d4904752868ca55f531fd563%29%3B%0A%20%20%20%20%20%20%20%20%0A%0A%20%20%20%20%20%20%20%20marker_d283f47e209243c68f1e4d9263f92480.bindPopup%28popup_7915027346304f78ab6f410189c2b8f1%29%0A%20%20%20%20%20%20%20%20%3B%0A%0A%20%20%20%20%20%20%20%20%0A%20%20%20%20%0A%20%20%20%20%0A%20%20%20%20%20%20%20%20%20%20%20%20var%20marker_8a9ae5d9a70f41f19a459284a970cb2e%20%3D%20L.marker%28%0A%20%20%20%20%20%20%20%20%20%20%20%20%20%20%20%20%5B-0.8863120908790753%2C%2041.63964884250951%5D%2C%0A%20%20%20%20%20%20%20%20%20%20%20%20%20%20%20%20%7B%7D%0A%20%20%20%20%20%20%20%20%20%20%20%20%29.addTo%28map_87582643ab2540feb5a06184a194e90d%29%3B%0A%20%20%20%20%20%20%20%20%0A%20%20%20%20%0A%20%20%20%20%20%20%20%20var%20popup_4e55d1e6f5fc4fa7ad5fd1a57240fb62%20%3D%20L.popup%28%7B%22maxWidth%22%3A%20%22100%25%22%7D%29%3B%0A%0A%20%20%20%20%20%20%20%20%0A%20%20%20%20%20%20%20%20%20%20%20%20var%20html_8dcecf520e9f48d288f2fcdda47578fc%20%3D%20%24%28%60%3Cdiv%20id%3D%22html_8dcecf520e9f48d288f2fcdda47578fc%22%20style%3D%22width%3A%20100.0%25%3B%20height%3A%20100.0%25%3B%22%3ECOLISI%C3%93N%20LATERAL%3C/div%3E%60%29%5B0%5D%3B%0A%20%20%20%20%20%20%20%20%20%20%20%20popup_4e55d1e6f5fc4fa7ad5fd1a57240fb62.setContent%28html_8dcecf520e9f48d288f2fcdda47578fc%29%3B%0A%20%20%20%20%20%20%20%20%0A%0A%20%20%20%20%20%20%20%20marker_8a9ae5d9a70f41f19a459284a970cb2e.bindPopup%28popup_4e55d1e6f5fc4fa7ad5fd1a57240fb62%29%0A%20%20%20%20%20%20%20%20%3B%0A%0A%20%20%20%20%20%20%20%20%0A%20%20%20%20%0A%20%20%20%20%0A%20%20%20%20%20%20%20%20%20%20%20%20var%20marker_29cb9de9e12c4a379a783802e0be0774%20%3D%20L.marker%28%0A%20%20%20%20%20%20%20%20%20%20%20%20%20%20%20%20%5B-0.8689640327130923%2C%2041.638477534601776%5D%2C%0A%20%20%20%20%20%20%20%20%20%20%20%20%20%20%20%20%7B%7D%0A%20%20%20%20%20%20%20%20%20%20%20%20%29.addTo%28map_87582643ab2540feb5a06184a194e90d%29%3B%0A%20%20%20%20%20%20%20%20%0A%20%20%20%20%0A%20%20%20%20%20%20%20%20var%20popup_4986a9a13c0a42d1821a089b5b502b79%20%3D%20L.popup%28%7B%22maxWidth%22%3A%20%22100%25%22%7D%29%3B%0A%0A%20%20%20%20%20%20%20%20%0A%20%20%20%20%20%20%20%20%20%20%20%20var%20html_f2b1327363df4d5ab32cb922b7d02081%20%3D%20%24%28%60%3Cdiv%20id%3D%22html_f2b1327363df4d5ab32cb922b7d02081%22%20style%3D%22width%3A%20100.0%25%3B%20height%3A%20100.0%25%3B%22%3ECOLISI%C3%93N%20LATERAL%3C/div%3E%60%29%5B0%5D%3B%0A%20%20%20%20%20%20%20%20%20%20%20%20popup_4986a9a13c0a42d1821a089b5b502b79.setContent%28html_f2b1327363df4d5ab32cb922b7d02081%29%3B%0A%20%20%20%20%20%20%20%20%0A%0A%20%20%20%20%20%20%20%20marker_29cb9de9e12c4a379a783802e0be0774.bindPopup%28popup_4986a9a13c0a42d1821a089b5b502b79%29%0A%20%20%20%20%20%20%20%20%3B%0A%0A%20%20%20%20%20%20%20%20%0A%20%20%20%20%0A%20%20%20%20%0A%20%20%20%20%20%20%20%20%20%20%20%20var%20marker_4c4b46148fc94434830ee4c9022908d8%20%3D%20L.marker%28%0A%20%20%20%20%20%20%20%20%20%20%20%20%20%20%20%20%5B-0.8900650666830714%2C%2041.64332496247496%5D%2C%0A%20%20%20%20%20%20%20%20%20%20%20%20%20%20%20%20%7B%7D%0A%20%20%20%20%20%20%20%20%20%20%20%20%29.addTo%28map_87582643ab2540feb5a06184a194e90d%29%3B%0A%20%20%20%20%20%20%20%20%0A%20%20%20%20%0A%20%20%20%20%20%20%20%20var%20popup_081800a27cd84282abe09fa86947e68a%20%3D%20L.popup%28%7B%22maxWidth%22%3A%20%22100%25%22%7D%29%3B%0A%0A%20%20%20%20%20%20%20%20%0A%20%20%20%20%20%20%20%20%20%20%20%20var%20html_588b3db8900242178c183d37d1c455dc%20%3D%20%24%28%60%3Cdiv%20id%3D%22html_588b3db8900242178c183d37d1c455dc%22%20style%3D%22width%3A%20100.0%25%3B%20height%3A%20100.0%25%3B%22%3ECAIDA%20SOBRE%20CALZADA%3C/div%3E%60%29%5B0%5D%3B%0A%20%20%20%20%20%20%20%20%20%20%20%20popup_081800a27cd84282abe09fa86947e68a.setContent%28html_588b3db8900242178c183d37d1c455dc%29%3B%0A%20%20%20%20%20%20%20%20%0A%0A%20%20%20%20%20%20%20%20marker_4c4b46148fc94434830ee4c9022908d8.bindPopup%28popup_081800a27cd84282abe09fa86947e68a%29%0A%20%20%20%20%20%20%20%20%3B%0A%0A%20%20%20%20%20%20%20%20%0A%20%20%20%20%0A%20%20%20%20%0A%20%20%20%20%20%20%20%20%20%20%20%20var%20marker_1001048461f04b71932b3d25b01cc4e5%20%3D%20L.marker%28%0A%20%20%20%20%20%20%20%20%20%20%20%20%20%20%20%20%5B-0.8918524618079099%2C%2041.65260977469196%5D%2C%0A%20%20%20%20%20%20%20%20%20%20%20%20%20%20%20%20%7B%7D%0A%20%20%20%20%20%20%20%20%20%20%20%20%29.addTo%28map_87582643ab2540feb5a06184a194e90d%29%3B%0A%20%20%20%20%20%20%20%20%0A%20%20%20%20%0A%20%20%20%20%20%20%20%20var%20popup_cf86f037cf9447ec822e996cdc92630b%20%3D%20L.popup%28%7B%22maxWidth%22%3A%20%22100%25%22%7D%29%3B%0A%0A%20%20%20%20%20%20%20%20%0A%20%20%20%20%20%20%20%20%20%20%20%20var%20html_9c9da2192e224ca59ac64d859d311b57%20%3D%20%24%28%60%3Cdiv%20id%3D%22html_9c9da2192e224ca59ac64d859d311b57%22%20style%3D%22width%3A%20100.0%25%3B%20height%3A%20100.0%25%3B%22%3ECOLISI%C3%93N%20LATERAL%3C/div%3E%60%29%5B0%5D%3B%0A%20%20%20%20%20%20%20%20%20%20%20%20popup_cf86f037cf9447ec822e996cdc92630b.setContent%28html_9c9da2192e224ca59ac64d859d311b57%29%3B%0A%20%20%20%20%20%20%20%20%0A%0A%20%20%20%20%20%20%20%20marker_1001048461f04b71932b3d25b01cc4e5.bindPopup%28popup_cf86f037cf9447ec822e996cdc92630b%29%0A%20%20%20%20%20%20%20%20%3B%0A%0A%20%20%20%20%20%20%20%20%0A%20%20%20%20%0A%20%20%20%20%0A%20%20%20%20%20%20%20%20%20%20%20%20var%20marker_79291138d49844f487315f8adc78f7c7%20%3D%20L.marker%28%0A%20%20%20%20%20%20%20%20%20%20%20%20%20%20%20%20%5B-0.9104038365599549%2C%2041.65248328671194%5D%2C%0A%20%20%20%20%20%20%20%20%20%20%20%20%20%20%20%20%7B%7D%0A%20%20%20%20%20%20%20%20%20%20%20%20%29.addTo%28map_87582643ab2540feb5a06184a194e90d%29%3B%0A%20%20%20%20%20%20%20%20%0A%20%20%20%20%0A%20%20%20%20%20%20%20%20var%20popup_05a0271b3e994d7b96f2c4524e916898%20%3D%20L.popup%28%7B%22maxWidth%22%3A%20%22100%25%22%7D%29%3B%0A%0A%20%20%20%20%20%20%20%20%0A%20%20%20%20%20%20%20%20%20%20%20%20var%20html_de921a68a5a74c48aaa740fade76edba%20%3D%20%24%28%60%3Cdiv%20id%3D%22html_de921a68a5a74c48aaa740fade76edba%22%20style%3D%22width%3A%20100.0%25%3B%20height%3A%20100.0%25%3B%22%3EOTRAS%3C/div%3E%60%29%5B0%5D%3B%0A%20%20%20%20%20%20%20%20%20%20%20%20popup_05a0271b3e994d7b96f2c4524e916898.setContent%28html_de921a68a5a74c48aaa740fade76edba%29%3B%0A%20%20%20%20%20%20%20%20%0A%0A%20%20%20%20%20%20%20%20marker_79291138d49844f487315f8adc78f7c7.bindPopup%28popup_05a0271b3e994d7b96f2c4524e916898%29%0A%20%20%20%20%20%20%20%20%3B%0A%0A%20%20%20%20%20%20%20%20%0A%20%20%20%20%0A%20%20%20%20%0A%20%20%20%20%20%20%20%20%20%20%20%20var%20marker_9325001bb6404165ab26a08b7aa829d9%20%3D%20L.marker%28%0A%20%20%20%20%20%20%20%20%20%20%20%20%20%20%20%20%5B-0.8850103896969528%2C%2041.6474034449745%5D%2C%0A%20%20%20%20%20%20%20%20%20%20%20%20%20%20%20%20%7B%7D%0A%20%20%20%20%20%20%20%20%20%20%20%20%29.addTo%28map_87582643ab2540feb5a06184a194e90d%29%3B%0A%20%20%20%20%20%20%20%20%0A%20%20%20%20%0A%20%20%20%20%20%20%20%20var%20popup_c8763a693ee346949fce2a075a926b88%20%3D%20L.popup%28%7B%22maxWidth%22%3A%20%22100%25%22%7D%29%3B%0A%0A%20%20%20%20%20%20%20%20%0A%20%20%20%20%20%20%20%20%20%20%20%20var%20html_9fe22349c1884e23a887d5cfbb130168%20%3D%20%24%28%60%3Cdiv%20id%3D%22html_9fe22349c1884e23a887d5cfbb130168%22%20style%3D%22width%3A%20100.0%25%3B%20height%3A%20100.0%25%3B%22%3ECOLISI%C3%93N%20LATERAL%3C/div%3E%60%29%5B0%5D%3B%0A%20%20%20%20%20%20%20%20%20%20%20%20popup_c8763a693ee346949fce2a075a926b88.setContent%28html_9fe22349c1884e23a887d5cfbb130168%29%3B%0A%20%20%20%20%20%20%20%20%0A%0A%20%20%20%20%20%20%20%20marker_9325001bb6404165ab26a08b7aa829d9.bindPopup%28popup_c8763a693ee346949fce2a075a926b88%29%0A%20%20%20%20%20%20%20%20%3B%0A%0A%20%20%20%20%20%20%20%20%0A%20%20%20%20%0A%20%20%20%20%0A%20%20%20%20%20%20%20%20%20%20%20%20var%20marker_89226de7e99146a797c6dd7469b36700%20%3D%20L.marker%28%0A%20%20%20%20%20%20%20%20%20%20%20%20%20%20%20%20%5B-0.8734135018983006%2C%2041.64926981833846%5D%2C%0A%20%20%20%20%20%20%20%20%20%20%20%20%20%20%20%20%7B%7D%0A%20%20%20%20%20%20%20%20%20%20%20%20%29.addTo%28map_87582643ab2540feb5a06184a194e90d%29%3B%0A%20%20%20%20%20%20%20%20%0A%20%20%20%20%0A%20%20%20%20%20%20%20%20var%20popup_887fb052f45046df97d743e76538b91f%20%3D%20L.popup%28%7B%22maxWidth%22%3A%20%22100%25%22%7D%29%3B%0A%0A%20%20%20%20%20%20%20%20%0A%20%20%20%20%20%20%20%20%20%20%20%20var%20html_bb99696f07b94d2cb5e4da854eec4a36%20%3D%20%24%28%60%3Cdiv%20id%3D%22html_bb99696f07b94d2cb5e4da854eec4a36%22%20style%3D%22width%3A%20100.0%25%3B%20height%3A%20100.0%25%3B%22%3ECOLIS.%20MARCHA%20ATR%C3%81S%3C/div%3E%60%29%5B0%5D%3B%0A%20%20%20%20%20%20%20%20%20%20%20%20popup_887fb052f45046df97d743e76538b91f.setContent%28html_bb99696f07b94d2cb5e4da854eec4a36%29%3B%0A%20%20%20%20%20%20%20%20%0A%0A%20%20%20%20%20%20%20%20marker_89226de7e99146a797c6dd7469b36700.bindPopup%28popup_887fb052f45046df97d743e76538b91f%29%0A%20%20%20%20%20%20%20%20%3B%0A%0A%20%20%20%20%20%20%20%20%0A%20%20%20%20%0A%20%20%20%20%0A%20%20%20%20%20%20%20%20%20%20%20%20var%20marker_3559d2554721412a9a691b83e1060e94%20%3D%20L.marker%28%0A%20%20%20%20%20%20%20%20%20%20%20%20%20%20%20%20%5B-0.8593239531218387%2C%2041.650740541708075%5D%2C%0A%20%20%20%20%20%20%20%20%20%20%20%20%20%20%20%20%7B%7D%0A%20%20%20%20%20%20%20%20%20%20%20%20%29.addTo%28map_87582643ab2540feb5a06184a194e90d%29%3B%0A%20%20%20%20%20%20%20%20%0A%20%20%20%20%0A%20%20%20%20%20%20%20%20var%20popup_2672ea51e9a2423cb26b462b0eb732a9%20%3D%20L.popup%28%7B%22maxWidth%22%3A%20%22100%25%22%7D%29%3B%0A%0A%20%20%20%20%20%20%20%20%0A%20%20%20%20%20%20%20%20%20%20%20%20var%20html_132df8c6055a4596860151503edfb475%20%3D%20%24%28%60%3Cdiv%20id%3D%22html_132df8c6055a4596860151503edfb475%22%20style%3D%22width%3A%20100.0%25%3B%20height%3A%20100.0%25%3B%22%3ECOLISI%C3%93N%20ALCANCE%3C/div%3E%60%29%5B0%5D%3B%0A%20%20%20%20%20%20%20%20%20%20%20%20popup_2672ea51e9a2423cb26b462b0eb732a9.setContent%28html_132df8c6055a4596860151503edfb475%29%3B%0A%20%20%20%20%20%20%20%20%0A%0A%20%20%20%20%20%20%20%20marker_3559d2554721412a9a691b83e1060e94.bindPopup%28popup_2672ea51e9a2423cb26b462b0eb732a9%29%0A%20%20%20%20%20%20%20%20%3B%0A%0A%20%20%20%20%20%20%20%20%0A%20%20%20%20%0A%20%20%20%20%0A%20%20%20%20%20%20%20%20%20%20%20%20var%20marker_7f63d3a1f57c4ec5b94d46db189387d3%20%3D%20L.marker%28%0A%20%20%20%20%20%20%20%20%20%20%20%20%20%20%20%20%5B-0.868891092151338%2C%2041.638807389014836%5D%2C%0A%20%20%20%20%20%20%20%20%20%20%20%20%20%20%20%20%7B%7D%0A%20%20%20%20%20%20%20%20%20%20%20%20%29.addTo%28map_87582643ab2540feb5a06184a194e90d%29%3B%0A%20%20%20%20%20%20%20%20%0A%20%20%20%20%0A%20%20%20%20%20%20%20%20var%20popup_9ac20d7b4c354e5f99c7d3bfba699af9%20%3D%20L.popup%28%7B%22maxWidth%22%3A%20%22100%25%22%7D%29%3B%0A%0A%20%20%20%20%20%20%20%20%0A%20%20%20%20%20%20%20%20%20%20%20%20var%20html_221ba579295147779412562643041941%20%3D%20%24%28%60%3Cdiv%20id%3D%22html_221ba579295147779412562643041941%22%20style%3D%22width%3A%20100.0%25%3B%20height%3A%20100.0%25%3B%22%3ECOLIS%20FRONTOLATERAL%3C/div%3E%60%29%5B0%5D%3B%0A%20%20%20%20%20%20%20%20%20%20%20%20popup_9ac20d7b4c354e5f99c7d3bfba699af9.setContent%28html_221ba579295147779412562643041941%29%3B%0A%20%20%20%20%20%20%20%20%0A%0A%20%20%20%20%20%20%20%20marker_7f63d3a1f57c4ec5b94d46db189387d3.bindPopup%28popup_9ac20d7b4c354e5f99c7d3bfba699af9%29%0A%20%20%20%20%20%20%20%20%3B%0A%0A%20%20%20%20%20%20%20%20%0A%20%20%20%20%0A%20%20%20%20%0A%20%20%20%20%20%20%20%20%20%20%20%20var%20marker_9e77b7c0db414dceb2dc5e57482bf1fe%20%3D%20L.marker%28%0A%20%20%20%20%20%20%20%20%20%20%20%20%20%20%20%20%5B-0.9008107424460443%2C%2041.66374540604866%5D%2C%0A%20%20%20%20%20%20%20%20%20%20%20%20%20%20%20%20%7B%7D%0A%20%20%20%20%20%20%20%20%20%20%20%20%29.addTo%28map_87582643ab2540feb5a06184a194e90d%29%3B%0A%20%20%20%20%20%20%20%20%0A%20%20%20%20%0A%20%20%20%20%20%20%20%20var%20popup_35e72c95ed43460bb0b358d5604ba312%20%3D%20L.popup%28%7B%22maxWidth%22%3A%20%22100%25%22%7D%29%3B%0A%0A%20%20%20%20%20%20%20%20%0A%20%20%20%20%20%20%20%20%20%20%20%20var%20html_698e6dcdc1f8471ab2c96650b2a17752%20%3D%20%24%28%60%3Cdiv%20id%3D%22html_698e6dcdc1f8471ab2c96650b2a17752%22%20style%3D%22width%3A%20100.0%25%3B%20height%3A%20100.0%25%3B%22%3EATROPELLO%3C/div%3E%60%29%5B0%5D%3B%0A%20%20%20%20%20%20%20%20%20%20%20%20popup_35e72c95ed43460bb0b358d5604ba312.setContent%28html_698e6dcdc1f8471ab2c96650b2a17752%29%3B%0A%20%20%20%20%20%20%20%20%0A%0A%20%20%20%20%20%20%20%20marker_9e77b7c0db414dceb2dc5e57482bf1fe.bindPopup%28popup_35e72c95ed43460bb0b358d5604ba312%29%0A%20%20%20%20%20%20%20%20%3B%0A%0A%20%20%20%20%20%20%20%20%0A%20%20%20%20%0A%20%20%20%20%0A%20%20%20%20%20%20%20%20%20%20%20%20var%20marker_09285cc343eb4a6f94f361c9b95485f2%20%3D%20L.marker%28%0A%20%20%20%20%20%20%20%20%20%20%20%20%20%20%20%20%5B-0.9211220937948997%2C%2041.64886535549928%5D%2C%0A%20%20%20%20%20%20%20%20%20%20%20%20%20%20%20%20%7B%7D%0A%20%20%20%20%20%20%20%20%20%20%20%20%29.addTo%28map_87582643ab2540feb5a06184a194e90d%29%3B%0A%20%20%20%20%20%20%20%20%0A%20%20%20%20%0A%20%20%20%20%20%20%20%20var%20popup_29c7c9bace6e43509807ee38d1e60755%20%3D%20L.popup%28%7B%22maxWidth%22%3A%20%22100%25%22%7D%29%3B%0A%0A%20%20%20%20%20%20%20%20%0A%20%20%20%20%20%20%20%20%20%20%20%20var%20html_cfe70f2f91244c36a88d7ffc4e6f5871%20%3D%20%24%28%60%3Cdiv%20id%3D%22html_cfe70f2f91244c36a88d7ffc4e6f5871%22%20style%3D%22width%3A%20100.0%25%3B%20height%3A%20100.0%25%3B%22%3ECOLIS.%20MARCHA%20ATR%C3%81S%3C/div%3E%60%29%5B0%5D%3B%0A%20%20%20%20%20%20%20%20%20%20%20%20popup_29c7c9bace6e43509807ee38d1e60755.setContent%28html_cfe70f2f91244c36a88d7ffc4e6f5871%29%3B%0A%20%20%20%20%20%20%20%20%0A%0A%20%20%20%20%20%20%20%20marker_09285cc343eb4a6f94f361c9b95485f2.bindPopup%28popup_29c7c9bace6e43509807ee38d1e60755%29%0A%20%20%20%20%20%20%20%20%3B%0A%0A%20%20%20%20%20%20%20%20%0A%20%20%20%20%0A%20%20%20%20%0A%20%20%20%20%20%20%20%20%20%20%20%20var%20marker_905469611af54ecfb9b5309c744c3d33%20%3D%20L.marker%28%0A%20%20%20%20%20%20%20%20%20%20%20%20%20%20%20%20%5B-0.9026681648170423%2C%2041.63265453864093%5D%2C%0A%20%20%20%20%20%20%20%20%20%20%20%20%20%20%20%20%7B%7D%0A%20%20%20%20%20%20%20%20%20%20%20%20%29.addTo%28map_87582643ab2540feb5a06184a194e90d%29%3B%0A%20%20%20%20%20%20%20%20%0A%20%20%20%20%0A%20%20%20%20%20%20%20%20var%20popup_cd64b26520b8408e8a036112e96b18a6%20%3D%20L.popup%28%7B%22maxWidth%22%3A%20%22100%25%22%7D%29%3B%0A%0A%20%20%20%20%20%20%20%20%0A%20%20%20%20%20%20%20%20%20%20%20%20var%20html_3ec7387565a845e3bb3d9ab84a951e67%20%3D%20%24%28%60%3Cdiv%20id%3D%22html_3ec7387565a845e3bb3d9ab84a951e67%22%20style%3D%22width%3A%20100.0%25%3B%20height%3A%20100.0%25%3B%22%3ECOLIS.%20MARCHA%20ATR%C3%81S%3C/div%3E%60%29%5B0%5D%3B%0A%20%20%20%20%20%20%20%20%20%20%20%20popup_cd64b26520b8408e8a036112e96b18a6.setContent%28html_3ec7387565a845e3bb3d9ab84a951e67%29%3B%0A%20%20%20%20%20%20%20%20%0A%0A%20%20%20%20%20%20%20%20marker_905469611af54ecfb9b5309c744c3d33.bindPopup%28popup_cd64b26520b8408e8a036112e96b18a6%29%0A%20%20%20%20%20%20%20%20%3B%0A%0A%20%20%20%20%20%20%20%20%0A%20%20%20%20%0A%20%20%20%20%0A%20%20%20%20%20%20%20%20%20%20%20%20var%20marker_5d2a3f3355d041d2b9398fc3ce5c6e9d%20%3D%20L.marker%28%0A%20%20%20%20%20%20%20%20%20%20%20%20%20%20%20%20%5B-0.8893162332922886%2C%2041.67281318904247%5D%2C%0A%20%20%20%20%20%20%20%20%20%20%20%20%20%20%20%20%7B%7D%0A%20%20%20%20%20%20%20%20%20%20%20%20%29.addTo%28map_87582643ab2540feb5a06184a194e90d%29%3B%0A%20%20%20%20%20%20%20%20%0A%20%20%20%20%0A%20%20%20%20%20%20%20%20var%20popup_8dd14a0aaa9b46ebad733d0ddc2fe3fe%20%3D%20L.popup%28%7B%22maxWidth%22%3A%20%22100%25%22%7D%29%3B%0A%0A%20%20%20%20%20%20%20%20%0A%20%20%20%20%20%20%20%20%20%20%20%20var%20html_2a74394b91d34fbaa8f9a6706a9e5a6a%20%3D%20%24%28%60%3Cdiv%20id%3D%22html_2a74394b91d34fbaa8f9a6706a9e5a6a%22%20style%3D%22width%3A%20100.0%25%3B%20height%3A%20100.0%25%3B%22%3ECOLIS%20FRONTOLATERAL%3C/div%3E%60%29%5B0%5D%3B%0A%20%20%20%20%20%20%20%20%20%20%20%20popup_8dd14a0aaa9b46ebad733d0ddc2fe3fe.setContent%28html_2a74394b91d34fbaa8f9a6706a9e5a6a%29%3B%0A%20%20%20%20%20%20%20%20%0A%0A%20%20%20%20%20%20%20%20marker_5d2a3f3355d041d2b9398fc3ce5c6e9d.bindPopup%28popup_8dd14a0aaa9b46ebad733d0ddc2fe3fe%29%0A%20%20%20%20%20%20%20%20%3B%0A%0A%20%20%20%20%20%20%20%20%0A%20%20%20%20%0A%20%20%20%20%0A%20%20%20%20%20%20%20%20%20%20%20%20var%20marker_d4a9c2f31fca4176952326a491eba92e%20%3D%20L.marker%28%0A%20%20%20%20%20%20%20%20%20%20%20%20%20%20%20%20%5B-0.8890866503471749%2C%2041.66895757951277%5D%2C%0A%20%20%20%20%20%20%20%20%20%20%20%20%20%20%20%20%7B%7D%0A%20%20%20%20%20%20%20%20%20%20%20%20%29.addTo%28map_87582643ab2540feb5a06184a194e90d%29%3B%0A%20%20%20%20%20%20%20%20%0A%20%20%20%20%0A%20%20%20%20%20%20%20%20var%20popup_1a1be54515a9402299e0e82338157fdc%20%3D%20L.popup%28%7B%22maxWidth%22%3A%20%22100%25%22%7D%29%3B%0A%0A%20%20%20%20%20%20%20%20%0A%20%20%20%20%20%20%20%20%20%20%20%20var%20html_7d61a98fdc9a420cb2ba51a639b2ee40%20%3D%20%24%28%60%3Cdiv%20id%3D%22html_7d61a98fdc9a420cb2ba51a639b2ee40%22%20style%3D%22width%3A%20100.0%25%3B%20height%3A%20100.0%25%3B%22%3EATROPELLO%3C/div%3E%60%29%5B0%5D%3B%0A%20%20%20%20%20%20%20%20%20%20%20%20popup_1a1be54515a9402299e0e82338157fdc.setContent%28html_7d61a98fdc9a420cb2ba51a639b2ee40%29%3B%0A%20%20%20%20%20%20%20%20%0A%0A%20%20%20%20%20%20%20%20marker_d4a9c2f31fca4176952326a491eba92e.bindPopup%28popup_1a1be54515a9402299e0e82338157fdc%29%0A%20%20%20%20%20%20%20%20%3B%0A%0A%20%20%20%20%20%20%20%20%0A%20%20%20%20%0A%20%20%20%20%0A%20%20%20%20%20%20%20%20%20%20%20%20var%20marker_963e62a3fc574fd7a88a6897ca2baa38%20%3D%20L.marker%28%0A%20%20%20%20%20%20%20%20%20%20%20%20%20%20%20%20%5B-0.8439506345833918%2C%2041.71496486522088%5D%2C%0A%20%20%20%20%20%20%20%20%20%20%20%20%20%20%20%20%7B%7D%0A%20%20%20%20%20%20%20%20%20%20%20%20%29.addTo%28map_87582643ab2540feb5a06184a194e90d%29%3B%0A%20%20%20%20%20%20%20%20%0A%20%20%20%20%0A%20%20%20%20%20%20%20%20var%20popup_4caee4b58d8c40dfbf17d24d150e4162%20%3D%20L.popup%28%7B%22maxWidth%22%3A%20%22100%25%22%7D%29%3B%0A%0A%20%20%20%20%20%20%20%20%0A%20%20%20%20%20%20%20%20%20%20%20%20var%20html_556df590eca54f4db0409f3260501546%20%3D%20%24%28%60%3Cdiv%20id%3D%22html_556df590eca54f4db0409f3260501546%22%20style%3D%22width%3A%20100.0%25%3B%20height%3A%20100.0%25%3B%22%3ESALIDA%20CALZADA%3C/div%3E%60%29%5B0%5D%3B%0A%20%20%20%20%20%20%20%20%20%20%20%20popup_4caee4b58d8c40dfbf17d24d150e4162.setContent%28html_556df590eca54f4db0409f3260501546%29%3B%0A%20%20%20%20%20%20%20%20%0A%0A%20%20%20%20%20%20%20%20marker_963e62a3fc574fd7a88a6897ca2baa38.bindPopup%28popup_4caee4b58d8c40dfbf17d24d150e4162%29%0A%20%20%20%20%20%20%20%20%3B%0A%0A%20%20%20%20%20%20%20%20%0A%20%20%20%20%0A%20%20%20%20%0A%20%20%20%20%20%20%20%20%20%20%20%20var%20marker_f7d31df470b14b32ad9d479261359099%20%3D%20L.marker%28%0A%20%20%20%20%20%20%20%20%20%20%20%20%20%20%20%20%5B-0.8665477541801948%2C%2041.67007665525934%5D%2C%0A%20%20%20%20%20%20%20%20%20%20%20%20%20%20%20%20%7B%7D%0A%20%20%20%20%20%20%20%20%20%20%20%20%29.addTo%28map_87582643ab2540feb5a06184a194e90d%29%3B%0A%20%20%20%20%20%20%20%20%0A%20%20%20%20%0A%20%20%20%20%20%20%20%20var%20popup_ed3d25d6bd1b4f4c9908d5ece5302eb7%20%3D%20L.popup%28%7B%22maxWidth%22%3A%20%22100%25%22%7D%29%3B%0A%0A%20%20%20%20%20%20%20%20%0A%20%20%20%20%20%20%20%20%20%20%20%20var%20html_b1d1970f31094569840ae7a4a8122538%20%3D%20%24%28%60%3Cdiv%20id%3D%22html_b1d1970f31094569840ae7a4a8122538%22%20style%3D%22width%3A%20100.0%25%3B%20height%3A%20100.0%25%3B%22%3ESALIDA%20CALZADA%3C/div%3E%60%29%5B0%5D%3B%0A%20%20%20%20%20%20%20%20%20%20%20%20popup_ed3d25d6bd1b4f4c9908d5ece5302eb7.setContent%28html_b1d1970f31094569840ae7a4a8122538%29%3B%0A%20%20%20%20%20%20%20%20%0A%0A%20%20%20%20%20%20%20%20marker_f7d31df470b14b32ad9d479261359099.bindPopup%28popup_ed3d25d6bd1b4f4c9908d5ece5302eb7%29%0A%20%20%20%20%20%20%20%20%3B%0A%0A%20%20%20%20%20%20%20%20%0A%20%20%20%20%0A%20%20%20%20%0A%20%20%20%20%20%20%20%20%20%20%20%20var%20marker_eb673b519cda4751bcd78c6ef6a45a32%20%3D%20L.marker%28%0A%20%20%20%20%20%20%20%20%20%20%20%20%20%20%20%20%5B-0.8848493117953854%2C%2041.63484525009101%5D%2C%0A%20%20%20%20%20%20%20%20%20%20%20%20%20%20%20%20%7B%7D%0A%20%20%20%20%20%20%20%20%20%20%20%20%29.addTo%28map_87582643ab2540feb5a06184a194e90d%29%3B%0A%20%20%20%20%20%20%20%20%0A%20%20%20%20%0A%20%20%20%20%20%20%20%20var%20popup_0125f73162b64139b7af68a5d57de406%20%3D%20L.popup%28%7B%22maxWidth%22%3A%20%22100%25%22%7D%29%3B%0A%0A%20%20%20%20%20%20%20%20%0A%20%20%20%20%20%20%20%20%20%20%20%20var%20html_88980f9b2fea4b37af8ddb0f49219441%20%3D%20%24%28%60%3Cdiv%20id%3D%22html_88980f9b2fea4b37af8ddb0f49219441%22%20style%3D%22width%3A%20100.0%25%3B%20height%3A%20100.0%25%3B%22%3ECOLISI%C3%93N%20ALCANCE%3C/div%3E%60%29%5B0%5D%3B%0A%20%20%20%20%20%20%20%20%20%20%20%20popup_0125f73162b64139b7af68a5d57de406.setContent%28html_88980f9b2fea4b37af8ddb0f49219441%29%3B%0A%20%20%20%20%20%20%20%20%0A%0A%20%20%20%20%20%20%20%20marker_eb673b519cda4751bcd78c6ef6a45a32.bindPopup%28popup_0125f73162b64139b7af68a5d57de406%29%0A%20%20%20%20%20%20%20%20%3B%0A%0A%20%20%20%20%20%20%20%20%0A%20%20%20%20%0A%20%20%20%20%0A%20%20%20%20%20%20%20%20%20%20%20%20var%20marker_cfcba9552ef34a30937a9f3da9e579f2%20%3D%20L.marker%28%0A%20%20%20%20%20%20%20%20%20%20%20%20%20%20%20%20%5B-0.9147014503640727%2C%2041.64060309287472%5D%2C%0A%20%20%20%20%20%20%20%20%20%20%20%20%20%20%20%20%7B%7D%0A%20%20%20%20%20%20%20%20%20%20%20%20%29.addTo%28map_87582643ab2540feb5a06184a194e90d%29%3B%0A%20%20%20%20%20%20%20%20%0A%20%20%20%20%0A%20%20%20%20%20%20%20%20var%20popup_fd0e6c0281474948900bfe957ebefbff%20%3D%20L.popup%28%7B%22maxWidth%22%3A%20%22100%25%22%7D%29%3B%0A%0A%20%20%20%20%20%20%20%20%0A%20%20%20%20%20%20%20%20%20%20%20%20var%20html_5fde196d248049ed8de883c79d370710%20%3D%20%24%28%60%3Cdiv%20id%3D%22html_5fde196d248049ed8de883c79d370710%22%20style%3D%22width%3A%20100.0%25%3B%20height%3A%20100.0%25%3B%22%3ECOLISI%C3%93N%20LATERAL%3C/div%3E%60%29%5B0%5D%3B%0A%20%20%20%20%20%20%20%20%20%20%20%20popup_fd0e6c0281474948900bfe957ebefbff.setContent%28html_5fde196d248049ed8de883c79d370710%29%3B%0A%20%20%20%20%20%20%20%20%0A%0A%20%20%20%20%20%20%20%20marker_cfcba9552ef34a30937a9f3da9e579f2.bindPopup%28popup_fd0e6c0281474948900bfe957ebefbff%29%0A%20%20%20%20%20%20%20%20%3B%0A%0A%20%20%20%20%20%20%20%20%0A%20%20%20%20%0A%20%20%20%20%0A%20%20%20%20%20%20%20%20%20%20%20%20var%20marker_4c34e6d5371c4893b3bb999a6edf52a7%20%3D%20L.marker%28%0A%20%20%20%20%20%20%20%20%20%20%20%20%20%20%20%20%5B-0.9388159722509236%2C%2041.66210291413718%5D%2C%0A%20%20%20%20%20%20%20%20%20%20%20%20%20%20%20%20%7B%7D%0A%20%20%20%20%20%20%20%20%20%20%20%20%29.addTo%28map_87582643ab2540feb5a06184a194e90d%29%3B%0A%20%20%20%20%20%20%20%20%0A%20%20%20%20%0A%20%20%20%20%20%20%20%20var%20popup_1523eb189c554162a0cb27e5ee3acdd7%20%3D%20L.popup%28%7B%22maxWidth%22%3A%20%22100%25%22%7D%29%3B%0A%0A%20%20%20%20%20%20%20%20%0A%20%20%20%20%20%20%20%20%20%20%20%20var%20html_6304f6bfd0464ec3b6f4806ee959dc7e%20%3D%20%24%28%60%3Cdiv%20id%3D%22html_6304f6bfd0464ec3b6f4806ee959dc7e%22%20style%3D%22width%3A%20100.0%25%3B%20height%3A%20100.0%25%3B%22%3ECOLISI%C3%93N%20ALCANCE%3C/div%3E%60%29%5B0%5D%3B%0A%20%20%20%20%20%20%20%20%20%20%20%20popup_1523eb189c554162a0cb27e5ee3acdd7.setContent%28html_6304f6bfd0464ec3b6f4806ee959dc7e%29%3B%0A%20%20%20%20%20%20%20%20%0A%0A%20%20%20%20%20%20%20%20marker_4c34e6d5371c4893b3bb999a6edf52a7.bindPopup%28popup_1523eb189c554162a0cb27e5ee3acdd7%29%0A%20%20%20%20%20%20%20%20%3B%0A%0A%20%20%20%20%20%20%20%20%0A%20%20%20%20%0A%20%20%20%20%0A%20%20%20%20%20%20%20%20%20%20%20%20var%20marker_bd6ace4bd22e4d22b21b4fcdf95d1f5b%20%3D%20L.marker%28%0A%20%20%20%20%20%20%20%20%20%20%20%20%20%20%20%20%5B-0.9157439755527074%2C%2041.63348367532985%5D%2C%0A%20%20%20%20%20%20%20%20%20%20%20%20%20%20%20%20%7B%7D%0A%20%20%20%20%20%20%20%20%20%20%20%20%29.addTo%28map_87582643ab2540feb5a06184a194e90d%29%3B%0A%20%20%20%20%20%20%20%20%0A%20%20%20%20%0A%20%20%20%20%20%20%20%20var%20popup_cdffb969ddfd49589f85b505b2f22d76%20%3D%20L.popup%28%7B%22maxWidth%22%3A%20%22100%25%22%7D%29%3B%0A%0A%20%20%20%20%20%20%20%20%0A%20%20%20%20%20%20%20%20%20%20%20%20var%20html_ff407fd0e6994e3e92658a37e3d69033%20%3D%20%24%28%60%3Cdiv%20id%3D%22html_ff407fd0e6994e3e92658a37e3d69033%22%20style%3D%22width%3A%20100.0%25%3B%20height%3A%20100.0%25%3B%22%3ESALIDA%20CALZADA%3C/div%3E%60%29%5B0%5D%3B%0A%20%20%20%20%20%20%20%20%20%20%20%20popup_cdffb969ddfd49589f85b505b2f22d76.setContent%28html_ff407fd0e6994e3e92658a37e3d69033%29%3B%0A%20%20%20%20%20%20%20%20%0A%0A%20%20%20%20%20%20%20%20marker_bd6ace4bd22e4d22b21b4fcdf95d1f5b.bindPopup%28popup_cdffb969ddfd49589f85b505b2f22d76%29%0A%20%20%20%20%20%20%20%20%3B%0A%0A%20%20%20%20%20%20%20%20%0A%20%20%20%20%0A%20%20%20%20%0A%20%20%20%20%20%20%20%20%20%20%20%20var%20marker_ba3f36b5103743c8847e45920409525f%20%3D%20L.marker%28%0A%20%20%20%20%20%20%20%20%20%20%20%20%20%20%20%20%5B-0.8869959298557372%2C%2041.67593597602368%5D%2C%0A%20%20%20%20%20%20%20%20%20%20%20%20%20%20%20%20%7B%7D%0A%20%20%20%20%20%20%20%20%20%20%20%20%29.addTo%28map_87582643ab2540feb5a06184a194e90d%29%3B%0A%20%20%20%20%20%20%20%20%0A%20%20%20%20%0A%20%20%20%20%20%20%20%20var%20popup_758cec0572634015ac0705b9e45c865f%20%3D%20L.popup%28%7B%22maxWidth%22%3A%20%22100%25%22%7D%29%3B%0A%0A%20%20%20%20%20%20%20%20%0A%20%20%20%20%20%20%20%20%20%20%20%20var%20html_5b41407c50024d09a67b0f9c7ab0b976%20%3D%20%24%28%60%3Cdiv%20id%3D%22html_5b41407c50024d09a67b0f9c7ab0b976%22%20style%3D%22width%3A%20100.0%25%3B%20height%3A%20100.0%25%3B%22%3ESALIDA%20CALZADA%3C/div%3E%60%29%5B0%5D%3B%0A%20%20%20%20%20%20%20%20%20%20%20%20popup_758cec0572634015ac0705b9e45c865f.setContent%28html_5b41407c50024d09a67b0f9c7ab0b976%29%3B%0A%20%20%20%20%20%20%20%20%0A%0A%20%20%20%20%20%20%20%20marker_ba3f36b5103743c8847e45920409525f.bindPopup%28popup_758cec0572634015ac0705b9e45c865f%29%0A%20%20%20%20%20%20%20%20%3B%0A%0A%20%20%20%20%20%20%20%20%0A%20%20%20%20%0A%20%20%20%20%0A%20%20%20%20%20%20%20%20%20%20%20%20var%20marker_4a9b14ecb554424797937fc4eea26235%20%3D%20L.marker%28%0A%20%20%20%20%20%20%20%20%20%20%20%20%20%20%20%20%5B-0.876909940066992%2C%2041.672106692157605%5D%2C%0A%20%20%20%20%20%20%20%20%20%20%20%20%20%20%20%20%7B%7D%0A%20%20%20%20%20%20%20%20%20%20%20%20%29.addTo%28map_87582643ab2540feb5a06184a194e90d%29%3B%0A%20%20%20%20%20%20%20%20%0A%20%20%20%20%0A%20%20%20%20%20%20%20%20var%20popup_3396b70dc9474ea19d2062d43ba96b29%20%3D%20L.popup%28%7B%22maxWidth%22%3A%20%22100%25%22%7D%29%3B%0A%0A%20%20%20%20%20%20%20%20%0A%20%20%20%20%20%20%20%20%20%20%20%20var%20html_49f3691fa7bb4696bca7fcf91c1efbe2%20%3D%20%24%28%60%3Cdiv%20id%3D%22html_49f3691fa7bb4696bca7fcf91c1efbe2%22%20style%3D%22width%3A%20100.0%25%3B%20height%3A%20100.0%25%3B%22%3ESALIDA%20CALZADA%3C/div%3E%60%29%5B0%5D%3B%0A%20%20%20%20%20%20%20%20%20%20%20%20popup_3396b70dc9474ea19d2062d43ba96b29.setContent%28html_49f3691fa7bb4696bca7fcf91c1efbe2%29%3B%0A%20%20%20%20%20%20%20%20%0A%0A%20%20%20%20%20%20%20%20marker_4a9b14ecb554424797937fc4eea26235.bindPopup%28popup_3396b70dc9474ea19d2062d43ba96b29%29%0A%20%20%20%20%20%20%20%20%3B%0A%0A%20%20%20%20%20%20%20%20%0A%20%20%20%20%0A%20%20%20%20%0A%20%20%20%20%20%20%20%20%20%20%20%20var%20marker_7e51bbb170f54240be50a4ab03ddb825%20%3D%20L.marker%28%0A%20%20%20%20%20%20%20%20%20%20%20%20%20%20%20%20%5B-0.8816447317118501%2C%2041.670796057267296%5D%2C%0A%20%20%20%20%20%20%20%20%20%20%20%20%20%20%20%20%7B%7D%0A%20%20%20%20%20%20%20%20%20%20%20%20%29.addTo%28map_87582643ab2540feb5a06184a194e90d%29%3B%0A%20%20%20%20%20%20%20%20%0A%20%20%20%20%0A%20%20%20%20%20%20%20%20var%20popup_271d0da0d8f84ea7a2480bfdf1bf880c%20%3D%20L.popup%28%7B%22maxWidth%22%3A%20%22100%25%22%7D%29%3B%0A%0A%20%20%20%20%20%20%20%20%0A%20%20%20%20%20%20%20%20%20%20%20%20var%20html_9773666c333847bab77fc6672eee249b%20%3D%20%24%28%60%3Cdiv%20id%3D%22html_9773666c333847bab77fc6672eee249b%22%20style%3D%22width%3A%20100.0%25%3B%20height%3A%20100.0%25%3B%22%3ECAIDA%20SOBRE%20CALZADA%3C/div%3E%60%29%5B0%5D%3B%0A%20%20%20%20%20%20%20%20%20%20%20%20popup_271d0da0d8f84ea7a2480bfdf1bf880c.setContent%28html_9773666c333847bab77fc6672eee249b%29%3B%0A%20%20%20%20%20%20%20%20%0A%0A%20%20%20%20%20%20%20%20marker_7e51bbb170f54240be50a4ab03ddb825.bindPopup%28popup_271d0da0d8f84ea7a2480bfdf1bf880c%29%0A%20%20%20%20%20%20%20%20%3B%0A%0A%20%20%20%20%20%20%20%20%0A%20%20%20%20%0A%20%20%20%20%0A%20%20%20%20%20%20%20%20%20%20%20%20var%20marker_cdebd92adb43493c977407247e0a3dad%20%3D%20L.marker%28%0A%20%20%20%20%20%20%20%20%20%20%20%20%20%20%20%20%5B-0.9072940747876611%2C%2041.634304213138115%5D%2C%0A%20%20%20%20%20%20%20%20%20%20%20%20%20%20%20%20%7B%7D%0A%20%20%20%20%20%20%20%20%20%20%20%20%29.addTo%28map_87582643ab2540feb5a06184a194e90d%29%3B%0A%20%20%20%20%20%20%20%20%0A%20%20%20%20%0A%20%20%20%20%20%20%20%20var%20popup_f24491bfef44494a8a2486ed013c2798%20%3D%20L.popup%28%7B%22maxWidth%22%3A%20%22100%25%22%7D%29%3B%0A%0A%20%20%20%20%20%20%20%20%0A%20%20%20%20%20%20%20%20%20%20%20%20var%20html_b6ff1d52c82443f4bdec7b21f0c6d509%20%3D%20%24%28%60%3Cdiv%20id%3D%22html_b6ff1d52c82443f4bdec7b21f0c6d509%22%20style%3D%22width%3A%20100.0%25%3B%20height%3A%20100.0%25%3B%22%3ECOLISI%C3%93N%20LATERAL%3C/div%3E%60%29%5B0%5D%3B%0A%20%20%20%20%20%20%20%20%20%20%20%20popup_f24491bfef44494a8a2486ed013c2798.setContent%28html_b6ff1d52c82443f4bdec7b21f0c6d509%29%3B%0A%20%20%20%20%20%20%20%20%0A%0A%20%20%20%20%20%20%20%20marker_cdebd92adb43493c977407247e0a3dad.bindPopup%28popup_f24491bfef44494a8a2486ed013c2798%29%0A%20%20%20%20%20%20%20%20%3B%0A%0A%20%20%20%20%20%20%20%20%0A%20%20%20%20%0A%20%20%20%20%0A%20%20%20%20%20%20%20%20%20%20%20%20var%20marker_182ce846da484c18bc1a683f10b4007b%20%3D%20L.marker%28%0A%20%20%20%20%20%20%20%20%20%20%20%20%20%20%20%20%5B-0.9297774953117621%2C%2041.65154680743475%5D%2C%0A%20%20%20%20%20%20%20%20%20%20%20%20%20%20%20%20%7B%7D%0A%20%20%20%20%20%20%20%20%20%20%20%20%29.addTo%28map_87582643ab2540feb5a06184a194e90d%29%3B%0A%20%20%20%20%20%20%20%20%0A%20%20%20%20%0A%20%20%20%20%20%20%20%20var%20popup_c9d5863791704860a4f24a61ca892c79%20%3D%20L.popup%28%7B%22maxWidth%22%3A%20%22100%25%22%7D%29%3B%0A%0A%20%20%20%20%20%20%20%20%0A%20%20%20%20%20%20%20%20%20%20%20%20var%20html_294e6a49f77e43018ad09de529ed5578%20%3D%20%24%28%60%3Cdiv%20id%3D%22html_294e6a49f77e43018ad09de529ed5578%22%20style%3D%22width%3A%20100.0%25%3B%20height%3A%20100.0%25%3B%22%3EATROPELLO%3C/div%3E%60%29%5B0%5D%3B%0A%20%20%20%20%20%20%20%20%20%20%20%20popup_c9d5863791704860a4f24a61ca892c79.setContent%28html_294e6a49f77e43018ad09de529ed5578%29%3B%0A%20%20%20%20%20%20%20%20%0A%0A%20%20%20%20%20%20%20%20marker_182ce846da484c18bc1a683f10b4007b.bindPopup%28popup_c9d5863791704860a4f24a61ca892c79%29%0A%20%20%20%20%20%20%20%20%3B%0A%0A%20%20%20%20%20%20%20%20%0A%20%20%20%20%0A%20%20%20%20%0A%20%20%20%20%20%20%20%20%20%20%20%20var%20marker_277752c724c84b788ccaabbbd539bceb%20%3D%20L.marker%28%0A%20%20%20%20%20%20%20%20%20%20%20%20%20%20%20%20%5B-0.9260243926745974%2C%2041.62152191885522%5D%2C%0A%20%20%20%20%20%20%20%20%20%20%20%20%20%20%20%20%7B%7D%0A%20%20%20%20%20%20%20%20%20%20%20%20%29.addTo%28map_87582643ab2540feb5a06184a194e90d%29%3B%0A%20%20%20%20%20%20%20%20%0A%20%20%20%20%0A%20%20%20%20%20%20%20%20var%20popup_77897c6ed1c64b1089b6fbf8d8773f8e%20%3D%20L.popup%28%7B%22maxWidth%22%3A%20%22100%25%22%7D%29%3B%0A%0A%20%20%20%20%20%20%20%20%0A%20%20%20%20%20%20%20%20%20%20%20%20var%20html_fa6ca3b700804704a16dec5a3b7015e1%20%3D%20%24%28%60%3Cdiv%20id%3D%22html_fa6ca3b700804704a16dec5a3b7015e1%22%20style%3D%22width%3A%20100.0%25%3B%20height%3A%20100.0%25%3B%22%3ECOLIS%20FRONTOLATERAL%3C/div%3E%60%29%5B0%5D%3B%0A%20%20%20%20%20%20%20%20%20%20%20%20popup_77897c6ed1c64b1089b6fbf8d8773f8e.setContent%28html_fa6ca3b700804704a16dec5a3b7015e1%29%3B%0A%20%20%20%20%20%20%20%20%0A%0A%20%20%20%20%20%20%20%20marker_277752c724c84b788ccaabbbd539bceb.bindPopup%28popup_77897c6ed1c64b1089b6fbf8d8773f8e%29%0A%20%20%20%20%20%20%20%20%3B%0A%0A%20%20%20%20%20%20%20%20%0A%20%20%20%20%0A%20%20%20%20%0A%20%20%20%20%20%20%20%20%20%20%20%20var%20marker_f3bee9b8242b41b6bfd81b7b930d1ea4%20%3D%20L.marker%28%0A%20%20%20%20%20%20%20%20%20%20%20%20%20%20%20%20%5B-0.8747826613487039%2C%2041.64737203882021%5D%2C%0A%20%20%20%20%20%20%20%20%20%20%20%20%20%20%20%20%7B%7D%0A%20%20%20%20%20%20%20%20%20%20%20%20%29.addTo%28map_87582643ab2540feb5a06184a194e90d%29%3B%0A%20%20%20%20%20%20%20%20%0A%20%20%20%20%0A%20%20%20%20%20%20%20%20var%20popup_71781bffb6234b8db8fa0e537c5fdadd%20%3D%20L.popup%28%7B%22maxWidth%22%3A%20%22100%25%22%7D%29%3B%0A%0A%20%20%20%20%20%20%20%20%0A%20%20%20%20%20%20%20%20%20%20%20%20var%20html_30a95e27d55f470692590c0357be019a%20%3D%20%24%28%60%3Cdiv%20id%3D%22html_30a95e27d55f470692590c0357be019a%22%20style%3D%22width%3A%20100.0%25%3B%20height%3A%20100.0%25%3B%22%3ECAIDA%20SOBRE%20CALZADA%3C/div%3E%60%29%5B0%5D%3B%0A%20%20%20%20%20%20%20%20%20%20%20%20popup_71781bffb6234b8db8fa0e537c5fdadd.setContent%28html_30a95e27d55f470692590c0357be019a%29%3B%0A%20%20%20%20%20%20%20%20%0A%0A%20%20%20%20%20%20%20%20marker_f3bee9b8242b41b6bfd81b7b930d1ea4.bindPopup%28popup_71781bffb6234b8db8fa0e537c5fdadd%29%0A%20%20%20%20%20%20%20%20%3B%0A%0A%20%20%20%20%20%20%20%20%0A%20%20%20%20%0A%20%20%20%20%0A%20%20%20%20%20%20%20%20%20%20%20%20var%20marker_4703a386ee9d41b6b215a8d067a8bda9%20%3D%20L.marker%28%0A%20%20%20%20%20%20%20%20%20%20%20%20%20%20%20%20%5B-0.8808426934572774%2C%2041.64583899054114%5D%2C%0A%20%20%20%20%20%20%20%20%20%20%20%20%20%20%20%20%7B%7D%0A%20%20%20%20%20%20%20%20%20%20%20%20%29.addTo%28map_87582643ab2540feb5a06184a194e90d%29%3B%0A%20%20%20%20%20%20%20%20%0A%20%20%20%20%0A%20%20%20%20%20%20%20%20var%20popup_9d61d1a348d440ca809f04737bc28067%20%3D%20L.popup%28%7B%22maxWidth%22%3A%20%22100%25%22%7D%29%3B%0A%0A%20%20%20%20%20%20%20%20%0A%20%20%20%20%20%20%20%20%20%20%20%20var%20html_82a66bd6b96d4990a870d17c6f52f378%20%3D%20%24%28%60%3Cdiv%20id%3D%22html_82a66bd6b96d4990a870d17c6f52f378%22%20style%3D%22width%3A%20100.0%25%3B%20height%3A%20100.0%25%3B%22%3ECOLISI%C3%93N%20ALCANCE%3C/div%3E%60%29%5B0%5D%3B%0A%20%20%20%20%20%20%20%20%20%20%20%20popup_9d61d1a348d440ca809f04737bc28067.setContent%28html_82a66bd6b96d4990a870d17c6f52f378%29%3B%0A%20%20%20%20%20%20%20%20%0A%0A%20%20%20%20%20%20%20%20marker_4703a386ee9d41b6b215a8d067a8bda9.bindPopup%28popup_9d61d1a348d440ca809f04737bc28067%29%0A%20%20%20%20%20%20%20%20%3B%0A%0A%20%20%20%20%20%20%20%20%0A%20%20%20%20%0A%20%20%20%20%0A%20%20%20%20%20%20%20%20%20%20%20%20var%20marker_7f0aa96fc01a45c486868ac2acbf58eb%20%3D%20L.marker%28%0A%20%20%20%20%20%20%20%20%20%20%20%20%20%20%20%20%5B-0.9244213411763852%2C%2041.63444197353212%5D%2C%0A%20%20%20%20%20%20%20%20%20%20%20%20%20%20%20%20%7B%7D%0A%20%20%20%20%20%20%20%20%20%20%20%20%29.addTo%28map_87582643ab2540feb5a06184a194e90d%29%3B%0A%20%20%20%20%20%20%20%20%0A%20%20%20%20%0A%20%20%20%20%20%20%20%20var%20popup_8a9d51730506418eb3a462e8c1fdcb11%20%3D%20L.popup%28%7B%22maxWidth%22%3A%20%22100%25%22%7D%29%3B%0A%0A%20%20%20%20%20%20%20%20%0A%20%20%20%20%20%20%20%20%20%20%20%20var%20html_048cac1995f8494ca6214d01886e851c%20%3D%20%24%28%60%3Cdiv%20id%3D%22html_048cac1995f8494ca6214d01886e851c%22%20style%3D%22width%3A%20100.0%25%3B%20height%3A%20100.0%25%3B%22%3ECOLIS%20FRONTOLATERAL%3C/div%3E%60%29%5B0%5D%3B%0A%20%20%20%20%20%20%20%20%20%20%20%20popup_8a9d51730506418eb3a462e8c1fdcb11.setContent%28html_048cac1995f8494ca6214d01886e851c%29%3B%0A%20%20%20%20%20%20%20%20%0A%0A%20%20%20%20%20%20%20%20marker_7f0aa96fc01a45c486868ac2acbf58eb.bindPopup%28popup_8a9d51730506418eb3a462e8c1fdcb11%29%0A%20%20%20%20%20%20%20%20%3B%0A%0A%20%20%20%20%20%20%20%20%0A%20%20%20%20%0A%20%20%20%20%0A%20%20%20%20%20%20%20%20%20%20%20%20var%20marker_0375c93a66424cb79c6283cedd59ae80%20%3D%20L.marker%28%0A%20%20%20%20%20%20%20%20%20%20%20%20%20%20%20%20%5B-0.8837000032645412%2C%2041.647668760113724%5D%2C%0A%20%20%20%20%20%20%20%20%20%20%20%20%20%20%20%20%7B%7D%0A%20%20%20%20%20%20%20%20%20%20%20%20%29.addTo%28map_87582643ab2540feb5a06184a194e90d%29%3B%0A%20%20%20%20%20%20%20%20%0A%20%20%20%20%0A%20%20%20%20%20%20%20%20var%20popup_fcca2a3609834107b4a418845b28e10c%20%3D%20L.popup%28%7B%22maxWidth%22%3A%20%22100%25%22%7D%29%3B%0A%0A%20%20%20%20%20%20%20%20%0A%20%20%20%20%20%20%20%20%20%20%20%20var%20html_768881fce23f4c1cb98dafad6bcb8b50%20%3D%20%24%28%60%3Cdiv%20id%3D%22html_768881fce23f4c1cb98dafad6bcb8b50%22%20style%3D%22width%3A%20100.0%25%3B%20height%3A%20100.0%25%3B%22%3ECOLISI%C3%93N%20LATERAL%3C/div%3E%60%29%5B0%5D%3B%0A%20%20%20%20%20%20%20%20%20%20%20%20popup_fcca2a3609834107b4a418845b28e10c.setContent%28html_768881fce23f4c1cb98dafad6bcb8b50%29%3B%0A%20%20%20%20%20%20%20%20%0A%0A%20%20%20%20%20%20%20%20marker_0375c93a66424cb79c6283cedd59ae80.bindPopup%28popup_fcca2a3609834107b4a418845b28e10c%29%0A%20%20%20%20%20%20%20%20%3B%0A%0A%20%20%20%20%20%20%20%20%0A%20%20%20%20%0A%20%20%20%20%0A%20%20%20%20%20%20%20%20%20%20%20%20var%20marker_fa97cc4c3c494195b0d288b31d21fa09%20%3D%20L.marker%28%0A%20%20%20%20%20%20%20%20%20%20%20%20%20%20%20%20%5B-0.8949697510455706%2C%2041.64713372980882%5D%2C%0A%20%20%20%20%20%20%20%20%20%20%20%20%20%20%20%20%7B%7D%0A%20%20%20%20%20%20%20%20%20%20%20%20%29.addTo%28map_87582643ab2540feb5a06184a194e90d%29%3B%0A%20%20%20%20%20%20%20%20%0A%20%20%20%20%0A%20%20%20%20%20%20%20%20var%20popup_00ededd171634c8a9331081d34a1b019%20%3D%20L.popup%28%7B%22maxWidth%22%3A%20%22100%25%22%7D%29%3B%0A%0A%20%20%20%20%20%20%20%20%0A%20%20%20%20%20%20%20%20%20%20%20%20var%20html_e68da33d5f804138a53763f1c6135c19%20%3D%20%24%28%60%3Cdiv%20id%3D%22html_e68da33d5f804138a53763f1c6135c19%22%20style%3D%22width%3A%20100.0%25%3B%20height%3A%20100.0%25%3B%22%3ECOLISI%C3%93N%20ALCANCE%3C/div%3E%60%29%5B0%5D%3B%0A%20%20%20%20%20%20%20%20%20%20%20%20popup_00ededd171634c8a9331081d34a1b019.setContent%28html_e68da33d5f804138a53763f1c6135c19%29%3B%0A%20%20%20%20%20%20%20%20%0A%0A%20%20%20%20%20%20%20%20marker_fa97cc4c3c494195b0d288b31d21fa09.bindPopup%28popup_00ededd171634c8a9331081d34a1b019%29%0A%20%20%20%20%20%20%20%20%3B%0A%0A%20%20%20%20%20%20%20%20%0A%20%20%20%20%0A%20%20%20%20%0A%20%20%20%20%20%20%20%20%20%20%20%20var%20marker_2f37cc17c34242d1a9dd997cbf7f1ba8%20%3D%20L.marker%28%0A%20%20%20%20%20%20%20%20%20%20%20%20%20%20%20%20%5B-0.8586802458354249%2C%2041.66759236644088%5D%2C%0A%20%20%20%20%20%20%20%20%20%20%20%20%20%20%20%20%7B%7D%0A%20%20%20%20%20%20%20%20%20%20%20%20%29.addTo%28map_87582643ab2540feb5a06184a194e90d%29%3B%0A%20%20%20%20%20%20%20%20%0A%20%20%20%20%0A%20%20%20%20%20%20%20%20var%20popup_0585dfa06ed1461eb62a6e0057f3a530%20%3D%20L.popup%28%7B%22maxWidth%22%3A%20%22100%25%22%7D%29%3B%0A%0A%20%20%20%20%20%20%20%20%0A%20%20%20%20%20%20%20%20%20%20%20%20var%20html_9f7d161e07904f88b603570fc9e9f412%20%3D%20%24%28%60%3Cdiv%20id%3D%22html_9f7d161e07904f88b603570fc9e9f412%22%20style%3D%22width%3A%20100.0%25%3B%20height%3A%20100.0%25%3B%22%3ECOLISI%C3%93N%20LATERAL%3C/div%3E%60%29%5B0%5D%3B%0A%20%20%20%20%20%20%20%20%20%20%20%20popup_0585dfa06ed1461eb62a6e0057f3a530.setContent%28html_9f7d161e07904f88b603570fc9e9f412%29%3B%0A%20%20%20%20%20%20%20%20%0A%0A%20%20%20%20%20%20%20%20marker_2f37cc17c34242d1a9dd997cbf7f1ba8.bindPopup%28popup_0585dfa06ed1461eb62a6e0057f3a530%29%0A%20%20%20%20%20%20%20%20%3B%0A%0A%20%20%20%20%20%20%20%20%0A%20%20%20%20%0A%20%20%20%20%0A%20%20%20%20%20%20%20%20%20%20%20%20var%20marker_04ce9f4aa9c34fd8a147f9cc37993e69%20%3D%20L.marker%28%0A%20%20%20%20%20%20%20%20%20%20%20%20%20%20%20%20%5B-0.8824516125202209%2C%2041.633156268397784%5D%2C%0A%20%20%20%20%20%20%20%20%20%20%20%20%20%20%20%20%7B%7D%0A%20%20%20%20%20%20%20%20%20%20%20%20%29.addTo%28map_87582643ab2540feb5a06184a194e90d%29%3B%0A%20%20%20%20%20%20%20%20%0A%20%20%20%20%0A%20%20%20%20%20%20%20%20var%20popup_a57e00203faa40a7bf7ea66a4bdfb3c5%20%3D%20L.popup%28%7B%22maxWidth%22%3A%20%22100%25%22%7D%29%3B%0A%0A%20%20%20%20%20%20%20%20%0A%20%20%20%20%20%20%20%20%20%20%20%20var%20html_37443c5da73f40fe909be846ccb0917a%20%3D%20%24%28%60%3Cdiv%20id%3D%22html_37443c5da73f40fe909be846ccb0917a%22%20style%3D%22width%3A%20100.0%25%3B%20height%3A%20100.0%25%3B%22%3EATROPELLO%3C/div%3E%60%29%5B0%5D%3B%0A%20%20%20%20%20%20%20%20%20%20%20%20popup_a57e00203faa40a7bf7ea66a4bdfb3c5.setContent%28html_37443c5da73f40fe909be846ccb0917a%29%3B%0A%20%20%20%20%20%20%20%20%0A%0A%20%20%20%20%20%20%20%20marker_04ce9f4aa9c34fd8a147f9cc37993e69.bindPopup%28popup_a57e00203faa40a7bf7ea66a4bdfb3c5%29%0A%20%20%20%20%20%20%20%20%3B%0A%0A%20%20%20%20%20%20%20%20%0A%20%20%20%20%0A%20%20%20%20%0A%20%20%20%20%20%20%20%20%20%20%20%20var%20marker_bd6b269a66044ad6957ba14d91b978dd%20%3D%20L.marker%28%0A%20%20%20%20%20%20%20%20%20%20%20%20%20%20%20%20%5B-0.8857803278979575%2C%2041.65815100896193%5D%2C%0A%20%20%20%20%20%20%20%20%20%20%20%20%20%20%20%20%7B%7D%0A%20%20%20%20%20%20%20%20%20%20%20%20%29.addTo%28map_87582643ab2540feb5a06184a194e90d%29%3B%0A%20%20%20%20%20%20%20%20%0A%20%20%20%20%0A%20%20%20%20%20%20%20%20var%20popup_d4cd00fafa09430092673c5d9271a70a%20%3D%20L.popup%28%7B%22maxWidth%22%3A%20%22100%25%22%7D%29%3B%0A%0A%20%20%20%20%20%20%20%20%0A%20%20%20%20%20%20%20%20%20%20%20%20var%20html_f6693ac640b145bbb0a4befe987828f0%20%3D%20%24%28%60%3Cdiv%20id%3D%22html_f6693ac640b145bbb0a4befe987828f0%22%20style%3D%22width%3A%20100.0%25%3B%20height%3A%20100.0%25%3B%22%3EATROPELLO%3C/div%3E%60%29%5B0%5D%3B%0A%20%20%20%20%20%20%20%20%20%20%20%20popup_d4cd00fafa09430092673c5d9271a70a.setContent%28html_f6693ac640b145bbb0a4befe987828f0%29%3B%0A%20%20%20%20%20%20%20%20%0A%0A%20%20%20%20%20%20%20%20marker_bd6b269a66044ad6957ba14d91b978dd.bindPopup%28popup_d4cd00fafa09430092673c5d9271a70a%29%0A%20%20%20%20%20%20%20%20%3B%0A%0A%20%20%20%20%20%20%20%20%0A%20%20%20%20%0A%20%20%20%20%0A%20%20%20%20%20%20%20%20%20%20%20%20var%20marker_0bfe89f90a8e48a48352d95daab4135e%20%3D%20L.marker%28%0A%20%20%20%20%20%20%20%20%20%20%20%20%20%20%20%20%5B-0.8901425582260953%2C%2041.606852016162875%5D%2C%0A%20%20%20%20%20%20%20%20%20%20%20%20%20%20%20%20%7B%7D%0A%20%20%20%20%20%20%20%20%20%20%20%20%29.addTo%28map_87582643ab2540feb5a06184a194e90d%29%3B%0A%20%20%20%20%20%20%20%20%0A%20%20%20%20%0A%20%20%20%20%20%20%20%20var%20popup_b95dfa8e91f04456b7dbce0d1dfb2c24%20%3D%20L.popup%28%7B%22maxWidth%22%3A%20%22100%25%22%7D%29%3B%0A%0A%20%20%20%20%20%20%20%20%0A%20%20%20%20%20%20%20%20%20%20%20%20var%20html_c005e6703b38414782506d3e184121c5%20%3D%20%24%28%60%3Cdiv%20id%3D%22html_c005e6703b38414782506d3e184121c5%22%20style%3D%22width%3A%20100.0%25%3B%20height%3A%20100.0%25%3B%22%3ECOLIS.%20MARCHA%20ATR%C3%81S%3C/div%3E%60%29%5B0%5D%3B%0A%20%20%20%20%20%20%20%20%20%20%20%20popup_b95dfa8e91f04456b7dbce0d1dfb2c24.setContent%28html_c005e6703b38414782506d3e184121c5%29%3B%0A%20%20%20%20%20%20%20%20%0A%0A%20%20%20%20%20%20%20%20marker_0bfe89f90a8e48a48352d95daab4135e.bindPopup%28popup_b95dfa8e91f04456b7dbce0d1dfb2c24%29%0A%20%20%20%20%20%20%20%20%3B%0A%0A%20%20%20%20%20%20%20%20%0A%20%20%20%20%0A%20%20%20%20%0A%20%20%20%20%20%20%20%20%20%20%20%20var%20marker_43cc73e81d354612abffe57e5999cfd5%20%3D%20L.marker%28%0A%20%20%20%20%20%20%20%20%20%20%20%20%20%20%20%20%5B-0.8853994844903159%2C%2041.665547003703814%5D%2C%0A%20%20%20%20%20%20%20%20%20%20%20%20%20%20%20%20%7B%7D%0A%20%20%20%20%20%20%20%20%20%20%20%20%29.addTo%28map_87582643ab2540feb5a06184a194e90d%29%3B%0A%20%20%20%20%20%20%20%20%0A%20%20%20%20%0A%20%20%20%20%20%20%20%20var%20popup_9381104341e745c99093ac1bf4df2e26%20%3D%20L.popup%28%7B%22maxWidth%22%3A%20%22100%25%22%7D%29%3B%0A%0A%20%20%20%20%20%20%20%20%0A%20%20%20%20%20%20%20%20%20%20%20%20var%20html_a0a023d5ab7d408584fca4ab6ed71e31%20%3D%20%24%28%60%3Cdiv%20id%3D%22html_a0a023d5ab7d408584fca4ab6ed71e31%22%20style%3D%22width%3A%20100.0%25%3B%20height%3A%20100.0%25%3B%22%3ECOLISI%C3%93N%20ALCANCE%3C/div%3E%60%29%5B0%5D%3B%0A%20%20%20%20%20%20%20%20%20%20%20%20popup_9381104341e745c99093ac1bf4df2e26.setContent%28html_a0a023d5ab7d408584fca4ab6ed71e31%29%3B%0A%20%20%20%20%20%20%20%20%0A%0A%20%20%20%20%20%20%20%20marker_43cc73e81d354612abffe57e5999cfd5.bindPopup%28popup_9381104341e745c99093ac1bf4df2e26%29%0A%20%20%20%20%20%20%20%20%3B%0A%0A%20%20%20%20%20%20%20%20%0A%20%20%20%20%0A%20%20%20%20%0A%20%20%20%20%20%20%20%20%20%20%20%20var%20marker_a4f74d9ce77e4606a63de896b7e910b8%20%3D%20L.marker%28%0A%20%20%20%20%20%20%20%20%20%20%20%20%20%20%20%20%5B-0.8988224291930889%2C%2041.681817186609294%5D%2C%0A%20%20%20%20%20%20%20%20%20%20%20%20%20%20%20%20%7B%7D%0A%20%20%20%20%20%20%20%20%20%20%20%20%29.addTo%28map_87582643ab2540feb5a06184a194e90d%29%3B%0A%20%20%20%20%20%20%20%20%0A%20%20%20%20%0A%20%20%20%20%20%20%20%20var%20popup_ebee23ae3f034702af4b7403409f960d%20%3D%20L.popup%28%7B%22maxWidth%22%3A%20%22100%25%22%7D%29%3B%0A%0A%20%20%20%20%20%20%20%20%0A%20%20%20%20%20%20%20%20%20%20%20%20var%20html_cf5a745f295f4976bcd61721e37927a8%20%3D%20%24%28%60%3Cdiv%20id%3D%22html_cf5a745f295f4976bcd61721e37927a8%22%20style%3D%22width%3A%20100.0%25%3B%20height%3A%20100.0%25%3B%22%3ECAIDA%20SOBRE%20CALZADA%3C/div%3E%60%29%5B0%5D%3B%0A%20%20%20%20%20%20%20%20%20%20%20%20popup_ebee23ae3f034702af4b7403409f960d.setContent%28html_cf5a745f295f4976bcd61721e37927a8%29%3B%0A%20%20%20%20%20%20%20%20%0A%0A%20%20%20%20%20%20%20%20marker_a4f74d9ce77e4606a63de896b7e910b8.bindPopup%28popup_ebee23ae3f034702af4b7403409f960d%29%0A%20%20%20%20%20%20%20%20%3B%0A%0A%20%20%20%20%20%20%20%20%0A%20%20%20%20%0A%20%20%20%20%0A%20%20%20%20%20%20%20%20%20%20%20%20var%20marker_aa4843f85f36488a9d22f2b990a9b60c%20%3D%20L.marker%28%0A%20%20%20%20%20%20%20%20%20%20%20%20%20%20%20%20%5B-0.878399626737674%2C%2041.653142424569985%5D%2C%0A%20%20%20%20%20%20%20%20%20%20%20%20%20%20%20%20%7B%7D%0A%20%20%20%20%20%20%20%20%20%20%20%20%29.addTo%28map_87582643ab2540feb5a06184a194e90d%29%3B%0A%20%20%20%20%20%20%20%20%0A%20%20%20%20%0A%20%20%20%20%20%20%20%20var%20popup_73f3b8ee69424536b06aaf6b0acdba05%20%3D%20L.popup%28%7B%22maxWidth%22%3A%20%22100%25%22%7D%29%3B%0A%0A%20%20%20%20%20%20%20%20%0A%20%20%20%20%20%20%20%20%20%20%20%20var%20html_73c08e6d53ba4628b9c6c02d14f18eff%20%3D%20%24%28%60%3Cdiv%20id%3D%22html_73c08e6d53ba4628b9c6c02d14f18eff%22%20style%3D%22width%3A%20100.0%25%3B%20height%3A%20100.0%25%3B%22%3ECOLISI%C3%93N%20ALCANCE%3C/div%3E%60%29%5B0%5D%3B%0A%20%20%20%20%20%20%20%20%20%20%20%20popup_73f3b8ee69424536b06aaf6b0acdba05.setContent%28html_73c08e6d53ba4628b9c6c02d14f18eff%29%3B%0A%20%20%20%20%20%20%20%20%0A%0A%20%20%20%20%20%20%20%20marker_aa4843f85f36488a9d22f2b990a9b60c.bindPopup%28popup_73f3b8ee69424536b06aaf6b0acdba05%29%0A%20%20%20%20%20%20%20%20%3B%0A%0A%20%20%20%20%20%20%20%20%0A%20%20%20%20%0A%20%20%20%20%0A%20%20%20%20%20%20%20%20%20%20%20%20var%20marker_e8df5ac6f02d4eb9a0998782268d7806%20%3D%20L.marker%28%0A%20%20%20%20%20%20%20%20%20%20%20%20%20%20%20%20%5B-0.9005718898973313%2C%2041.65471375662296%5D%2C%0A%20%20%20%20%20%20%20%20%20%20%20%20%20%20%20%20%7B%7D%0A%20%20%20%20%20%20%20%20%20%20%20%20%29.addTo%28map_87582643ab2540feb5a06184a194e90d%29%3B%0A%20%20%20%20%20%20%20%20%0A%20%20%20%20%0A%20%20%20%20%20%20%20%20var%20popup_7aaa6ec891774cdf8464896b29c2f733%20%3D%20L.popup%28%7B%22maxWidth%22%3A%20%22100%25%22%7D%29%3B%0A%0A%20%20%20%20%20%20%20%20%0A%20%20%20%20%20%20%20%20%20%20%20%20var%20html_233061e1f9af49838954e29a205dc073%20%3D%20%24%28%60%3Cdiv%20id%3D%22html_233061e1f9af49838954e29a205dc073%22%20style%3D%22width%3A%20100.0%25%3B%20height%3A%20100.0%25%3B%22%3ECOLISI%C3%93N%20ALCANCE%3C/div%3E%60%29%5B0%5D%3B%0A%20%20%20%20%20%20%20%20%20%20%20%20popup_7aaa6ec891774cdf8464896b29c2f733.setContent%28html_233061e1f9af49838954e29a205dc073%29%3B%0A%20%20%20%20%20%20%20%20%0A%0A%20%20%20%20%20%20%20%20marker_e8df5ac6f02d4eb9a0998782268d7806.bindPopup%28popup_7aaa6ec891774cdf8464896b29c2f733%29%0A%20%20%20%20%20%20%20%20%3B%0A%0A%20%20%20%20%20%20%20%20%0A%20%20%20%20%0A%20%20%20%20%0A%20%20%20%20%20%20%20%20%20%20%20%20var%20marker_ed99dd61f44f4ae9b6ce32050b31ad32%20%3D%20L.marker%28%0A%20%20%20%20%20%20%20%20%20%20%20%20%20%20%20%20%5B-0.8754417396680656%2C%2041.653113831884326%5D%2C%0A%20%20%20%20%20%20%20%20%20%20%20%20%20%20%20%20%7B%7D%0A%20%20%20%20%20%20%20%20%20%20%20%20%29.addTo%28map_87582643ab2540feb5a06184a194e90d%29%3B%0A%20%20%20%20%20%20%20%20%0A%20%20%20%20%0A%20%20%20%20%20%20%20%20var%20popup_f7338738aa1b421eb571bc9a3e083d63%20%3D%20L.popup%28%7B%22maxWidth%22%3A%20%22100%25%22%7D%29%3B%0A%0A%20%20%20%20%20%20%20%20%0A%20%20%20%20%20%20%20%20%20%20%20%20var%20html_90780288935e4a56a69e1c19917cd2c4%20%3D%20%24%28%60%3Cdiv%20id%3D%22html_90780288935e4a56a69e1c19917cd2c4%22%20style%3D%22width%3A%20100.0%25%3B%20height%3A%20100.0%25%3B%22%3ECOLIS.%20MARCHA%20ATR%C3%81S%3C/div%3E%60%29%5B0%5D%3B%0A%20%20%20%20%20%20%20%20%20%20%20%20popup_f7338738aa1b421eb571bc9a3e083d63.setContent%28html_90780288935e4a56a69e1c19917cd2c4%29%3B%0A%20%20%20%20%20%20%20%20%0A%0A%20%20%20%20%20%20%20%20marker_ed99dd61f44f4ae9b6ce32050b31ad32.bindPopup%28popup_f7338738aa1b421eb571bc9a3e083d63%29%0A%20%20%20%20%20%20%20%20%3B%0A%0A%20%20%20%20%20%20%20%20%0A%20%20%20%20%0A%20%20%20%20%0A%20%20%20%20%20%20%20%20%20%20%20%20var%20marker_cc0b867e69e24c56b90cf350b0e29838%20%3D%20L.marker%28%0A%20%20%20%20%20%20%20%20%20%20%20%20%20%20%20%20%5B-0.8981774282134238%2C%2041.637370118574715%5D%2C%0A%20%20%20%20%20%20%20%20%20%20%20%20%20%20%20%20%7B%7D%0A%20%20%20%20%20%20%20%20%20%20%20%20%29.addTo%28map_87582643ab2540feb5a06184a194e90d%29%3B%0A%20%20%20%20%20%20%20%20%0A%20%20%20%20%0A%20%20%20%20%20%20%20%20var%20popup_f68b80fa51324b738f1607f0d6baceca%20%3D%20L.popup%28%7B%22maxWidth%22%3A%20%22100%25%22%7D%29%3B%0A%0A%20%20%20%20%20%20%20%20%0A%20%20%20%20%20%20%20%20%20%20%20%20var%20html_8891ec9b9a5842b0b474efd3896ffdd8%20%3D%20%24%28%60%3Cdiv%20id%3D%22html_8891ec9b9a5842b0b474efd3896ffdd8%22%20style%3D%22width%3A%20100.0%25%3B%20height%3A%20100.0%25%3B%22%3ECAIDA%20SOBRE%20CALZADA%3C/div%3E%60%29%5B0%5D%3B%0A%20%20%20%20%20%20%20%20%20%20%20%20popup_f68b80fa51324b738f1607f0d6baceca.setContent%28html_8891ec9b9a5842b0b474efd3896ffdd8%29%3B%0A%20%20%20%20%20%20%20%20%0A%0A%20%20%20%20%20%20%20%20marker_cc0b867e69e24c56b90cf350b0e29838.bindPopup%28popup_f68b80fa51324b738f1607f0d6baceca%29%0A%20%20%20%20%20%20%20%20%3B%0A%0A%20%20%20%20%20%20%20%20%0A%20%20%20%20%0A%20%20%20%20%0A%20%20%20%20%20%20%20%20%20%20%20%20var%20marker_adda839921f345f0ab592694629c5e93%20%3D%20L.marker%28%0A%20%20%20%20%20%20%20%20%20%20%20%20%20%20%20%20%5B-0.9134005222660053%2C%2041.62307965046806%5D%2C%0A%20%20%20%20%20%20%20%20%20%20%20%20%20%20%20%20%7B%7D%0A%20%20%20%20%20%20%20%20%20%20%20%20%29.addTo%28map_87582643ab2540feb5a06184a194e90d%29%3B%0A%20%20%20%20%20%20%20%20%0A%20%20%20%20%0A%20%20%20%20%20%20%20%20var%20popup_0a161c82b09d4a88b8d0e6cfc82635bf%20%3D%20L.popup%28%7B%22maxWidth%22%3A%20%22100%25%22%7D%29%3B%0A%0A%20%20%20%20%20%20%20%20%0A%20%20%20%20%20%20%20%20%20%20%20%20var%20html_e06ee654716e43a69d51625d126843db%20%3D%20%24%28%60%3Cdiv%20id%3D%22html_e06ee654716e43a69d51625d126843db%22%20style%3D%22width%3A%20100.0%25%3B%20height%3A%20100.0%25%3B%22%3ECAIDA%20SOBRE%20CALZADA%3C/div%3E%60%29%5B0%5D%3B%0A%20%20%20%20%20%20%20%20%20%20%20%20popup_0a161c82b09d4a88b8d0e6cfc82635bf.setContent%28html_e06ee654716e43a69d51625d126843db%29%3B%0A%20%20%20%20%20%20%20%20%0A%0A%20%20%20%20%20%20%20%20marker_adda839921f345f0ab592694629c5e93.bindPopup%28popup_0a161c82b09d4a88b8d0e6cfc82635bf%29%0A%20%20%20%20%20%20%20%20%3B%0A%0A%20%20%20%20%20%20%20%20%0A%20%20%20%20%0A%20%20%20%20%0A%20%20%20%20%20%20%20%20%20%20%20%20var%20marker_ef3ada2cbd47498dbc3a2f8b78b9c288%20%3D%20L.marker%28%0A%20%20%20%20%20%20%20%20%20%20%20%20%20%20%20%20%5B-0.9675955686913701%2C%2041.703559179288035%5D%2C%0A%20%20%20%20%20%20%20%20%20%20%20%20%20%20%20%20%7B%7D%0A%20%20%20%20%20%20%20%20%20%20%20%20%29.addTo%28map_87582643ab2540feb5a06184a194e90d%29%3B%0A%20%20%20%20%20%20%20%20%0A%20%20%20%20%0A%20%20%20%20%20%20%20%20var%20popup_d26ea40db907407284e91f671bd1252f%20%3D%20L.popup%28%7B%22maxWidth%22%3A%20%22100%25%22%7D%29%3B%0A%0A%20%20%20%20%20%20%20%20%0A%20%20%20%20%20%20%20%20%20%20%20%20var%20html_6a1b48ebad754b8384f5e5d424acbace%20%3D%20%24%28%60%3Cdiv%20id%3D%22html_6a1b48ebad754b8384f5e5d424acbace%22%20style%3D%22width%3A%20100.0%25%3B%20height%3A%20100.0%25%3B%22%3ESALIDA%20CALZADA%3C/div%3E%60%29%5B0%5D%3B%0A%20%20%20%20%20%20%20%20%20%20%20%20popup_d26ea40db907407284e91f671bd1252f.setContent%28html_6a1b48ebad754b8384f5e5d424acbace%29%3B%0A%20%20%20%20%20%20%20%20%0A%0A%20%20%20%20%20%20%20%20marker_ef3ada2cbd47498dbc3a2f8b78b9c288.bindPopup%28popup_d26ea40db907407284e91f671bd1252f%29%0A%20%20%20%20%20%20%20%20%3B%0A%0A%20%20%20%20%20%20%20%20%0A%20%20%20%20%0A%20%20%20%20%0A%20%20%20%20%20%20%20%20%20%20%20%20var%20marker_9e8fd5f8f17d44d191a5a42e6360232b%20%3D%20L.marker%28%0A%20%20%20%20%20%20%20%20%20%20%20%20%20%20%20%20%5B-0.8994494084124403%2C%2041.63800946128376%5D%2C%0A%20%20%20%20%20%20%20%20%20%20%20%20%20%20%20%20%7B%7D%0A%20%20%20%20%20%20%20%20%20%20%20%20%29.addTo%28map_87582643ab2540feb5a06184a194e90d%29%3B%0A%20%20%20%20%20%20%20%20%0A%20%20%20%20%0A%20%20%20%20%20%20%20%20var%20popup_bf5b3385583946f48d87610d9804fcb8%20%3D%20L.popup%28%7B%22maxWidth%22%3A%20%22100%25%22%7D%29%3B%0A%0A%20%20%20%20%20%20%20%20%0A%20%20%20%20%20%20%20%20%20%20%20%20var%20html_4e930b93bac14daba5bde2cd66071b09%20%3D%20%24%28%60%3Cdiv%20id%3D%22html_4e930b93bac14daba5bde2cd66071b09%22%20style%3D%22width%3A%20100.0%25%3B%20height%3A%20100.0%25%3B%22%3ECOLISI%C3%93N%20LATERAL%3C/div%3E%60%29%5B0%5D%3B%0A%20%20%20%20%20%20%20%20%20%20%20%20popup_bf5b3385583946f48d87610d9804fcb8.setContent%28html_4e930b93bac14daba5bde2cd66071b09%29%3B%0A%20%20%20%20%20%20%20%20%0A%0A%20%20%20%20%20%20%20%20marker_9e8fd5f8f17d44d191a5a42e6360232b.bindPopup%28popup_bf5b3385583946f48d87610d9804fcb8%29%0A%20%20%20%20%20%20%20%20%3B%0A%0A%20%20%20%20%20%20%20%20%0A%20%20%20%20%0A%20%20%20%20%0A%20%20%20%20%20%20%20%20%20%20%20%20var%20marker_1279fd36b3314972a1940096718decbe%20%3D%20L.marker%28%0A%20%20%20%20%20%20%20%20%20%20%20%20%20%20%20%20%5B-0.9047634312813823%2C%2041.65509967011824%5D%2C%0A%20%20%20%20%20%20%20%20%20%20%20%20%20%20%20%20%7B%7D%0A%20%20%20%20%20%20%20%20%20%20%20%20%29.addTo%28map_87582643ab2540feb5a06184a194e90d%29%3B%0A%20%20%20%20%20%20%20%20%0A%20%20%20%20%0A%20%20%20%20%20%20%20%20var%20popup_6f088b8c2cda40fabad8d93fbe26e098%20%3D%20L.popup%28%7B%22maxWidth%22%3A%20%22100%25%22%7D%29%3B%0A%0A%20%20%20%20%20%20%20%20%0A%20%20%20%20%20%20%20%20%20%20%20%20var%20html_8a43986d102a4222b5e5b0f47e93daf0%20%3D%20%24%28%60%3Cdiv%20id%3D%22html_8a43986d102a4222b5e5b0f47e93daf0%22%20style%3D%22width%3A%20100.0%25%3B%20height%3A%20100.0%25%3B%22%3ECOLISI%C3%93N%20ALCANCE%3C/div%3E%60%29%5B0%5D%3B%0A%20%20%20%20%20%20%20%20%20%20%20%20popup_6f088b8c2cda40fabad8d93fbe26e098.setContent%28html_8a43986d102a4222b5e5b0f47e93daf0%29%3B%0A%20%20%20%20%20%20%20%20%0A%0A%20%20%20%20%20%20%20%20marker_1279fd36b3314972a1940096718decbe.bindPopup%28popup_6f088b8c2cda40fabad8d93fbe26e098%29%0A%20%20%20%20%20%20%20%20%3B%0A%0A%20%20%20%20%20%20%20%20%0A%20%20%20%20%0A%20%20%20%20%0A%20%20%20%20%20%20%20%20%20%20%20%20var%20marker_1c60fadf2a3d498d903cfe8f84368a28%20%3D%20L.marker%28%0A%20%20%20%20%20%20%20%20%20%20%20%20%20%20%20%20%5B-0.8796660379583326%2C%2041.640231801283996%5D%2C%0A%20%20%20%20%20%20%20%20%20%20%20%20%20%20%20%20%7B%7D%0A%20%20%20%20%20%20%20%20%20%20%20%20%29.addTo%28map_87582643ab2540feb5a06184a194e90d%29%3B%0A%20%20%20%20%20%20%20%20%0A%20%20%20%20%0A%20%20%20%20%20%20%20%20var%20popup_1a7668c6d6a1483c963fad41037af6a2%20%3D%20L.popup%28%7B%22maxWidth%22%3A%20%22100%25%22%7D%29%3B%0A%0A%20%20%20%20%20%20%20%20%0A%20%20%20%20%20%20%20%20%20%20%20%20var%20html_c8c645acfc4442059dbff3a9ed73b6db%20%3D%20%24%28%60%3Cdiv%20id%3D%22html_c8c645acfc4442059dbff3a9ed73b6db%22%20style%3D%22width%3A%20100.0%25%3B%20height%3A%20100.0%25%3B%22%3ECAIDA%20SOBRE%20CALZADA%3C/div%3E%60%29%5B0%5D%3B%0A%20%20%20%20%20%20%20%20%20%20%20%20popup_1a7668c6d6a1483c963fad41037af6a2.setContent%28html_c8c645acfc4442059dbff3a9ed73b6db%29%3B%0A%20%20%20%20%20%20%20%20%0A%0A%20%20%20%20%20%20%20%20marker_1c60fadf2a3d498d903cfe8f84368a28.bindPopup%28popup_1a7668c6d6a1483c963fad41037af6a2%29%0A%20%20%20%20%20%20%20%20%3B%0A%0A%20%20%20%20%20%20%20%20%0A%20%20%20%20%0A%20%20%20%20%0A%20%20%20%20%20%20%20%20%20%20%20%20var%20marker_7a222f1f21e4472cba7b0a1ee3cc64d4%20%3D%20L.marker%28%0A%20%20%20%20%20%20%20%20%20%20%20%20%20%20%20%20%5B-0.8569442253224475%2C%2041.66399317788149%5D%2C%0A%20%20%20%20%20%20%20%20%20%20%20%20%20%20%20%20%7B%7D%0A%20%20%20%20%20%20%20%20%20%20%20%20%29.addTo%28map_87582643ab2540feb5a06184a194e90d%29%3B%0A%20%20%20%20%20%20%20%20%0A%20%20%20%20%0A%20%20%20%20%20%20%20%20var%20popup_2ae51f741367422fa4c9fd335d7514f5%20%3D%20L.popup%28%7B%22maxWidth%22%3A%20%22100%25%22%7D%29%3B%0A%0A%20%20%20%20%20%20%20%20%0A%20%20%20%20%20%20%20%20%20%20%20%20var%20html_6dfcf08960a94507ab7d0b1aafa1295e%20%3D%20%24%28%60%3Cdiv%20id%3D%22html_6dfcf08960a94507ab7d0b1aafa1295e%22%20style%3D%22width%3A%20100.0%25%3B%20height%3A%20100.0%25%3B%22%3ECOLIS.%20MARCHA%20ATR%C3%81S%3C/div%3E%60%29%5B0%5D%3B%0A%20%20%20%20%20%20%20%20%20%20%20%20popup_2ae51f741367422fa4c9fd335d7514f5.setContent%28html_6dfcf08960a94507ab7d0b1aafa1295e%29%3B%0A%20%20%20%20%20%20%20%20%0A%0A%20%20%20%20%20%20%20%20marker_7a222f1f21e4472cba7b0a1ee3cc64d4.bindPopup%28popup_2ae51f741367422fa4c9fd335d7514f5%29%0A%20%20%20%20%20%20%20%20%3B%0A%0A%20%20%20%20%20%20%20%20%0A%20%20%20%20%0A%20%20%20%20%0A%20%20%20%20%20%20%20%20%20%20%20%20var%20marker_5d5b4989d43e445fbdaea24018eb3b72%20%3D%20L.marker%28%0A%20%20%20%20%20%20%20%20%20%20%20%20%20%20%20%20%5B-0.8866382760165721%2C%2041.640202296609836%5D%2C%0A%20%20%20%20%20%20%20%20%20%20%20%20%20%20%20%20%7B%7D%0A%20%20%20%20%20%20%20%20%20%20%20%20%29.addTo%28map_87582643ab2540feb5a06184a194e90d%29%3B%0A%20%20%20%20%20%20%20%20%0A%20%20%20%20%0A%20%20%20%20%20%20%20%20var%20popup_538c43036ceb4230925500bc29c4aee0%20%3D%20L.popup%28%7B%22maxWidth%22%3A%20%22100%25%22%7D%29%3B%0A%0A%20%20%20%20%20%20%20%20%0A%20%20%20%20%20%20%20%20%20%20%20%20var%20html_1e459dc8e9214786bdf815c76d27654c%20%3D%20%24%28%60%3Cdiv%20id%3D%22html_1e459dc8e9214786bdf815c76d27654c%22%20style%3D%22width%3A%20100.0%25%3B%20height%3A%20100.0%25%3B%22%3ECOLISI%C3%93N%20ALCANCE%3C/div%3E%60%29%5B0%5D%3B%0A%20%20%20%20%20%20%20%20%20%20%20%20popup_538c43036ceb4230925500bc29c4aee0.setContent%28html_1e459dc8e9214786bdf815c76d27654c%29%3B%0A%20%20%20%20%20%20%20%20%0A%0A%20%20%20%20%20%20%20%20marker_5d5b4989d43e445fbdaea24018eb3b72.bindPopup%28popup_538c43036ceb4230925500bc29c4aee0%29%0A%20%20%20%20%20%20%20%20%3B%0A%0A%20%20%20%20%20%20%20%20%0A%20%20%20%20%0A%20%20%20%20%0A%20%20%20%20%20%20%20%20%20%20%20%20var%20marker_be8daf7d3488433b9619ffb517b9c0d7%20%3D%20L.marker%28%0A%20%20%20%20%20%20%20%20%20%20%20%20%20%20%20%20%5B-0.9148179357831321%2C%2041.64045052143847%5D%2C%0A%20%20%20%20%20%20%20%20%20%20%20%20%20%20%20%20%7B%7D%0A%20%20%20%20%20%20%20%20%20%20%20%20%29.addTo%28map_87582643ab2540feb5a06184a194e90d%29%3B%0A%20%20%20%20%20%20%20%20%0A%20%20%20%20%0A%20%20%20%20%20%20%20%20var%20popup_ff5a58f58df543edab976c2390933615%20%3D%20L.popup%28%7B%22maxWidth%22%3A%20%22100%25%22%7D%29%3B%0A%0A%20%20%20%20%20%20%20%20%0A%20%20%20%20%20%20%20%20%20%20%20%20var%20html_76f87f343d364ed684d0eaefdf208ed5%20%3D%20%24%28%60%3Cdiv%20id%3D%22html_76f87f343d364ed684d0eaefdf208ed5%22%20style%3D%22width%3A%20100.0%25%3B%20height%3A%20100.0%25%3B%22%3ECOLISI%C3%93N%20LATERAL%3C/div%3E%60%29%5B0%5D%3B%0A%20%20%20%20%20%20%20%20%20%20%20%20popup_ff5a58f58df543edab976c2390933615.setContent%28html_76f87f343d364ed684d0eaefdf208ed5%29%3B%0A%20%20%20%20%20%20%20%20%0A%0A%20%20%20%20%20%20%20%20marker_be8daf7d3488433b9619ffb517b9c0d7.bindPopup%28popup_ff5a58f58df543edab976c2390933615%29%0A%20%20%20%20%20%20%20%20%3B%0A%0A%20%20%20%20%20%20%20%20%0A%20%20%20%20%0A%20%20%20%20%0A%20%20%20%20%20%20%20%20%20%20%20%20var%20marker_ffb25523efdf4363867bfb628f65fd1e%20%3D%20L.marker%28%0A%20%20%20%20%20%20%20%20%20%20%20%20%20%20%20%20%5B-0.91679280832361%2C%2041.650342929846744%5D%2C%0A%20%20%20%20%20%20%20%20%20%20%20%20%20%20%20%20%7B%7D%0A%20%20%20%20%20%20%20%20%20%20%20%20%29.addTo%28map_87582643ab2540feb5a06184a194e90d%29%3B%0A%20%20%20%20%20%20%20%20%0A%20%20%20%20%0A%20%20%20%20%20%20%20%20var%20popup_7f8b69b9977847bd8c5c9eca70a0620c%20%3D%20L.popup%28%7B%22maxWidth%22%3A%20%22100%25%22%7D%29%3B%0A%0A%20%20%20%20%20%20%20%20%0A%20%20%20%20%20%20%20%20%20%20%20%20var%20html_bb55ac7ebaf34e84bf9ab6c0cfb8e141%20%3D%20%24%28%60%3Cdiv%20id%3D%22html_bb55ac7ebaf34e84bf9ab6c0cfb8e141%22%20style%3D%22width%3A%20100.0%25%3B%20height%3A%20100.0%25%3B%22%3ECOLIS.%20MARCHA%20ATR%C3%81S%3C/div%3E%60%29%5B0%5D%3B%0A%20%20%20%20%20%20%20%20%20%20%20%20popup_7f8b69b9977847bd8c5c9eca70a0620c.setContent%28html_bb55ac7ebaf34e84bf9ab6c0cfb8e141%29%3B%0A%20%20%20%20%20%20%20%20%0A%0A%20%20%20%20%20%20%20%20marker_ffb25523efdf4363867bfb628f65fd1e.bindPopup%28popup_7f8b69b9977847bd8c5c9eca70a0620c%29%0A%20%20%20%20%20%20%20%20%3B%0A%0A%20%20%20%20%20%20%20%20%0A%20%20%20%20%0A%20%20%20%20%0A%20%20%20%20%20%20%20%20%20%20%20%20var%20marker_0b42cca8e09b47ee8f183bf4ca8b09d9%20%3D%20L.marker%28%0A%20%20%20%20%20%20%20%20%20%20%20%20%20%20%20%20%5B-0.9831600853628304%2C%2041.6515948922118%5D%2C%0A%20%20%20%20%20%20%20%20%20%20%20%20%20%20%20%20%7B%7D%0A%20%20%20%20%20%20%20%20%20%20%20%20%29.addTo%28map_87582643ab2540feb5a06184a194e90d%29%3B%0A%20%20%20%20%20%20%20%20%0A%20%20%20%20%0A%20%20%20%20%20%20%20%20var%20popup_18a6ab3896804a749b28fffc2447dc31%20%3D%20L.popup%28%7B%22maxWidth%22%3A%20%22100%25%22%7D%29%3B%0A%0A%20%20%20%20%20%20%20%20%0A%20%20%20%20%20%20%20%20%20%20%20%20var%20html_68baf2947d8348c3a4743d406bad462b%20%3D%20%24%28%60%3Cdiv%20id%3D%22html_68baf2947d8348c3a4743d406bad462b%22%20style%3D%22width%3A%20100.0%25%3B%20height%3A%20100.0%25%3B%22%3ECOLISI%C3%93N%20ALCANCE%3C/div%3E%60%29%5B0%5D%3B%0A%20%20%20%20%20%20%20%20%20%20%20%20popup_18a6ab3896804a749b28fffc2447dc31.setContent%28html_68baf2947d8348c3a4743d406bad462b%29%3B%0A%20%20%20%20%20%20%20%20%0A%0A%20%20%20%20%20%20%20%20marker_0b42cca8e09b47ee8f183bf4ca8b09d9.bindPopup%28popup_18a6ab3896804a749b28fffc2447dc31%29%0A%20%20%20%20%20%20%20%20%3B%0A%0A%20%20%20%20%20%20%20%20%0A%20%20%20%20%0A%20%20%20%20%0A%20%20%20%20%20%20%20%20%20%20%20%20var%20marker_8b3eb0c6470543afb2a10ddcd51e9c4a%20%3D%20L.marker%28%0A%20%20%20%20%20%20%20%20%20%20%20%20%20%20%20%20%5B-0.8805502979311851%2C%2041.639588711692504%5D%2C%0A%20%20%20%20%20%20%20%20%20%20%20%20%20%20%20%20%7B%7D%0A%20%20%20%20%20%20%20%20%20%20%20%20%29.addTo%28map_87582643ab2540feb5a06184a194e90d%29%3B%0A%20%20%20%20%20%20%20%20%0A%20%20%20%20%0A%20%20%20%20%20%20%20%20var%20popup_b69268b5a99a4b259305da4b34163259%20%3D%20L.popup%28%7B%22maxWidth%22%3A%20%22100%25%22%7D%29%3B%0A%0A%20%20%20%20%20%20%20%20%0A%20%20%20%20%20%20%20%20%20%20%20%20var%20html_0c7ec28015ff49de9436d30eb15ffd9e%20%3D%20%24%28%60%3Cdiv%20id%3D%22html_0c7ec28015ff49de9436d30eb15ffd9e%22%20style%3D%22width%3A%20100.0%25%3B%20height%3A%20100.0%25%3B%22%3ECOLIS.%20MARCHA%20ATR%C3%81S%3C/div%3E%60%29%5B0%5D%3B%0A%20%20%20%20%20%20%20%20%20%20%20%20popup_b69268b5a99a4b259305da4b34163259.setContent%28html_0c7ec28015ff49de9436d30eb15ffd9e%29%3B%0A%20%20%20%20%20%20%20%20%0A%0A%20%20%20%20%20%20%20%20marker_8b3eb0c6470543afb2a10ddcd51e9c4a.bindPopup%28popup_b69268b5a99a4b259305da4b34163259%29%0A%20%20%20%20%20%20%20%20%3B%0A%0A%20%20%20%20%20%20%20%20%0A%20%20%20%20%0A%20%20%20%20%0A%20%20%20%20%20%20%20%20%20%20%20%20var%20marker_33fce8e343a243c18512ec555314033c%20%3D%20L.marker%28%0A%20%20%20%20%20%20%20%20%20%20%20%20%20%20%20%20%5B-0.8834784288071386%2C%2041.64547114097832%5D%2C%0A%20%20%20%20%20%20%20%20%20%20%20%20%20%20%20%20%7B%7D%0A%20%20%20%20%20%20%20%20%20%20%20%20%29.addTo%28map_87582643ab2540feb5a06184a194e90d%29%3B%0A%20%20%20%20%20%20%20%20%0A%20%20%20%20%0A%20%20%20%20%20%20%20%20var%20popup_7107de768efa43dba191ccf6face820d%20%3D%20L.popup%28%7B%22maxWidth%22%3A%20%22100%25%22%7D%29%3B%0A%0A%20%20%20%20%20%20%20%20%0A%20%20%20%20%20%20%20%20%20%20%20%20var%20html_cefea9106be74c34a4807ba8c22c04d2%20%3D%20%24%28%60%3Cdiv%20id%3D%22html_cefea9106be74c34a4807ba8c22c04d2%22%20style%3D%22width%3A%20100.0%25%3B%20height%3A%20100.0%25%3B%22%3ECOLIS.%20MARCHA%20ATR%C3%81S%3C/div%3E%60%29%5B0%5D%3B%0A%20%20%20%20%20%20%20%20%20%20%20%20popup_7107de768efa43dba191ccf6face820d.setContent%28html_cefea9106be74c34a4807ba8c22c04d2%29%3B%0A%20%20%20%20%20%20%20%20%0A%0A%20%20%20%20%20%20%20%20marker_33fce8e343a243c18512ec555314033c.bindPopup%28popup_7107de768efa43dba191ccf6face820d%29%0A%20%20%20%20%20%20%20%20%3B%0A%0A%20%20%20%20%20%20%20%20%0A%20%20%20%20%0A%20%20%20%20%0A%20%20%20%20%20%20%20%20%20%20%20%20var%20marker_61c2aa2249dc4e27b137ec824cfcc3f3%20%3D%20L.marker%28%0A%20%20%20%20%20%20%20%20%20%20%20%20%20%20%20%20%5B-0.8907819329164345%2C%2041.60941879505107%5D%2C%0A%20%20%20%20%20%20%20%20%20%20%20%20%20%20%20%20%7B%7D%0A%20%20%20%20%20%20%20%20%20%20%20%20%29.addTo%28map_87582643ab2540feb5a06184a194e90d%29%3B%0A%20%20%20%20%20%20%20%20%0A%20%20%20%20%0A%20%20%20%20%20%20%20%20var%20popup_1a7a16ef343d411fbcc11767c49e0107%20%3D%20L.popup%28%7B%22maxWidth%22%3A%20%22100%25%22%7D%29%3B%0A%0A%20%20%20%20%20%20%20%20%0A%20%20%20%20%20%20%20%20%20%20%20%20var%20html_7b3470d77fe64499af5435794dd5a0b1%20%3D%20%24%28%60%3Cdiv%20id%3D%22html_7b3470d77fe64499af5435794dd5a0b1%22%20style%3D%22width%3A%20100.0%25%3B%20height%3A%20100.0%25%3B%22%3ECOLIS.%20MARCHA%20ATR%C3%81S%3C/div%3E%60%29%5B0%5D%3B%0A%20%20%20%20%20%20%20%20%20%20%20%20popup_1a7a16ef343d411fbcc11767c49e0107.setContent%28html_7b3470d77fe64499af5435794dd5a0b1%29%3B%0A%20%20%20%20%20%20%20%20%0A%0A%20%20%20%20%20%20%20%20marker_61c2aa2249dc4e27b137ec824cfcc3f3.bindPopup%28popup_1a7a16ef343d411fbcc11767c49e0107%29%0A%20%20%20%20%20%20%20%20%3B%0A%0A%20%20%20%20%20%20%20%20%0A%20%20%20%20%0A%20%20%20%20%0A%20%20%20%20%20%20%20%20%20%20%20%20var%20marker_269032c65c0f431896fcbbf2522f90b5%20%3D%20L.marker%28%0A%20%20%20%20%20%20%20%20%20%20%20%20%20%20%20%20%5B-0.9129045578911849%2C%2041.63594510671276%5D%2C%0A%20%20%20%20%20%20%20%20%20%20%20%20%20%20%20%20%7B%7D%0A%20%20%20%20%20%20%20%20%20%20%20%20%29.addTo%28map_87582643ab2540feb5a06184a194e90d%29%3B%0A%20%20%20%20%20%20%20%20%0A%20%20%20%20%0A%20%20%20%20%20%20%20%20var%20popup_73e74400af474a25805e80610f107c7c%20%3D%20L.popup%28%7B%22maxWidth%22%3A%20%22100%25%22%7D%29%3B%0A%0A%20%20%20%20%20%20%20%20%0A%20%20%20%20%20%20%20%20%20%20%20%20var%20html_b48bff190f4547dc8a78d9aacd45bd97%20%3D%20%24%28%60%3Cdiv%20id%3D%22html_b48bff190f4547dc8a78d9aacd45bd97%22%20style%3D%22width%3A%20100.0%25%3B%20height%3A%20100.0%25%3B%22%3ECOLIS.%20MARCHA%20ATR%C3%81S%3C/div%3E%60%29%5B0%5D%3B%0A%20%20%20%20%20%20%20%20%20%20%20%20popup_73e74400af474a25805e80610f107c7c.setContent%28html_b48bff190f4547dc8a78d9aacd45bd97%29%3B%0A%20%20%20%20%20%20%20%20%0A%0A%20%20%20%20%20%20%20%20marker_269032c65c0f431896fcbbf2522f90b5.bindPopup%28popup_73e74400af474a25805e80610f107c7c%29%0A%20%20%20%20%20%20%20%20%3B%0A%0A%20%20%20%20%20%20%20%20%0A%20%20%20%20%0A%20%20%20%20%0A%20%20%20%20%20%20%20%20%20%20%20%20var%20marker_3c98fe668dcc46a4ac902198594ec86a%20%3D%20L.marker%28%0A%20%20%20%20%20%20%20%20%20%20%20%20%20%20%20%20%5B-0.929341406599246%2C%2041.65806605032787%5D%2C%0A%20%20%20%20%20%20%20%20%20%20%20%20%20%20%20%20%7B%7D%0A%20%20%20%20%20%20%20%20%20%20%20%20%29.addTo%28map_87582643ab2540feb5a06184a194e90d%29%3B%0A%20%20%20%20%20%20%20%20%0A%20%20%20%20%0A%20%20%20%20%20%20%20%20var%20popup_4eb8044f8bd14d4aa4ae43535ab24019%20%3D%20L.popup%28%7B%22maxWidth%22%3A%20%22100%25%22%7D%29%3B%0A%0A%20%20%20%20%20%20%20%20%0A%20%20%20%20%20%20%20%20%20%20%20%20var%20html_a62285d02e924d14b0bf11a6137fb7b2%20%3D%20%24%28%60%3Cdiv%20id%3D%22html_a62285d02e924d14b0bf11a6137fb7b2%22%20style%3D%22width%3A%20100.0%25%3B%20height%3A%20100.0%25%3B%22%3ESALIDA%20CALZADA%3C/div%3E%60%29%5B0%5D%3B%0A%20%20%20%20%20%20%20%20%20%20%20%20popup_4eb8044f8bd14d4aa4ae43535ab24019.setContent%28html_a62285d02e924d14b0bf11a6137fb7b2%29%3B%0A%20%20%20%20%20%20%20%20%0A%0A%20%20%20%20%20%20%20%20marker_3c98fe668dcc46a4ac902198594ec86a.bindPopup%28popup_4eb8044f8bd14d4aa4ae43535ab24019%29%0A%20%20%20%20%20%20%20%20%3B%0A%0A%20%20%20%20%20%20%20%20%0A%20%20%20%20%0A%20%20%20%20%0A%20%20%20%20%20%20%20%20%20%20%20%20var%20marker_d68e9dd9daf345f5a7f37ff77b569577%20%3D%20L.marker%28%0A%20%20%20%20%20%20%20%20%20%20%20%20%20%20%20%20%5B-0.9015144446496385%2C%2041.65124740456308%5D%2C%0A%20%20%20%20%20%20%20%20%20%20%20%20%20%20%20%20%7B%7D%0A%20%20%20%20%20%20%20%20%20%20%20%20%29.addTo%28map_87582643ab2540feb5a06184a194e90d%29%3B%0A%20%20%20%20%20%20%20%20%0A%20%20%20%20%0A%20%20%20%20%20%20%20%20var%20popup_98549a1158fe4ed4820928456aa12ebf%20%3D%20L.popup%28%7B%22maxWidth%22%3A%20%22100%25%22%7D%29%3B%0A%0A%20%20%20%20%20%20%20%20%0A%20%20%20%20%20%20%20%20%20%20%20%20var%20html_03e0ff54e88b4c6e854ef331f876d246%20%3D%20%24%28%60%3Cdiv%20id%3D%22html_03e0ff54e88b4c6e854ef331f876d246%22%20style%3D%22width%3A%20100.0%25%3B%20height%3A%20100.0%25%3B%22%3ECOLIS.%20MARCHA%20ATR%C3%81S%3C/div%3E%60%29%5B0%5D%3B%0A%20%20%20%20%20%20%20%20%20%20%20%20popup_98549a1158fe4ed4820928456aa12ebf.setContent%28html_03e0ff54e88b4c6e854ef331f876d246%29%3B%0A%20%20%20%20%20%20%20%20%0A%0A%20%20%20%20%20%20%20%20marker_d68e9dd9daf345f5a7f37ff77b569577.bindPopup%28popup_98549a1158fe4ed4820928456aa12ebf%29%0A%20%20%20%20%20%20%20%20%3B%0A%0A%20%20%20%20%20%20%20%20%0A%20%20%20%20%0A%20%20%20%20%0A%20%20%20%20%20%20%20%20%20%20%20%20var%20marker_ef697f6d64204305bdd9c55f87cb7f38%20%3D%20L.marker%28%0A%20%20%20%20%20%20%20%20%20%20%20%20%20%20%20%20%5B-0.8971281972974198%2C%2041.64919114164%5D%2C%0A%20%20%20%20%20%20%20%20%20%20%20%20%20%20%20%20%7B%7D%0A%20%20%20%20%20%20%20%20%20%20%20%20%29.addTo%28map_87582643ab2540feb5a06184a194e90d%29%3B%0A%20%20%20%20%20%20%20%20%0A%20%20%20%20%0A%20%20%20%20%20%20%20%20var%20popup_fdcdae451d1946109557f9df752b4f1f%20%3D%20L.popup%28%7B%22maxWidth%22%3A%20%22100%25%22%7D%29%3B%0A%0A%20%20%20%20%20%20%20%20%0A%20%20%20%20%20%20%20%20%20%20%20%20var%20html_9cf5e23a57f846e7a1ca7bc4fb5dc13a%20%3D%20%24%28%60%3Cdiv%20id%3D%22html_9cf5e23a57f846e7a1ca7bc4fb5dc13a%22%20style%3D%22width%3A%20100.0%25%3B%20height%3A%20100.0%25%3B%22%3EOTRAS%3C/div%3E%60%29%5B0%5D%3B%0A%20%20%20%20%20%20%20%20%20%20%20%20popup_fdcdae451d1946109557f9df752b4f1f.setContent%28html_9cf5e23a57f846e7a1ca7bc4fb5dc13a%29%3B%0A%20%20%20%20%20%20%20%20%0A%0A%20%20%20%20%20%20%20%20marker_ef697f6d64204305bdd9c55f87cb7f38.bindPopup%28popup_fdcdae451d1946109557f9df752b4f1f%29%0A%20%20%20%20%20%20%20%20%3B%0A%0A%20%20%20%20%20%20%20%20%0A%20%20%20%20%0A%20%20%20%20%0A%20%20%20%20%20%20%20%20%20%20%20%20var%20marker_2a766996ee40468181325a759bb515a1%20%3D%20L.marker%28%0A%20%20%20%20%20%20%20%20%20%20%20%20%20%20%20%20%5B-0.8655422071013779%2C%2041.68415187120862%5D%2C%0A%20%20%20%20%20%20%20%20%20%20%20%20%20%20%20%20%7B%7D%0A%20%20%20%20%20%20%20%20%20%20%20%20%29.addTo%28map_87582643ab2540feb5a06184a194e90d%29%3B%0A%20%20%20%20%20%20%20%20%0A%20%20%20%20%0A%20%20%20%20%20%20%20%20var%20popup_bffe54e7d6b740d3b329b05bf6b8072c%20%3D%20L.popup%28%7B%22maxWidth%22%3A%20%22100%25%22%7D%29%3B%0A%0A%20%20%20%20%20%20%20%20%0A%20%20%20%20%20%20%20%20%20%20%20%20var%20html_93151f68c85b429c82aa0d899e5d9f9b%20%3D%20%24%28%60%3Cdiv%20id%3D%22html_93151f68c85b429c82aa0d899e5d9f9b%22%20style%3D%22width%3A%20100.0%25%3B%20height%3A%20100.0%25%3B%22%3ECAIDA%20SOBRE%20CALZADA%3C/div%3E%60%29%5B0%5D%3B%0A%20%20%20%20%20%20%20%20%20%20%20%20popup_bffe54e7d6b740d3b329b05bf6b8072c.setContent%28html_93151f68c85b429c82aa0d899e5d9f9b%29%3B%0A%20%20%20%20%20%20%20%20%0A%0A%20%20%20%20%20%20%20%20marker_2a766996ee40468181325a759bb515a1.bindPopup%28popup_bffe54e7d6b740d3b329b05bf6b8072c%29%0A%20%20%20%20%20%20%20%20%3B%0A%0A%20%20%20%20%20%20%20%20%0A%20%20%20%20%0A%20%20%20%20%0A%20%20%20%20%20%20%20%20%20%20%20%20var%20marker_1c6d110b00ca4f73925d85e563e0f744%20%3D%20L.marker%28%0A%20%20%20%20%20%20%20%20%20%20%20%20%20%20%20%20%5B-0.9345679624034625%2C%2041.64775005399505%5D%2C%0A%20%20%20%20%20%20%20%20%20%20%20%20%20%20%20%20%7B%7D%0A%20%20%20%20%20%20%20%20%20%20%20%20%29.addTo%28map_87582643ab2540feb5a06184a194e90d%29%3B%0A%20%20%20%20%20%20%20%20%0A%20%20%20%20%0A%20%20%20%20%20%20%20%20var%20popup_05327e7e24c747bc8e486934ddd69493%20%3D%20L.popup%28%7B%22maxWidth%22%3A%20%22100%25%22%7D%29%3B%0A%0A%20%20%20%20%20%20%20%20%0A%20%20%20%20%20%20%20%20%20%20%20%20var%20html_802009905ca24ac0990fac3c28f7ac98%20%3D%20%24%28%60%3Cdiv%20id%3D%22html_802009905ca24ac0990fac3c28f7ac98%22%20style%3D%22width%3A%20100.0%25%3B%20height%3A%20100.0%25%3B%22%3ECAIDA%20SOBRE%20CALZADA%3C/div%3E%60%29%5B0%5D%3B%0A%20%20%20%20%20%20%20%20%20%20%20%20popup_05327e7e24c747bc8e486934ddd69493.setContent%28html_802009905ca24ac0990fac3c28f7ac98%29%3B%0A%20%20%20%20%20%20%20%20%0A%0A%20%20%20%20%20%20%20%20marker_1c6d110b00ca4f73925d85e563e0f744.bindPopup%28popup_05327e7e24c747bc8e486934ddd69493%29%0A%20%20%20%20%20%20%20%20%3B%0A%0A%20%20%20%20%20%20%20%20%0A%20%20%20%20%0A%20%20%20%20%0A%20%20%20%20%20%20%20%20%20%20%20%20var%20marker_ba0821d991844afaab0d49f5ff1f0ccb%20%3D%20L.marker%28%0A%20%20%20%20%20%20%20%20%20%20%20%20%20%20%20%20%5B-0.9162444486972013%2C%2041.647640923398896%5D%2C%0A%20%20%20%20%20%20%20%20%20%20%20%20%20%20%20%20%7B%7D%0A%20%20%20%20%20%20%20%20%20%20%20%20%29.addTo%28map_87582643ab2540feb5a06184a194e90d%29%3B%0A%20%20%20%20%20%20%20%20%0A%20%20%20%20%0A%20%20%20%20%20%20%20%20var%20popup_c67815574a8742849f88a8c4d1073368%20%3D%20L.popup%28%7B%22maxWidth%22%3A%20%22100%25%22%7D%29%3B%0A%0A%20%20%20%20%20%20%20%20%0A%20%20%20%20%20%20%20%20%20%20%20%20var%20html_f4ce3b96bb124804884d1cec51069971%20%3D%20%24%28%60%3Cdiv%20id%3D%22html_f4ce3b96bb124804884d1cec51069971%22%20style%3D%22width%3A%20100.0%25%3B%20height%3A%20100.0%25%3B%22%3ECOLISI%C3%93N%20ALCANCE%3C/div%3E%60%29%5B0%5D%3B%0A%20%20%20%20%20%20%20%20%20%20%20%20popup_c67815574a8742849f88a8c4d1073368.setContent%28html_f4ce3b96bb124804884d1cec51069971%29%3B%0A%20%20%20%20%20%20%20%20%0A%0A%20%20%20%20%20%20%20%20marker_ba0821d991844afaab0d49f5ff1f0ccb.bindPopup%28popup_c67815574a8742849f88a8c4d1073368%29%0A%20%20%20%20%20%20%20%20%3B%0A%0A%20%20%20%20%20%20%20%20%0A%20%20%20%20%0A%20%20%20%20%0A%20%20%20%20%20%20%20%20%20%20%20%20var%20marker_313e1cbf256443428aa2e54c1d6aaf08%20%3D%20L.marker%28%0A%20%20%20%20%20%20%20%20%20%20%20%20%20%20%20%20%5B-0.9075234410781284%2C%2041.64628513907135%5D%2C%0A%20%20%20%20%20%20%20%20%20%20%20%20%20%20%20%20%7B%7D%0A%20%20%20%20%20%20%20%20%20%20%20%20%29.addTo%28map_87582643ab2540feb5a06184a194e90d%29%3B%0A%20%20%20%20%20%20%20%20%0A%20%20%20%20%0A%20%20%20%20%20%20%20%20var%20popup_49e637bd40e84f2ab98547786f1059f8%20%3D%20L.popup%28%7B%22maxWidth%22%3A%20%22100%25%22%7D%29%3B%0A%0A%20%20%20%20%20%20%20%20%0A%20%20%20%20%20%20%20%20%20%20%20%20var%20html_c2a2abd1bbb14025927ad7123cc75e69%20%3D%20%24%28%60%3Cdiv%20id%3D%22html_c2a2abd1bbb14025927ad7123cc75e69%22%20style%3D%22width%3A%20100.0%25%3B%20height%3A%20100.0%25%3B%22%3ECOLISI%C3%93N%20LATERAL%3C/div%3E%60%29%5B0%5D%3B%0A%20%20%20%20%20%20%20%20%20%20%20%20popup_49e637bd40e84f2ab98547786f1059f8.setContent%28html_c2a2abd1bbb14025927ad7123cc75e69%29%3B%0A%20%20%20%20%20%20%20%20%0A%0A%20%20%20%20%20%20%20%20marker_313e1cbf256443428aa2e54c1d6aaf08.bindPopup%28popup_49e637bd40e84f2ab98547786f1059f8%29%0A%20%20%20%20%20%20%20%20%3B%0A%0A%20%20%20%20%20%20%20%20%0A%20%20%20%20%0A%20%20%20%20%0A%20%20%20%20%20%20%20%20%20%20%20%20var%20marker_c12f7097501f43f198be940718aef572%20%3D%20L.marker%28%0A%20%20%20%20%20%20%20%20%20%20%20%20%20%20%20%20%5B-0.8740118451885867%2C%2041.646572275866276%5D%2C%0A%20%20%20%20%20%20%20%20%20%20%20%20%20%20%20%20%7B%7D%0A%20%20%20%20%20%20%20%20%20%20%20%20%29.addTo%28map_87582643ab2540feb5a06184a194e90d%29%3B%0A%20%20%20%20%20%20%20%20%0A%20%20%20%20%0A%20%20%20%20%20%20%20%20var%20popup_4e337cf0bcd24dd4a553cd0213564caf%20%3D%20L.popup%28%7B%22maxWidth%22%3A%20%22100%25%22%7D%29%3B%0A%0A%20%20%20%20%20%20%20%20%0A%20%20%20%20%20%20%20%20%20%20%20%20var%20html_a3d2997e28bd42f4bfb18380b8ef3d08%20%3D%20%24%28%60%3Cdiv%20id%3D%22html_a3d2997e28bd42f4bfb18380b8ef3d08%22%20style%3D%22width%3A%20100.0%25%3B%20height%3A%20100.0%25%3B%22%3ECOLISI%C3%93N%20LATERAL%3C/div%3E%60%29%5B0%5D%3B%0A%20%20%20%20%20%20%20%20%20%20%20%20popup_4e337cf0bcd24dd4a553cd0213564caf.setContent%28html_a3d2997e28bd42f4bfb18380b8ef3d08%29%3B%0A%20%20%20%20%20%20%20%20%0A%0A%20%20%20%20%20%20%20%20marker_c12f7097501f43f198be940718aef572.bindPopup%28popup_4e337cf0bcd24dd4a553cd0213564caf%29%0A%20%20%20%20%20%20%20%20%3B%0A%0A%20%20%20%20%20%20%20%20%0A%20%20%20%20%0A%20%20%20%20%0A%20%20%20%20%20%20%20%20%20%20%20%20var%20marker_8bb5ffa8895545ed8898bc057d619c96%20%3D%20L.marker%28%0A%20%20%20%20%20%20%20%20%20%20%20%20%20%20%20%20%5B-0.8879390016835017%2C%2041.64976600318248%5D%2C%0A%20%20%20%20%20%20%20%20%20%20%20%20%20%20%20%20%7B%7D%0A%20%20%20%20%20%20%20%20%20%20%20%20%29.addTo%28map_87582643ab2540feb5a06184a194e90d%29%3B%0A%20%20%20%20%20%20%20%20%0A%20%20%20%20%0A%20%20%20%20%20%20%20%20var%20popup_8ecbfac915394c6ab8c0ee823bb44998%20%3D%20L.popup%28%7B%22maxWidth%22%3A%20%22100%25%22%7D%29%3B%0A%0A%20%20%20%20%20%20%20%20%0A%20%20%20%20%20%20%20%20%20%20%20%20var%20html_2a4428ba9035421a8d946c9b5374792e%20%3D%20%24%28%60%3Cdiv%20id%3D%22html_2a4428ba9035421a8d946c9b5374792e%22%20style%3D%22width%3A%20100.0%25%3B%20height%3A%20100.0%25%3B%22%3ECOLISI%C3%93N%20LATERAL%3C/div%3E%60%29%5B0%5D%3B%0A%20%20%20%20%20%20%20%20%20%20%20%20popup_8ecbfac915394c6ab8c0ee823bb44998.setContent%28html_2a4428ba9035421a8d946c9b5374792e%29%3B%0A%20%20%20%20%20%20%20%20%0A%0A%20%20%20%20%20%20%20%20marker_8bb5ffa8895545ed8898bc057d619c96.bindPopup%28popup_8ecbfac915394c6ab8c0ee823bb44998%29%0A%20%20%20%20%20%20%20%20%3B%0A%0A%20%20%20%20%20%20%20%20%0A%20%20%20%20%0A%20%20%20%20%0A%20%20%20%20%20%20%20%20%20%20%20%20var%20marker_d0c1095cf6474c479d045f6397ecfaaf%20%3D%20L.marker%28%0A%20%20%20%20%20%20%20%20%20%20%20%20%20%20%20%20%5B-0.8748263473540919%2C%2041.653508476745046%5D%2C%0A%20%20%20%20%20%20%20%20%20%20%20%20%20%20%20%20%7B%7D%0A%20%20%20%20%20%20%20%20%20%20%20%20%29.addTo%28map_87582643ab2540feb5a06184a194e90d%29%3B%0A%20%20%20%20%20%20%20%20%0A%20%20%20%20%0A%20%20%20%20%20%20%20%20var%20popup_078412b624264cc8b0f9843e3df4b179%20%3D%20L.popup%28%7B%22maxWidth%22%3A%20%22100%25%22%7D%29%3B%0A%0A%20%20%20%20%20%20%20%20%0A%20%20%20%20%20%20%20%20%20%20%20%20var%20html_f81967b5caf54adab33a0cf4de8cf854%20%3D%20%24%28%60%3Cdiv%20id%3D%22html_f81967b5caf54adab33a0cf4de8cf854%22%20style%3D%22width%3A%20100.0%25%3B%20height%3A%20100.0%25%3B%22%3ECOLISI%C3%93N%20ALCANCE%3C/div%3E%60%29%5B0%5D%3B%0A%20%20%20%20%20%20%20%20%20%20%20%20popup_078412b624264cc8b0f9843e3df4b179.setContent%28html_f81967b5caf54adab33a0cf4de8cf854%29%3B%0A%20%20%20%20%20%20%20%20%0A%0A%20%20%20%20%20%20%20%20marker_d0c1095cf6474c479d045f6397ecfaaf.bindPopup%28popup_078412b624264cc8b0f9843e3df4b179%29%0A%20%20%20%20%20%20%20%20%3B%0A%0A%20%20%20%20%20%20%20%20%0A%20%20%20%20%0A%20%20%20%20%0A%20%20%20%20%20%20%20%20%20%20%20%20var%20marker_b0ac16222e5046f4b348f5b665023cf6%20%3D%20L.marker%28%0A%20%20%20%20%20%20%20%20%20%20%20%20%20%20%20%20%5B-0.893364249304231%2C%2041.647798885967035%5D%2C%0A%20%20%20%20%20%20%20%20%20%20%20%20%20%20%20%20%7B%7D%0A%20%20%20%20%20%20%20%20%20%20%20%20%29.addTo%28map_87582643ab2540feb5a06184a194e90d%29%3B%0A%20%20%20%20%20%20%20%20%0A%20%20%20%20%0A%20%20%20%20%20%20%20%20var%20popup_313fa4cc5c19442888cf8fc0b108959f%20%3D%20L.popup%28%7B%22maxWidth%22%3A%20%22100%25%22%7D%29%3B%0A%0A%20%20%20%20%20%20%20%20%0A%20%20%20%20%20%20%20%20%20%20%20%20var%20html_0784a5bc05de469c9308edb1b3c05a2a%20%3D%20%24%28%60%3Cdiv%20id%3D%22html_0784a5bc05de469c9308edb1b3c05a2a%22%20style%3D%22width%3A%20100.0%25%3B%20height%3A%20100.0%25%3B%22%3ECOLISI%C3%93N%20LATERAL%3C/div%3E%60%29%5B0%5D%3B%0A%20%20%20%20%20%20%20%20%20%20%20%20popup_313fa4cc5c19442888cf8fc0b108959f.setContent%28html_0784a5bc05de469c9308edb1b3c05a2a%29%3B%0A%20%20%20%20%20%20%20%20%0A%0A%20%20%20%20%20%20%20%20marker_b0ac16222e5046f4b348f5b665023cf6.bindPopup%28popup_313fa4cc5c19442888cf8fc0b108959f%29%0A%20%20%20%20%20%20%20%20%3B%0A%0A%20%20%20%20%20%20%20%20%0A%20%20%20%20%0A%20%20%20%20%0A%20%20%20%20%20%20%20%20%20%20%20%20var%20marker_755665b7d3f543ffbff8b3862d4e42b8%20%3D%20L.marker%28%0A%20%20%20%20%20%20%20%20%20%20%20%20%20%20%20%20%5B-0.8793428209752854%2C%2041.64963422246641%5D%2C%0A%20%20%20%20%20%20%20%20%20%20%20%20%20%20%20%20%7B%7D%0A%20%20%20%20%20%20%20%20%20%20%20%20%29.addTo%28map_87582643ab2540feb5a06184a194e90d%29%3B%0A%20%20%20%20%20%20%20%20%0A%20%20%20%20%0A%20%20%20%20%20%20%20%20var%20popup_80eabbfd223a4720aef163c9ad96f6ec%20%3D%20L.popup%28%7B%22maxWidth%22%3A%20%22100%25%22%7D%29%3B%0A%0A%20%20%20%20%20%20%20%20%0A%20%20%20%20%20%20%20%20%20%20%20%20var%20html_3489d04274e7497d84cb2ab6d30f74f4%20%3D%20%24%28%60%3Cdiv%20id%3D%22html_3489d04274e7497d84cb2ab6d30f74f4%22%20style%3D%22width%3A%20100.0%25%3B%20height%3A%20100.0%25%3B%22%3EATROPELLO%3C/div%3E%60%29%5B0%5D%3B%0A%20%20%20%20%20%20%20%20%20%20%20%20popup_80eabbfd223a4720aef163c9ad96f6ec.setContent%28html_3489d04274e7497d84cb2ab6d30f74f4%29%3B%0A%20%20%20%20%20%20%20%20%0A%0A%20%20%20%20%20%20%20%20marker_755665b7d3f543ffbff8b3862d4e42b8.bindPopup%28popup_80eabbfd223a4720aef163c9ad96f6ec%29%0A%20%20%20%20%20%20%20%20%3B%0A%0A%20%20%20%20%20%20%20%20%0A%20%20%20%20%0A%20%20%20%20%0A%20%20%20%20%20%20%20%20%20%20%20%20var%20marker_fa2de00fef80484ab6f84078049f05c8%20%3D%20L.marker%28%0A%20%20%20%20%20%20%20%20%20%20%20%20%20%20%20%20%5B-0.8990662796872798%2C%2041.63977012001253%5D%2C%0A%20%20%20%20%20%20%20%20%20%20%20%20%20%20%20%20%7B%7D%0A%20%20%20%20%20%20%20%20%20%20%20%20%29.addTo%28map_87582643ab2540feb5a06184a194e90d%29%3B%0A%20%20%20%20%20%20%20%20%0A%20%20%20%20%0A%20%20%20%20%20%20%20%20var%20popup_b1fc5f276f584ed78a8f0be1a95f2c6c%20%3D%20L.popup%28%7B%22maxWidth%22%3A%20%22100%25%22%7D%29%3B%0A%0A%20%20%20%20%20%20%20%20%0A%20%20%20%20%20%20%20%20%20%20%20%20var%20html_10507f0ee85a4dcbb26cc3e77b71aab0%20%3D%20%24%28%60%3Cdiv%20id%3D%22html_10507f0ee85a4dcbb26cc3e77b71aab0%22%20style%3D%22width%3A%20100.0%25%3B%20height%3A%20100.0%25%3B%22%3EOTRAS%3C/div%3E%60%29%5B0%5D%3B%0A%20%20%20%20%20%20%20%20%20%20%20%20popup_b1fc5f276f584ed78a8f0be1a95f2c6c.setContent%28html_10507f0ee85a4dcbb26cc3e77b71aab0%29%3B%0A%20%20%20%20%20%20%20%20%0A%0A%20%20%20%20%20%20%20%20marker_fa2de00fef80484ab6f84078049f05c8.bindPopup%28popup_b1fc5f276f584ed78a8f0be1a95f2c6c%29%0A%20%20%20%20%20%20%20%20%3B%0A%0A%20%20%20%20%20%20%20%20%0A%20%20%20%20%0A%20%20%20%20%0A%20%20%20%20%20%20%20%20%20%20%20%20var%20marker_517eab98d4e94487abac1cd1ab704f91%20%3D%20L.marker%28%0A%20%20%20%20%20%20%20%20%20%20%20%20%20%20%20%20%5B-0.9072756956226459%2C%2041.670910841846876%5D%2C%0A%20%20%20%20%20%20%20%20%20%20%20%20%20%20%20%20%7B%7D%0A%20%20%20%20%20%20%20%20%20%20%20%20%29.addTo%28map_87582643ab2540feb5a06184a194e90d%29%3B%0A%20%20%20%20%20%20%20%20%0A%20%20%20%20%0A%20%20%20%20%20%20%20%20var%20popup_d56f8a3c2d04420da13641eb51993cf1%20%3D%20L.popup%28%7B%22maxWidth%22%3A%20%22100%25%22%7D%29%3B%0A%0A%20%20%20%20%20%20%20%20%0A%20%20%20%20%20%20%20%20%20%20%20%20var%20html_f20a644c5fe648eab3d477a20be4ce7f%20%3D%20%24%28%60%3Cdiv%20id%3D%22html_f20a644c5fe648eab3d477a20be4ce7f%22%20style%3D%22width%3A%20100.0%25%3B%20height%3A%20100.0%25%3B%22%3ECOLISI%C3%93N%20ALCANCE%3C/div%3E%60%29%5B0%5D%3B%0A%20%20%20%20%20%20%20%20%20%20%20%20popup_d56f8a3c2d04420da13641eb51993cf1.setContent%28html_f20a644c5fe648eab3d477a20be4ce7f%29%3B%0A%20%20%20%20%20%20%20%20%0A%0A%20%20%20%20%20%20%20%20marker_517eab98d4e94487abac1cd1ab704f91.bindPopup%28popup_d56f8a3c2d04420da13641eb51993cf1%29%0A%20%20%20%20%20%20%20%20%3B%0A%0A%20%20%20%20%20%20%20%20%0A%20%20%20%20%0A%20%20%20%20%0A%20%20%20%20%20%20%20%20%20%20%20%20var%20marker_b283c595aa01493f94cf4de36bb751d7%20%3D%20L.marker%28%0A%20%20%20%20%20%20%20%20%20%20%20%20%20%20%20%20%5B-0.9226018969034585%2C%2041.62757051008441%5D%2C%0A%20%20%20%20%20%20%20%20%20%20%20%20%20%20%20%20%7B%7D%0A%20%20%20%20%20%20%20%20%20%20%20%20%29.addTo%28map_87582643ab2540feb5a06184a194e90d%29%3B%0A%20%20%20%20%20%20%20%20%0A%20%20%20%20%0A%20%20%20%20%20%20%20%20var%20popup_4aafa0e645934097a9160056005b22a3%20%3D%20L.popup%28%7B%22maxWidth%22%3A%20%22100%25%22%7D%29%3B%0A%0A%20%20%20%20%20%20%20%20%0A%20%20%20%20%20%20%20%20%20%20%20%20var%20html_e34d0160440c42e8a69b2ae34b18bd9f%20%3D%20%24%28%60%3Cdiv%20id%3D%22html_e34d0160440c42e8a69b2ae34b18bd9f%22%20style%3D%22width%3A%20100.0%25%3B%20height%3A%20100.0%25%3B%22%3ESALIDA%20CALZADA%3C/div%3E%60%29%5B0%5D%3B%0A%20%20%20%20%20%20%20%20%20%20%20%20popup_4aafa0e645934097a9160056005b22a3.setContent%28html_e34d0160440c42e8a69b2ae34b18bd9f%29%3B%0A%20%20%20%20%20%20%20%20%0A%0A%20%20%20%20%20%20%20%20marker_b283c595aa01493f94cf4de36bb751d7.bindPopup%28popup_4aafa0e645934097a9160056005b22a3%29%0A%20%20%20%20%20%20%20%20%3B%0A%0A%20%20%20%20%20%20%20%20%0A%20%20%20%20%0A%20%20%20%20%0A%20%20%20%20%20%20%20%20%20%20%20%20var%20marker_61a2932df4c649ebb4b020f262b9c680%20%3D%20L.marker%28%0A%20%20%20%20%20%20%20%20%20%20%20%20%20%20%20%20%5B-0.8735234620830842%2C%2041.65507219335992%5D%2C%0A%20%20%20%20%20%20%20%20%20%20%20%20%20%20%20%20%7B%7D%0A%20%20%20%20%20%20%20%20%20%20%20%20%29.addTo%28map_87582643ab2540feb5a06184a194e90d%29%3B%0A%20%20%20%20%20%20%20%20%0A%20%20%20%20%0A%20%20%20%20%20%20%20%20var%20popup_34727ed927144493a718eba35006a705%20%3D%20L.popup%28%7B%22maxWidth%22%3A%20%22100%25%22%7D%29%3B%0A%0A%20%20%20%20%20%20%20%20%0A%20%20%20%20%20%20%20%20%20%20%20%20var%20html_ba1fb80e5a8f41b8be219b4f5c2d2f16%20%3D%20%24%28%60%3Cdiv%20id%3D%22html_ba1fb80e5a8f41b8be219b4f5c2d2f16%22%20style%3D%22width%3A%20100.0%25%3B%20height%3A%20100.0%25%3B%22%3ECOLIS%20FRONTOLATERAL%3C/div%3E%60%29%5B0%5D%3B%0A%20%20%20%20%20%20%20%20%20%20%20%20popup_34727ed927144493a718eba35006a705.setContent%28html_ba1fb80e5a8f41b8be219b4f5c2d2f16%29%3B%0A%20%20%20%20%20%20%20%20%0A%0A%20%20%20%20%20%20%20%20marker_61a2932df4c649ebb4b020f262b9c680.bindPopup%28popup_34727ed927144493a718eba35006a705%29%0A%20%20%20%20%20%20%20%20%3B%0A%0A%20%20%20%20%20%20%20%20%0A%20%20%20%20%0A%20%20%20%20%0A%20%20%20%20%20%20%20%20%20%20%20%20var%20marker_327042525dc644178ce22ac1a6bb3b30%20%3D%20L.marker%28%0A%20%20%20%20%20%20%20%20%20%20%20%20%20%20%20%20%5B-0.8869504077778204%2C%2041.65022964156985%5D%2C%0A%20%20%20%20%20%20%20%20%20%20%20%20%20%20%20%20%7B%7D%0A%20%20%20%20%20%20%20%20%20%20%20%20%29.addTo%28map_87582643ab2540feb5a06184a194e90d%29%3B%0A%20%20%20%20%20%20%20%20%0A%20%20%20%20%0A%20%20%20%20%20%20%20%20var%20popup_c776f02c7fa0440b9d83a336a10377ef%20%3D%20L.popup%28%7B%22maxWidth%22%3A%20%22100%25%22%7D%29%3B%0A%0A%20%20%20%20%20%20%20%20%0A%20%20%20%20%20%20%20%20%20%20%20%20var%20html_a7ed1a50793d49548e7062fc0b07ca90%20%3D%20%24%28%60%3Cdiv%20id%3D%22html_a7ed1a50793d49548e7062fc0b07ca90%22%20style%3D%22width%3A%20100.0%25%3B%20height%3A%20100.0%25%3B%22%3ESALIDA%20CALZADA%3C/div%3E%60%29%5B0%5D%3B%0A%20%20%20%20%20%20%20%20%20%20%20%20popup_c776f02c7fa0440b9d83a336a10377ef.setContent%28html_a7ed1a50793d49548e7062fc0b07ca90%29%3B%0A%20%20%20%20%20%20%20%20%0A%0A%20%20%20%20%20%20%20%20marker_327042525dc644178ce22ac1a6bb3b30.bindPopup%28popup_c776f02c7fa0440b9d83a336a10377ef%29%0A%20%20%20%20%20%20%20%20%3B%0A%0A%20%20%20%20%20%20%20%20%0A%20%20%20%20%0A%3C/script%3E onload=\"this.contentDocument.open();this.contentDocument.write(    decodeURIComponent(this.getAttribute('data-html')));this.contentDocument.close();\" allowfullscreen webkitallowfullscreen mozallowfullscreen></iframe></div></div>"
      ],
      "text/plain": [
       "<folium.folium.Map at 0x272212d8e20>"
      ]
     },
     "execution_count": 93,
     "metadata": {},
     "output_type": "execute_result"
    }
   ],
   "source": [
    "for indice, fila in df_accidentes.iterrows():\n",
    "    marcador = folium.Marker([fila['lat'],fila['long']],\\\n",
    "                            popup=fila['type'])\n",
    "    mapa.add_child(marcador)\n",
    "mapa"
   ]
  },
  {
   "cell_type": "markdown",
   "id": "682f64c8",
   "metadata": {},
   "source": [
    "Realizar un bucle para crear un mapa con cada uno de los puntos de nuestra tabla"
   ]
  }
 ],
 "metadata": {
  "kernelspec": {
   "display_name": "Python 3",
   "language": "python",
   "name": "python3"
  },
  "language_info": {
   "codemirror_mode": {
    "name": "ipython",
    "version": 3
   },
   "file_extension": ".py",
   "mimetype": "text/x-python",
   "name": "python",
   "nbconvert_exporter": "python",
   "pygments_lexer": "ipython3",
   "version": "3.8.8"
  }
 },
 "nbformat": 4,
 "nbformat_minor": 5
}
